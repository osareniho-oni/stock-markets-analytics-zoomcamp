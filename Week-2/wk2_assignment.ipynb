{
  "cells": [
    {
      "cell_type": "markdown",
      "id": "bf62f75d-2edd-459f-8ab8-87e67c32f90e",
      "metadata": {
        "id": "bf62f75d-2edd-459f-8ab8-87e67c32f90e"
      },
      "source": [
        "# Module 2 Homework\n",
        "In this homework, we're going to combine data from various sources to process it in Pandas and generate additional fields.\n",
        "\n",
        "If not stated otherwise, please use the Colab covered at the livestream to re-use the code snippets."
      ]
    },
    {
      "cell_type": "markdown",
      "id": "9d2b9ae4-86a4-4111-b173-c526afc6853e",
      "metadata": {
        "id": "9d2b9ae4-86a4-4111-b173-c526afc6853e"
      },
      "source": [
        "## Imports python libraries"
      ]
    },
    {
      "cell_type": "code",
      "execution_count": null,
      "id": "e1189505-4b6a-4a20-a56f-30a9180e8189",
      "metadata": {
        "id": "e1189505-4b6a-4a20-a56f-30a9180e8189"
      },
      "outputs": [],
      "source": [
        "# Import Python Libraries\n",
        "import numpy as np\n",
        "import pandas as pd\n",
        "import requests\n",
        "from IPython.display import display\n",
        "from collections import Counter\n",
        "\n",
        "# Finance data sources\n",
        "import yfinance as yf\n",
        "import pandas_datareader as pdr\n",
        "# import eurostat\n",
        "# import talib\n",
        "\n",
        "# Data visualization libraries\n",
        "import plotly.graph_objs as go\n",
        "import plotly.express as px\n",
        "import matplotlib.pyplot as plt\n",
        "\n",
        "import time\n",
        "from datetime import date\n",
        "from io import StringIO"
      ]
    },
    {
      "cell_type": "markdown",
      "id": "4124be66-2a4c-4e01-bf5a-9e4cd51272d4",
      "metadata": {
        "id": "4124be66-2a4c-4e01-bf5a-9e4cd51272d4"
      },
      "source": [
        "## Question 1: IPO Filings Web Scraping and Data Processing\n",
        "What's the total sum ($m) of 2023 filings that happened on Fridays?\n",
        "\n",
        "Re-use the [Code Snippet 1] example to get the data from web for this endpoint: https://stockanalysis.com/ipos/filings/ Convert the 'Filing Date' to datetime(), 'Shares Offered' to float64 (if '-' is encountered, populate with NaNs). Define a new field 'Avg_price' based on the \"Price Range\", which equals to NaN if no price is specified, to the price (if only one number is provided), or to the average of 2 prices (if a range is given). You may be inspired by the function extract_numbers() in [Code Snippet 4], or you can write your own function to \"parse\" a string. Define a column \"Shares_offered_value\", which equals to \"Shares Offered\" * \"Avg_price\" (when both columns are defined; otherwise, it's NaN)\n",
        "\n",
        "Find the total sum in $m (millions of USD, closest INTEGER number) for all filings during 2023, which happened on Fridays (Date.dt.dayofweek()==4). You should see 32 records in total, 25 of it is not null.\n",
        "\n",
        "(additional: you can read about S-1 IPO filing to understand the context)"
      ]
    },
    {
      "cell_type": "code",
      "execution_count": null,
      "id": "e88c9dda-86e0-4524-bc04-bef8262e32e0",
      "metadata": {
        "id": "e88c9dda-86e0-4524-bc04-bef8262e32e0"
      },
      "outputs": [],
      "source": [
        "# Define headers with a user-agent to mimic a web browser\n",
        "headers = {\n",
        "    \"User-Agent\": \"Mozilla/5.0 (Windows NT 10.0; Win64; x64) AppleWebKit/537.36 (KHTML, like Gecko) Chrome/58.0.3029.110 Safari/537.3\"\n",
        "}\n",
        "\n",
        "# URL of the webpage\n",
        "url = \"https://stockanalysis.com/ipos/filings/\"\n",
        "\n",
        "response = requests.get(url, headers=headers)\n",
        "\n",
        "ipos_filings_df = pd.read_html(StringIO(response.text))"
      ]
    },
    {
      "cell_type": "code",
      "execution_count": null,
      "id": "966cfbd7-e312-4dda-9054-c6748ba6644a",
      "metadata": {
        "colab": {
          "base_uri": "https://localhost:8080/"
        },
        "id": "966cfbd7-e312-4dda-9054-c6748ba6644a",
        "outputId": "2dc4c9b3-1b5f-43bd-c132-1e54785132eb"
      },
      "outputs": [
        {
          "name": "stdout",
          "output_type": "stream",
          "text": [
            "<class 'pandas.core.frame.DataFrame'>\n",
            "RangeIndex: 325 entries, 0 to 324\n",
            "Data columns (total 5 columns):\n",
            " #   Column          Non-Null Count  Dtype \n",
            "---  ------          --------------  ----- \n",
            " 0   Filing Date     325 non-null    object\n",
            " 1   Symbol          325 non-null    object\n",
            " 2   Company Name    325 non-null    object\n",
            " 3   Price Range     325 non-null    object\n",
            " 4   Shares Offered  325 non-null    object\n",
            "dtypes: object(5)\n",
            "memory usage: 12.8+ KB\n"
          ]
        }
      ],
      "source": [
        "filings = ipos_filings_df[0]\n",
        "filings.info()"
      ]
    },
    {
      "cell_type": "code",
      "execution_count": null,
      "id": "4a45f6ee-7a2e-42b4-8d51-5df4b46f3cdd",
      "metadata": {
        "colab": {
          "base_uri": "https://localhost:8080/",
          "height": 206
        },
        "id": "4a45f6ee-7a2e-42b4-8d51-5df4b46f3cdd",
        "outputId": "5546b2b8-0718-41a9-b928-d1ee3206e64d"
      },
      "outputs": [
        {
          "data": {
            "application/vnd.google.colaboratory.intrinsic+json": {
              "summary": "{\n  \"name\": \"filings\",\n  \"rows\": 325,\n  \"fields\": [\n    {\n      \"column\": \"Filing Date\",\n      \"properties\": {\n        \"dtype\": \"object\",\n        \"num_unique_values\": 256,\n        \"samples\": [\n          \"Mar 29, 2021\",\n          \"Apr 12, 2024\",\n          \"Sep 7, 2023\"\n        ],\n        \"semantic_type\": \"\",\n        \"description\": \"\"\n      }\n    },\n    {\n      \"column\": \"Symbol\",\n      \"properties\": {\n        \"dtype\": \"string\",\n        \"num_unique_values\": 325,\n        \"samples\": [\n          \"WYTC\",\n          \"NAMI\",\n          \"BXHA\"\n        ],\n        \"semantic_type\": \"\",\n        \"description\": \"\"\n      }\n    },\n    {\n      \"column\": \"Company Name\",\n      \"properties\": {\n        \"dtype\": \"string\",\n        \"num_unique_values\": 325,\n        \"samples\": [\n          \"Wytec International, Inc.\",\n          \"Jinxin Technology Holding Company\",\n          \"Bombax Healthcare Acquisition Corporation\"\n        ],\n        \"semantic_type\": \"\",\n        \"description\": \"\"\n      }\n    },\n    {\n      \"column\": \"Price Range\",\n      \"properties\": {\n        \"dtype\": \"category\",\n        \"num_unique_values\": 45,\n        \"samples\": [\n          \"$7.00 - $9.00\",\n          \"$4.35 - $6.35\",\n          \"$20.00\"\n        ],\n        \"semantic_type\": \"\",\n        \"description\": \"\"\n      }\n    },\n    {\n      \"column\": \"Shares Offered\",\n      \"properties\": {\n        \"dtype\": \"category\",\n        \"num_unique_values\": 83,\n        \"samples\": [\n          \"400000\",\n          \"3750000\",\n          \"2200000\"\n        ],\n        \"semantic_type\": \"\",\n        \"description\": \"\"\n      }\n    }\n  ]\n}",
              "type": "dataframe",
              "variable_name": "filings"
            },
            "text/html": [
              "\n",
              "  <div id=\"df-b761b345-491f-43b3-8730-a2d9c73efbed\" class=\"colab-df-container\">\n",
              "    <div>\n",
              "<style scoped>\n",
              "    .dataframe tbody tr th:only-of-type {\n",
              "        vertical-align: middle;\n",
              "    }\n",
              "\n",
              "    .dataframe tbody tr th {\n",
              "        vertical-align: top;\n",
              "    }\n",
              "\n",
              "    .dataframe thead th {\n",
              "        text-align: right;\n",
              "    }\n",
              "</style>\n",
              "<table border=\"1\" class=\"dataframe\">\n",
              "  <thead>\n",
              "    <tr style=\"text-align: right;\">\n",
              "      <th></th>\n",
              "      <th>Filing Date</th>\n",
              "      <th>Symbol</th>\n",
              "      <th>Company Name</th>\n",
              "      <th>Price Range</th>\n",
              "      <th>Shares Offered</th>\n",
              "    </tr>\n",
              "  </thead>\n",
              "  <tbody>\n",
              "    <tr>\n",
              "      <th>0</th>\n",
              "      <td>Apr 29, 2024</td>\n",
              "      <td>HWEC</td>\n",
              "      <td>HW Electro Co., Ltd.</td>\n",
              "      <td>$3.00</td>\n",
              "      <td>3750000</td>\n",
              "    </tr>\n",
              "    <tr>\n",
              "      <th>1</th>\n",
              "      <td>Apr 29, 2024</td>\n",
              "      <td>DTSQ</td>\n",
              "      <td>DT Cloud Star Acquisition Corporation</td>\n",
              "      <td>$10.00</td>\n",
              "      <td>6000000</td>\n",
              "    </tr>\n",
              "    <tr>\n",
              "      <th>2</th>\n",
              "      <td>Apr 26, 2024</td>\n",
              "      <td>EURK</td>\n",
              "      <td>Eureka Acquisition Corp</td>\n",
              "      <td>$10.00</td>\n",
              "      <td>5000000</td>\n",
              "    </tr>\n",
              "    <tr>\n",
              "      <th>3</th>\n",
              "      <td>Apr 26, 2024</td>\n",
              "      <td>HDL</td>\n",
              "      <td>Super Hi International Holding Ltd.</td>\n",
              "      <td>-</td>\n",
              "      <td>-</td>\n",
              "    </tr>\n",
              "    <tr>\n",
              "      <th>4</th>\n",
              "      <td>Apr 22, 2024</td>\n",
              "      <td>DRJT</td>\n",
              "      <td>Derun Group Inc</td>\n",
              "      <td>$5.00</td>\n",
              "      <td>-</td>\n",
              "    </tr>\n",
              "  </tbody>\n",
              "</table>\n",
              "</div>\n",
              "    <div class=\"colab-df-buttons\">\n",
              "\n",
              "  <div class=\"colab-df-container\">\n",
              "    <button class=\"colab-df-convert\" onclick=\"convertToInteractive('df-b761b345-491f-43b3-8730-a2d9c73efbed')\"\n",
              "            title=\"Convert this dataframe to an interactive table.\"\n",
              "            style=\"display:none;\">\n",
              "\n",
              "  <svg xmlns=\"http://www.w3.org/2000/svg\" height=\"24px\" viewBox=\"0 -960 960 960\">\n",
              "    <path d=\"M120-120v-720h720v720H120Zm60-500h600v-160H180v160Zm220 220h160v-160H400v160Zm0 220h160v-160H400v160ZM180-400h160v-160H180v160Zm440 0h160v-160H620v160ZM180-180h160v-160H180v160Zm440 0h160v-160H620v160Z\"/>\n",
              "  </svg>\n",
              "    </button>\n",
              "\n",
              "  <style>\n",
              "    .colab-df-container {\n",
              "      display:flex;\n",
              "      gap: 12px;\n",
              "    }\n",
              "\n",
              "    .colab-df-convert {\n",
              "      background-color: #E8F0FE;\n",
              "      border: none;\n",
              "      border-radius: 50%;\n",
              "      cursor: pointer;\n",
              "      display: none;\n",
              "      fill: #1967D2;\n",
              "      height: 32px;\n",
              "      padding: 0 0 0 0;\n",
              "      width: 32px;\n",
              "    }\n",
              "\n",
              "    .colab-df-convert:hover {\n",
              "      background-color: #E2EBFA;\n",
              "      box-shadow: 0px 1px 2px rgba(60, 64, 67, 0.3), 0px 1px 3px 1px rgba(60, 64, 67, 0.15);\n",
              "      fill: #174EA6;\n",
              "    }\n",
              "\n",
              "    .colab-df-buttons div {\n",
              "      margin-bottom: 4px;\n",
              "    }\n",
              "\n",
              "    [theme=dark] .colab-df-convert {\n",
              "      background-color: #3B4455;\n",
              "      fill: #D2E3FC;\n",
              "    }\n",
              "\n",
              "    [theme=dark] .colab-df-convert:hover {\n",
              "      background-color: #434B5C;\n",
              "      box-shadow: 0px 1px 3px 1px rgba(0, 0, 0, 0.15);\n",
              "      filter: drop-shadow(0px 1px 2px rgba(0, 0, 0, 0.3));\n",
              "      fill: #FFFFFF;\n",
              "    }\n",
              "  </style>\n",
              "\n",
              "    <script>\n",
              "      const buttonEl =\n",
              "        document.querySelector('#df-b761b345-491f-43b3-8730-a2d9c73efbed button.colab-df-convert');\n",
              "      buttonEl.style.display =\n",
              "        google.colab.kernel.accessAllowed ? 'block' : 'none';\n",
              "\n",
              "      async function convertToInteractive(key) {\n",
              "        const element = document.querySelector('#df-b761b345-491f-43b3-8730-a2d9c73efbed');\n",
              "        const dataTable =\n",
              "          await google.colab.kernel.invokeFunction('convertToInteractive',\n",
              "                                                    [key], {});\n",
              "        if (!dataTable) return;\n",
              "\n",
              "        const docLinkHtml = 'Like what you see? Visit the ' +\n",
              "          '<a target=\"_blank\" href=https://colab.research.google.com/notebooks/data_table.ipynb>data table notebook</a>'\n",
              "          + ' to learn more about interactive tables.';\n",
              "        element.innerHTML = '';\n",
              "        dataTable['output_type'] = 'display_data';\n",
              "        await google.colab.output.renderOutput(dataTable, element);\n",
              "        const docLink = document.createElement('div');\n",
              "        docLink.innerHTML = docLinkHtml;\n",
              "        element.appendChild(docLink);\n",
              "      }\n",
              "    </script>\n",
              "  </div>\n",
              "\n",
              "\n",
              "<div id=\"df-5a8ddd2d-8152-49a8-89bb-80badd5e65b4\">\n",
              "  <button class=\"colab-df-quickchart\" onclick=\"quickchart('df-5a8ddd2d-8152-49a8-89bb-80badd5e65b4')\"\n",
              "            title=\"Suggest charts\"\n",
              "            style=\"display:none;\">\n",
              "\n",
              "<svg xmlns=\"http://www.w3.org/2000/svg\" height=\"24px\"viewBox=\"0 0 24 24\"\n",
              "     width=\"24px\">\n",
              "    <g>\n",
              "        <path d=\"M19 3H5c-1.1 0-2 .9-2 2v14c0 1.1.9 2 2 2h14c1.1 0 2-.9 2-2V5c0-1.1-.9-2-2-2zM9 17H7v-7h2v7zm4 0h-2V7h2v10zm4 0h-2v-4h2v4z\"/>\n",
              "    </g>\n",
              "</svg>\n",
              "  </button>\n",
              "\n",
              "<style>\n",
              "  .colab-df-quickchart {\n",
              "      --bg-color: #E8F0FE;\n",
              "      --fill-color: #1967D2;\n",
              "      --hover-bg-color: #E2EBFA;\n",
              "      --hover-fill-color: #174EA6;\n",
              "      --disabled-fill-color: #AAA;\n",
              "      --disabled-bg-color: #DDD;\n",
              "  }\n",
              "\n",
              "  [theme=dark] .colab-df-quickchart {\n",
              "      --bg-color: #3B4455;\n",
              "      --fill-color: #D2E3FC;\n",
              "      --hover-bg-color: #434B5C;\n",
              "      --hover-fill-color: #FFFFFF;\n",
              "      --disabled-bg-color: #3B4455;\n",
              "      --disabled-fill-color: #666;\n",
              "  }\n",
              "\n",
              "  .colab-df-quickchart {\n",
              "    background-color: var(--bg-color);\n",
              "    border: none;\n",
              "    border-radius: 50%;\n",
              "    cursor: pointer;\n",
              "    display: none;\n",
              "    fill: var(--fill-color);\n",
              "    height: 32px;\n",
              "    padding: 0;\n",
              "    width: 32px;\n",
              "  }\n",
              "\n",
              "  .colab-df-quickchart:hover {\n",
              "    background-color: var(--hover-bg-color);\n",
              "    box-shadow: 0 1px 2px rgba(60, 64, 67, 0.3), 0 1px 3px 1px rgba(60, 64, 67, 0.15);\n",
              "    fill: var(--button-hover-fill-color);\n",
              "  }\n",
              "\n",
              "  .colab-df-quickchart-complete:disabled,\n",
              "  .colab-df-quickchart-complete:disabled:hover {\n",
              "    background-color: var(--disabled-bg-color);\n",
              "    fill: var(--disabled-fill-color);\n",
              "    box-shadow: none;\n",
              "  }\n",
              "\n",
              "  .colab-df-spinner {\n",
              "    border: 2px solid var(--fill-color);\n",
              "    border-color: transparent;\n",
              "    border-bottom-color: var(--fill-color);\n",
              "    animation:\n",
              "      spin 1s steps(1) infinite;\n",
              "  }\n",
              "\n",
              "  @keyframes spin {\n",
              "    0% {\n",
              "      border-color: transparent;\n",
              "      border-bottom-color: var(--fill-color);\n",
              "      border-left-color: var(--fill-color);\n",
              "    }\n",
              "    20% {\n",
              "      border-color: transparent;\n",
              "      border-left-color: var(--fill-color);\n",
              "      border-top-color: var(--fill-color);\n",
              "    }\n",
              "    30% {\n",
              "      border-color: transparent;\n",
              "      border-left-color: var(--fill-color);\n",
              "      border-top-color: var(--fill-color);\n",
              "      border-right-color: var(--fill-color);\n",
              "    }\n",
              "    40% {\n",
              "      border-color: transparent;\n",
              "      border-right-color: var(--fill-color);\n",
              "      border-top-color: var(--fill-color);\n",
              "    }\n",
              "    60% {\n",
              "      border-color: transparent;\n",
              "      border-right-color: var(--fill-color);\n",
              "    }\n",
              "    80% {\n",
              "      border-color: transparent;\n",
              "      border-right-color: var(--fill-color);\n",
              "      border-bottom-color: var(--fill-color);\n",
              "    }\n",
              "    90% {\n",
              "      border-color: transparent;\n",
              "      border-bottom-color: var(--fill-color);\n",
              "    }\n",
              "  }\n",
              "</style>\n",
              "\n",
              "  <script>\n",
              "    async function quickchart(key) {\n",
              "      const quickchartButtonEl =\n",
              "        document.querySelector('#' + key + ' button');\n",
              "      quickchartButtonEl.disabled = true;  // To prevent multiple clicks.\n",
              "      quickchartButtonEl.classList.add('colab-df-spinner');\n",
              "      try {\n",
              "        const charts = await google.colab.kernel.invokeFunction(\n",
              "            'suggestCharts', [key], {});\n",
              "      } catch (error) {\n",
              "        console.error('Error during call to suggestCharts:', error);\n",
              "      }\n",
              "      quickchartButtonEl.classList.remove('colab-df-spinner');\n",
              "      quickchartButtonEl.classList.add('colab-df-quickchart-complete');\n",
              "    }\n",
              "    (() => {\n",
              "      let quickchartButtonEl =\n",
              "        document.querySelector('#df-5a8ddd2d-8152-49a8-89bb-80badd5e65b4 button');\n",
              "      quickchartButtonEl.style.display =\n",
              "        google.colab.kernel.accessAllowed ? 'block' : 'none';\n",
              "    })();\n",
              "  </script>\n",
              "</div>\n",
              "\n",
              "    </div>\n",
              "  </div>\n"
            ],
            "text/plain": [
              "    Filing Date Symbol                           Company Name Price Range  \\\n",
              "0  Apr 29, 2024   HWEC                   HW Electro Co., Ltd.       $3.00   \n",
              "1  Apr 29, 2024   DTSQ  DT Cloud Star Acquisition Corporation      $10.00   \n",
              "2  Apr 26, 2024   EURK                Eureka Acquisition Corp      $10.00   \n",
              "3  Apr 26, 2024    HDL    Super Hi International Holding Ltd.           -   \n",
              "4  Apr 22, 2024   DRJT                        Derun Group Inc       $5.00   \n",
              "\n",
              "  Shares Offered  \n",
              "0        3750000  \n",
              "1        6000000  \n",
              "2        5000000  \n",
              "3              -  \n",
              "4              -  "
            ]
          },
          "execution_count": 4,
          "metadata": {},
          "output_type": "execute_result"
        }
      ],
      "source": [
        "filings.head()"
      ]
    },
    {
      "cell_type": "code",
      "execution_count": null,
      "id": "eefd9ed8-450c-453d-aae9-270ba126b4e5",
      "metadata": {
        "id": "eefd9ed8-450c-453d-aae9-270ba126b4e5"
      },
      "outputs": [],
      "source": [
        "# Create a function to calculate average price\n",
        "def calculate_avg_price(price_range):\n",
        "    if not price_range:\n",
        "        return np.nan\n",
        "    elif isinstance(price_range, float):\n",
        "        # Convert float to string\n",
        "        price_range = str(price_range)\n",
        "\n",
        "    if '-' in price_range:\n",
        "        min_price, max_price = map(float, price_range.split('-'))\n",
        "        return (min_price + max_price) / 2\n",
        "    else:\n",
        "        return float(price_range)\n",
        "\n",
        "\n",
        "# Create function to wrangle dataset\n",
        "def wrangle(url):\n",
        "    # Read data from url\n",
        "    response = requests.get(url, headers=headers)\n",
        "    df = pd.read_html(StringIO(response.text))\n",
        "    df = df[0]\n",
        "\n",
        "    # Convert Filing Date to datetime format\n",
        "    df['Filing Date'] = pd.to_datetime(df['Filing Date'])\n",
        "\n",
        "    # Convert  - in Price Range column to NAN and remove $ sign\n",
        "    # df['Price Range'] = pd.to_numeric(df['Price Range'].str.replace('$', ''), errors='coerce')\n",
        "    df['Price Range'] = df['Price Range'].str.replace('$', '').replace('-', float('nan'))\n",
        "\n",
        "    # Convert Shares Offered column values to numeric\n",
        "    df['Shares Offered'] = pd.to_numeric(df['Shares Offered'], errors='coerce')\n",
        "\n",
        "    # Apply the calculate_avg_price function to create the 'Average Price' column\n",
        "    df['Average Price'] = df['Price Range'].apply(calculate_avg_price)\n",
        "\n",
        "    # Create Shares Offered Value column\n",
        "    df['Shares_offered_value'] = df['Shares Offered'] * df['Average Price'] / 1e6\n",
        "\n",
        "    # Create Day of Week and Year columns\n",
        "    df['Day of Week'] = df['Filing Date'].dt.strftime('%A')\n",
        "    df['Year'] = df['Filing Date'].dt.year\n",
        "    # filings['Dayofweek'] = filings['Filing Date'].dt.dayofweek\n",
        "\n",
        "    # Create a subset DataFrame for Year == 2023\n",
        "    df = df[df['Year'] == 2023]\n",
        "\n",
        "    # Create a subset DataFrame for Day of Week == Fridays\n",
        "    df =  df[df['Day of Week'] == 'Friday']\n",
        "\n",
        "    return df"
      ]
    },
    {
      "cell_type": "code",
      "execution_count": null,
      "id": "fcc8c2d1-36d1-4104-9631-d6f4e8d8a8db",
      "metadata": {
        "id": "fcc8c2d1-36d1-4104-9631-d6f4e8d8a8db"
      },
      "outputs": [],
      "source": [
        "filings_2023 = wrangle(url)"
      ]
    },
    {
      "cell_type": "code",
      "execution_count": null,
      "id": "5ce07cbd-2732-4610-8d5e-17d8f3418ac1",
      "metadata": {
        "colab": {
          "base_uri": "https://localhost:8080/",
          "height": 206
        },
        "id": "5ce07cbd-2732-4610-8d5e-17d8f3418ac1",
        "outputId": "44f87ab7-59df-4cc3-8b41-2a5c6853054b"
      },
      "outputs": [
        {
          "data": {
            "application/vnd.google.colaboratory.intrinsic+json": {
              "summary": "{\n  \"name\": \"filings_2023\",\n  \"rows\": 32,\n  \"fields\": [\n    {\n      \"column\": \"Filing Date\",\n      \"properties\": {\n        \"dtype\": \"date\",\n        \"min\": \"2023-01-13 00:00:00\",\n        \"max\": \"2023-12-29 00:00:00\",\n        \"num_unique_values\": 22,\n        \"samples\": [\n          \"2023-12-29 00:00:00\",\n          \"2023-06-23 00:00:00\",\n          \"2023-09-15 00:00:00\"\n        ],\n        \"semantic_type\": \"\",\n        \"description\": \"\"\n      }\n    },\n    {\n      \"column\": \"Symbol\",\n      \"properties\": {\n        \"dtype\": \"string\",\n        \"num_unique_values\": 32,\n        \"samples\": [\n          \"WETO\",\n          \"AZI\",\n          \"OSTX\"\n        ],\n        \"semantic_type\": \"\",\n        \"description\": \"\"\n      }\n    },\n    {\n      \"column\": \"Company Name\",\n      \"properties\": {\n        \"dtype\": \"string\",\n        \"num_unique_values\": 32,\n        \"samples\": [\n          \"Webus International Limited\",\n          \"Autozi Internet Technology (Global) Ltd.\",\n          \"OS Therapies Incorporated\"\n        ],\n        \"semantic_type\": \"\",\n        \"description\": \"\"\n      }\n    },\n    {\n      \"column\": \"Price Range\",\n      \"properties\": {\n        \"dtype\": \"category\",\n        \"num_unique_values\": 10,\n        \"samples\": [\n          \"5.00\",\n          \"4.00 - 6.00\",\n          \"20.00\"\n        ],\n        \"semantic_type\": \"\",\n        \"description\": \"\"\n      }\n    },\n    {\n      \"column\": \"Shares Offered\",\n      \"properties\": {\n        \"dtype\": \"number\",\n        \"std\": 1322215.2497481895,\n        \"min\": 360000.0,\n        \"max\": 6800000.0,\n        \"num_unique_values\": 18,\n        \"samples\": [\n          1200000.0,\n          2000000.0,\n          1250000.0\n        ],\n        \"semantic_type\": \"\",\n        \"description\": \"\"\n      }\n    },\n    {\n      \"column\": \"Average Price\",\n      \"properties\": {\n        \"dtype\": \"number\",\n        \"std\": 3.111537669170448,\n        \"min\": 4.0,\n        \"max\": 20.0,\n        \"num_unique_values\": 7,\n        \"samples\": [\n          4.0,\n          5.0,\n          6.5\n        ],\n        \"semantic_type\": \"\",\n        \"description\": \"\"\n      }\n    },\n    {\n      \"column\": \"Shares_offered_value\",\n      \"properties\": {\n        \"dtype\": \"number\",\n        \"std\": 7.7767291753452925,\n        \"min\": 4.8,\n        \"max\": 42.5,\n        \"num_unique_values\": 21,\n        \"samples\": [\n          4.8,\n          15.0,\n          9.6\n        ],\n        \"semantic_type\": \"\",\n        \"description\": \"\"\n      }\n    },\n    {\n      \"column\": \"Day of Week\",\n      \"properties\": {\n        \"dtype\": \"category\",\n        \"num_unique_values\": 1,\n        \"samples\": [\n          \"Friday\"\n        ],\n        \"semantic_type\": \"\",\n        \"description\": \"\"\n      }\n    },\n    {\n      \"column\": \"Year\",\n      \"properties\": {\n        \"dtype\": \"int32\",\n        \"num_unique_values\": 1,\n        \"samples\": [\n          2023\n        ],\n        \"semantic_type\": \"\",\n        \"description\": \"\"\n      }\n    }\n  ]\n}",
              "type": "dataframe",
              "variable_name": "filings_2023"
            },
            "text/html": [
              "\n",
              "  <div id=\"df-84597268-9e82-463e-b551-530d352cda31\" class=\"colab-df-container\">\n",
              "    <div>\n",
              "<style scoped>\n",
              "    .dataframe tbody tr th:only-of-type {\n",
              "        vertical-align: middle;\n",
              "    }\n",
              "\n",
              "    .dataframe tbody tr th {\n",
              "        vertical-align: top;\n",
              "    }\n",
              "\n",
              "    .dataframe thead th {\n",
              "        text-align: right;\n",
              "    }\n",
              "</style>\n",
              "<table border=\"1\" class=\"dataframe\">\n",
              "  <thead>\n",
              "    <tr style=\"text-align: right;\">\n",
              "      <th></th>\n",
              "      <th>Filing Date</th>\n",
              "      <th>Symbol</th>\n",
              "      <th>Company Name</th>\n",
              "      <th>Price Range</th>\n",
              "      <th>Shares Offered</th>\n",
              "      <th>Average Price</th>\n",
              "      <th>Shares_offered_value</th>\n",
              "      <th>Day of Week</th>\n",
              "      <th>Year</th>\n",
              "    </tr>\n",
              "  </thead>\n",
              "  <tbody>\n",
              "    <tr>\n",
              "      <th>49</th>\n",
              "      <td>2023-12-29</td>\n",
              "      <td>LEC</td>\n",
              "      <td>Lafayette Energy Corp</td>\n",
              "      <td>3.50 - 4.50</td>\n",
              "      <td>1200000.0</td>\n",
              "      <td>4.0</td>\n",
              "      <td>4.8</td>\n",
              "      <td>Friday</td>\n",
              "      <td>2023</td>\n",
              "    </tr>\n",
              "    <tr>\n",
              "      <th>50</th>\n",
              "      <td>2023-12-29</td>\n",
              "      <td>EPSM</td>\n",
              "      <td>Epsium Enterprise Limited</td>\n",
              "      <td>NaN</td>\n",
              "      <td>NaN</td>\n",
              "      <td>NaN</td>\n",
              "      <td>NaN</td>\n",
              "      <td>Friday</td>\n",
              "      <td>2023</td>\n",
              "    </tr>\n",
              "    <tr>\n",
              "      <th>53</th>\n",
              "      <td>2023-12-22</td>\n",
              "      <td>CHLW</td>\n",
              "      <td>Chun Hui Le Wan International Holding Group Ltd</td>\n",
              "      <td>NaN</td>\n",
              "      <td>NaN</td>\n",
              "      <td>NaN</td>\n",
              "      <td>NaN</td>\n",
              "      <td>Friday</td>\n",
              "      <td>2023</td>\n",
              "    </tr>\n",
              "    <tr>\n",
              "      <th>54</th>\n",
              "      <td>2023-12-22</td>\n",
              "      <td>LZMH</td>\n",
              "      <td>LZ Technology Holdings Limited</td>\n",
              "      <td>NaN</td>\n",
              "      <td>NaN</td>\n",
              "      <td>NaN</td>\n",
              "      <td>NaN</td>\n",
              "      <td>Friday</td>\n",
              "      <td>2023</td>\n",
              "    </tr>\n",
              "    <tr>\n",
              "      <th>59</th>\n",
              "      <td>2023-12-15</td>\n",
              "      <td>GIT</td>\n",
              "      <td>Going International Holding Company Limited</td>\n",
              "      <td>NaN</td>\n",
              "      <td>NaN</td>\n",
              "      <td>NaN</td>\n",
              "      <td>NaN</td>\n",
              "      <td>Friday</td>\n",
              "      <td>2023</td>\n",
              "    </tr>\n",
              "  </tbody>\n",
              "</table>\n",
              "</div>\n",
              "    <div class=\"colab-df-buttons\">\n",
              "\n",
              "  <div class=\"colab-df-container\">\n",
              "    <button class=\"colab-df-convert\" onclick=\"convertToInteractive('df-84597268-9e82-463e-b551-530d352cda31')\"\n",
              "            title=\"Convert this dataframe to an interactive table.\"\n",
              "            style=\"display:none;\">\n",
              "\n",
              "  <svg xmlns=\"http://www.w3.org/2000/svg\" height=\"24px\" viewBox=\"0 -960 960 960\">\n",
              "    <path d=\"M120-120v-720h720v720H120Zm60-500h600v-160H180v160Zm220 220h160v-160H400v160Zm0 220h160v-160H400v160ZM180-400h160v-160H180v160Zm440 0h160v-160H620v160ZM180-180h160v-160H180v160Zm440 0h160v-160H620v160Z\"/>\n",
              "  </svg>\n",
              "    </button>\n",
              "\n",
              "  <style>\n",
              "    .colab-df-container {\n",
              "      display:flex;\n",
              "      gap: 12px;\n",
              "    }\n",
              "\n",
              "    .colab-df-convert {\n",
              "      background-color: #E8F0FE;\n",
              "      border: none;\n",
              "      border-radius: 50%;\n",
              "      cursor: pointer;\n",
              "      display: none;\n",
              "      fill: #1967D2;\n",
              "      height: 32px;\n",
              "      padding: 0 0 0 0;\n",
              "      width: 32px;\n",
              "    }\n",
              "\n",
              "    .colab-df-convert:hover {\n",
              "      background-color: #E2EBFA;\n",
              "      box-shadow: 0px 1px 2px rgba(60, 64, 67, 0.3), 0px 1px 3px 1px rgba(60, 64, 67, 0.15);\n",
              "      fill: #174EA6;\n",
              "    }\n",
              "\n",
              "    .colab-df-buttons div {\n",
              "      margin-bottom: 4px;\n",
              "    }\n",
              "\n",
              "    [theme=dark] .colab-df-convert {\n",
              "      background-color: #3B4455;\n",
              "      fill: #D2E3FC;\n",
              "    }\n",
              "\n",
              "    [theme=dark] .colab-df-convert:hover {\n",
              "      background-color: #434B5C;\n",
              "      box-shadow: 0px 1px 3px 1px rgba(0, 0, 0, 0.15);\n",
              "      filter: drop-shadow(0px 1px 2px rgba(0, 0, 0, 0.3));\n",
              "      fill: #FFFFFF;\n",
              "    }\n",
              "  </style>\n",
              "\n",
              "    <script>\n",
              "      const buttonEl =\n",
              "        document.querySelector('#df-84597268-9e82-463e-b551-530d352cda31 button.colab-df-convert');\n",
              "      buttonEl.style.display =\n",
              "        google.colab.kernel.accessAllowed ? 'block' : 'none';\n",
              "\n",
              "      async function convertToInteractive(key) {\n",
              "        const element = document.querySelector('#df-84597268-9e82-463e-b551-530d352cda31');\n",
              "        const dataTable =\n",
              "          await google.colab.kernel.invokeFunction('convertToInteractive',\n",
              "                                                    [key], {});\n",
              "        if (!dataTable) return;\n",
              "\n",
              "        const docLinkHtml = 'Like what you see? Visit the ' +\n",
              "          '<a target=\"_blank\" href=https://colab.research.google.com/notebooks/data_table.ipynb>data table notebook</a>'\n",
              "          + ' to learn more about interactive tables.';\n",
              "        element.innerHTML = '';\n",
              "        dataTable['output_type'] = 'display_data';\n",
              "        await google.colab.output.renderOutput(dataTable, element);\n",
              "        const docLink = document.createElement('div');\n",
              "        docLink.innerHTML = docLinkHtml;\n",
              "        element.appendChild(docLink);\n",
              "      }\n",
              "    </script>\n",
              "  </div>\n",
              "\n",
              "\n",
              "<div id=\"df-f65b5c50-295e-411c-a94c-c478c7c8b656\">\n",
              "  <button class=\"colab-df-quickchart\" onclick=\"quickchart('df-f65b5c50-295e-411c-a94c-c478c7c8b656')\"\n",
              "            title=\"Suggest charts\"\n",
              "            style=\"display:none;\">\n",
              "\n",
              "<svg xmlns=\"http://www.w3.org/2000/svg\" height=\"24px\"viewBox=\"0 0 24 24\"\n",
              "     width=\"24px\">\n",
              "    <g>\n",
              "        <path d=\"M19 3H5c-1.1 0-2 .9-2 2v14c0 1.1.9 2 2 2h14c1.1 0 2-.9 2-2V5c0-1.1-.9-2-2-2zM9 17H7v-7h2v7zm4 0h-2V7h2v10zm4 0h-2v-4h2v4z\"/>\n",
              "    </g>\n",
              "</svg>\n",
              "  </button>\n",
              "\n",
              "<style>\n",
              "  .colab-df-quickchart {\n",
              "      --bg-color: #E8F0FE;\n",
              "      --fill-color: #1967D2;\n",
              "      --hover-bg-color: #E2EBFA;\n",
              "      --hover-fill-color: #174EA6;\n",
              "      --disabled-fill-color: #AAA;\n",
              "      --disabled-bg-color: #DDD;\n",
              "  }\n",
              "\n",
              "  [theme=dark] .colab-df-quickchart {\n",
              "      --bg-color: #3B4455;\n",
              "      --fill-color: #D2E3FC;\n",
              "      --hover-bg-color: #434B5C;\n",
              "      --hover-fill-color: #FFFFFF;\n",
              "      --disabled-bg-color: #3B4455;\n",
              "      --disabled-fill-color: #666;\n",
              "  }\n",
              "\n",
              "  .colab-df-quickchart {\n",
              "    background-color: var(--bg-color);\n",
              "    border: none;\n",
              "    border-radius: 50%;\n",
              "    cursor: pointer;\n",
              "    display: none;\n",
              "    fill: var(--fill-color);\n",
              "    height: 32px;\n",
              "    padding: 0;\n",
              "    width: 32px;\n",
              "  }\n",
              "\n",
              "  .colab-df-quickchart:hover {\n",
              "    background-color: var(--hover-bg-color);\n",
              "    box-shadow: 0 1px 2px rgba(60, 64, 67, 0.3), 0 1px 3px 1px rgba(60, 64, 67, 0.15);\n",
              "    fill: var(--button-hover-fill-color);\n",
              "  }\n",
              "\n",
              "  .colab-df-quickchart-complete:disabled,\n",
              "  .colab-df-quickchart-complete:disabled:hover {\n",
              "    background-color: var(--disabled-bg-color);\n",
              "    fill: var(--disabled-fill-color);\n",
              "    box-shadow: none;\n",
              "  }\n",
              "\n",
              "  .colab-df-spinner {\n",
              "    border: 2px solid var(--fill-color);\n",
              "    border-color: transparent;\n",
              "    border-bottom-color: var(--fill-color);\n",
              "    animation:\n",
              "      spin 1s steps(1) infinite;\n",
              "  }\n",
              "\n",
              "  @keyframes spin {\n",
              "    0% {\n",
              "      border-color: transparent;\n",
              "      border-bottom-color: var(--fill-color);\n",
              "      border-left-color: var(--fill-color);\n",
              "    }\n",
              "    20% {\n",
              "      border-color: transparent;\n",
              "      border-left-color: var(--fill-color);\n",
              "      border-top-color: var(--fill-color);\n",
              "    }\n",
              "    30% {\n",
              "      border-color: transparent;\n",
              "      border-left-color: var(--fill-color);\n",
              "      border-top-color: var(--fill-color);\n",
              "      border-right-color: var(--fill-color);\n",
              "    }\n",
              "    40% {\n",
              "      border-color: transparent;\n",
              "      border-right-color: var(--fill-color);\n",
              "      border-top-color: var(--fill-color);\n",
              "    }\n",
              "    60% {\n",
              "      border-color: transparent;\n",
              "      border-right-color: var(--fill-color);\n",
              "    }\n",
              "    80% {\n",
              "      border-color: transparent;\n",
              "      border-right-color: var(--fill-color);\n",
              "      border-bottom-color: var(--fill-color);\n",
              "    }\n",
              "    90% {\n",
              "      border-color: transparent;\n",
              "      border-bottom-color: var(--fill-color);\n",
              "    }\n",
              "  }\n",
              "</style>\n",
              "\n",
              "  <script>\n",
              "    async function quickchart(key) {\n",
              "      const quickchartButtonEl =\n",
              "        document.querySelector('#' + key + ' button');\n",
              "      quickchartButtonEl.disabled = true;  // To prevent multiple clicks.\n",
              "      quickchartButtonEl.classList.add('colab-df-spinner');\n",
              "      try {\n",
              "        const charts = await google.colab.kernel.invokeFunction(\n",
              "            'suggestCharts', [key], {});\n",
              "      } catch (error) {\n",
              "        console.error('Error during call to suggestCharts:', error);\n",
              "      }\n",
              "      quickchartButtonEl.classList.remove('colab-df-spinner');\n",
              "      quickchartButtonEl.classList.add('colab-df-quickchart-complete');\n",
              "    }\n",
              "    (() => {\n",
              "      let quickchartButtonEl =\n",
              "        document.querySelector('#df-f65b5c50-295e-411c-a94c-c478c7c8b656 button');\n",
              "      quickchartButtonEl.style.display =\n",
              "        google.colab.kernel.accessAllowed ? 'block' : 'none';\n",
              "    })();\n",
              "  </script>\n",
              "</div>\n",
              "\n",
              "    </div>\n",
              "  </div>\n"
            ],
            "text/plain": [
              "   Filing Date Symbol                                     Company Name  \\\n",
              "49  2023-12-29    LEC                            Lafayette Energy Corp   \n",
              "50  2023-12-29   EPSM                        Epsium Enterprise Limited   \n",
              "53  2023-12-22   CHLW  Chun Hui Le Wan International Holding Group Ltd   \n",
              "54  2023-12-22   LZMH                   LZ Technology Holdings Limited   \n",
              "59  2023-12-15    GIT      Going International Holding Company Limited   \n",
              "\n",
              "    Price Range  Shares Offered  Average Price  Shares_offered_value  \\\n",
              "49  3.50 - 4.50       1200000.0            4.0                   4.8   \n",
              "50          NaN             NaN            NaN                   NaN   \n",
              "53          NaN             NaN            NaN                   NaN   \n",
              "54          NaN             NaN            NaN                   NaN   \n",
              "59          NaN             NaN            NaN                   NaN   \n",
              "\n",
              "   Day of Week  Year  \n",
              "49      Friday  2023  \n",
              "50      Friday  2023  \n",
              "53      Friday  2023  \n",
              "54      Friday  2023  \n",
              "59      Friday  2023  "
            ]
          },
          "execution_count": 7,
          "metadata": {},
          "output_type": "execute_result"
        }
      ],
      "source": [
        "filings_2023.head()"
      ]
    },
    {
      "cell_type": "code",
      "execution_count": null,
      "id": "baf9f410-df11-4999-b288-572b53045051",
      "metadata": {
        "colab": {
          "base_uri": "https://localhost:8080/"
        },
        "id": "baf9f410-df11-4999-b288-572b53045051",
        "outputId": "3f8a2305-d160-4e30-de0b-9522564ea607"
      },
      "outputs": [
        {
          "name": "stdout",
          "output_type": "stream",
          "text": [
            "<class 'pandas.core.frame.DataFrame'>\n",
            "Index: 32 entries, 49 to 165\n",
            "Data columns (total 9 columns):\n",
            " #   Column                Non-Null Count  Dtype         \n",
            "---  ------                --------------  -----         \n",
            " 0   Filing Date           32 non-null     datetime64[ns]\n",
            " 1   Symbol                32 non-null     object        \n",
            " 2   Company Name          32 non-null     object        \n",
            " 3   Price Range           25 non-null     object        \n",
            " 4   Shares Offered        25 non-null     float64       \n",
            " 5   Average Price         25 non-null     float64       \n",
            " 6   Shares_offered_value  25 non-null     float64       \n",
            " 7   Day of Week           32 non-null     object        \n",
            " 8   Year                  32 non-null     int32         \n",
            "dtypes: datetime64[ns](1), float64(3), int32(1), object(4)\n",
            "memory usage: 2.4+ KB\n"
          ]
        }
      ],
      "source": [
        "filings_2023.info()"
      ]
    },
    {
      "cell_type": "code",
      "execution_count": null,
      "id": "3277f6a7-11f1-4125-90fe-19ab8c70420c",
      "metadata": {
        "colab": {
          "base_uri": "https://localhost:8080/"
        },
        "id": "3277f6a7-11f1-4125-90fe-19ab8c70420c",
        "outputId": "a6070d91-2409-47bd-dcd1-6a8b8236533d"
      },
      "outputs": [
        {
          "name": "stdout",
          "output_type": "stream",
          "text": [
            "Filings during 2023, which happened on Fridays is $286m\n"
          ]
        }
      ],
      "source": [
        "value = filings_2023['Shares_offered_value'].sum()\n",
        "print(f'Filings during 2023, which happened on Fridays is ${value:.0f}m')"
      ]
    },
    {
      "cell_type": "markdown",
      "id": "0944fbb1-7183-4665-ac3d-0e7ab315fab1",
      "metadata": {
        "id": "0944fbb1-7183-4665-ac3d-0e7ab315fab1"
      },
      "source": [
        "## Question 2: IPOs \"Fixed days hold\" strategy\n",
        "Find the optimal number of days X (between 1 and 30), where 75% quantile growth is the highest?\n",
        "\n",
        "Reuse [Code Snippet 1] to retrieve the list of IPOs from 2023 and 2024 (from URLs: https://stockanalysis.com/ipos/2023/ and https://stockanalysis.com/ipos/2024/). Get all OHLCV daily prices for all stocks with an \"IPO date\" before March 1, 2024 (\"< 2024-03-01\") - 184 tickers (without 'RYZB'). Please remove 'RYZB', as it is no longer available on Yahoo Finance.\n",
        "\n",
        "Sometimes you may need to adjust the symbol name (e.g., 'IBAC' on stockanalysis.com -> 'IBACU' on Yahoo Finance) to locate OHLCV prices for all stocks. Some of the tickers like 'DYCQ' and 'LEGT' were on the market less than 30 days (11 and 21 days, respectively). Let's leave them in the dataset; it just means that you couldn't hold them for more days than they were listed.\n",
        "\n",
        "Let's assume you managed to buy a new stock (listed on IPO) on the first day at the [Adj Close] price]. Your strategy is to hold for exactly X full days (where X is between 1 and 30) and sell at the \"Adj. Close\" price in X days (e.g., if X=1, you sell on the next day). Find X, when the 75% quantile growth (among 185 investments) is the highest.\n",
        "\n",
        "HINTs:\n",
        "\n",
        "You can generate 30 additional columns: growth_future_1d ... growth_future_30d, join that with the table of min_dates (first day when each stock has data on Yahoo Finance), and perform vector operations on the resulting dataset.\n",
        "You can use the DataFrame.describe() function to get mean, min, max, 25-50-75% quantiles.\n",
        "Additional:\n",
        "\n",
        "You can also ensure that the mean and 50th percentile (median) investment returns are negative for most X values, implying a wager for a \"lucky\" investor who might be in the top 25%.\n",
        "What's your recommendation: Do you suggest pursuing this strategy for an optimal X?"
      ]
    },
    {
      "cell_type": "code",
      "execution_count": null,
      "id": "c378ec46-da09-4f3d-aabf-c3a14b6acb34",
      "metadata": {
        "id": "c378ec46-da09-4f3d-aabf-c3a14b6acb34"
      },
      "outputs": [],
      "source": [
        "# Define a function to wrangle data from the endpoints and merge them\n",
        "def merged_data(url1, url2, headers):\n",
        "\n",
        "    # Read data from url1\n",
        "    response1 = requests.get(url1, headers=headers)\n",
        "    df1 = pd.read_html(StringIO(response1.text))\n",
        "    df1 = df1[0]\n",
        "\n",
        "    # Read data from url2\n",
        "    response2 = requests.get(url2, headers=headers)\n",
        "    df2 = pd.read_html(StringIO(response2.text))\n",
        "    df2 = df2[0]\n",
        "\n",
        "    # Merge the two DataFrames\n",
        "    merged_df = pd.concat([df1, df2], ignore_index=True)\n",
        "\n",
        "    # Convert Filing Date to datetime format\n",
        "    merged_df['IPO Date'] = pd.to_datetime(merged_df['IPO Date'])\n",
        "\n",
        "    # Convert IPO Price column\n",
        "    merged_df['IPO Price'] = pd.to_numeric(merged_df['IPO Price'].str.replace('$', ''), errors='coerce')\n",
        "\n",
        "    # Convert Current column\n",
        "    merged_df['Current'] = pd.to_numeric(merged_df['Current'].str.replace('$', ''), errors='coerce')\n",
        "    #  df['Price Range'] = df['Price Range'].str.replace('$', '').replace('-', float('nan'))\n",
        "\n",
        "    # Convert Return column\n",
        "    merged_df['Return'] = pd.to_numeric(merged_df['Return'].str.replace('%', ''), errors='coerce') / 100\n",
        "    # merged_df['Return'] = merged_df['Return'].str.replace('%', '').replace('-', np.nan).astype(float) / 100\n",
        "\n",
        "    # Create a subset of IPO Date < 2024-03-01\n",
        "    merged_df =   merged_df[merged_df['IPO Date'] < '2024-03-01']\n",
        "\n",
        "    # Remove the ticker 'RYZB'\n",
        "    merged_df = merged_df[merged_df['Symbol'] != 'RYZB']\n",
        "\n",
        "    return merged_df"
      ]
    },
    {
      "cell_type": "code",
      "execution_count": null,
      "id": "238c4ab2-fd0b-47ed-86f3-9c3b4e1209a0",
      "metadata": {
        "id": "238c4ab2-fd0b-47ed-86f3-9c3b4e1209a0"
      },
      "outputs": [],
      "source": [
        "# Define headers with a user-agent to mimic a web browser\n",
        "headers = {\n",
        "    \"User-Agent\": \"Mozilla/5.0 (Windows NT 10.0; Win64; x64) AppleWebKit/537.36 (KHTML, like Gecko) Chrome/58.0.3029.110 Safari/537.3\"\n",
        "}\n",
        "\n",
        "url1 = \"https://stockanalysis.com/ipos/2023/\"\n",
        "url2 = \"https://stockanalysis.com/ipos/2024/\"\n",
        "\n",
        "merged_df = merged_data(url1, url2, headers)"
      ]
    },
    {
      "cell_type": "code",
      "execution_count": null,
      "id": "b0fc160c-07d3-456f-9e33-a309bc2b44a4",
      "metadata": {
        "colab": {
          "base_uri": "https://localhost:8080/",
          "height": 206
        },
        "id": "b0fc160c-07d3-456f-9e33-a309bc2b44a4",
        "outputId": "55236cd1-5581-448a-fd70-5a8c90bc459c"
      },
      "outputs": [
        {
          "data": {
            "application/vnd.google.colaboratory.intrinsic+json": {
              "summary": "{\n  \"name\": \"merged_df\",\n  \"rows\": 184,\n  \"fields\": [\n    {\n      \"column\": \"IPO Date\",\n      \"properties\": {\n        \"dtype\": \"date\",\n        \"min\": \"2023-01-13 00:00:00\",\n        \"max\": \"2024-02-27 00:00:00\",\n        \"num_unique_values\": 118,\n        \"samples\": [\n          \"2023-06-14 00:00:00\",\n          \"2023-02-09 00:00:00\",\n          \"2023-12-04 00:00:00\"\n        ],\n        \"semantic_type\": \"\",\n        \"description\": \"\"\n      }\n    },\n    {\n      \"column\": \"Symbol\",\n      \"properties\": {\n        \"dtype\": \"string\",\n        \"num_unique_values\": 184,\n        \"samples\": [\n          \"GVH\",\n          \"DTCK\",\n          \"CHRO\"\n        ],\n        \"semantic_type\": \"\",\n        \"description\": \"\"\n      }\n    },\n    {\n      \"column\": \"Company Name\",\n      \"properties\": {\n        \"dtype\": \"string\",\n        \"num_unique_values\": 184,\n        \"samples\": [\n          \"Globavend Holdings Limited\",\n          \"Davis Commodities Limited\",\n          \"Chromocell Therapeutics Corp\"\n        ],\n        \"semantic_type\": \"\",\n        \"description\": \"\"\n      }\n    },\n    {\n      \"column\": \"IPO Price\",\n      \"properties\": {\n        \"dtype\": \"number\",\n        \"std\": 9.89411696453202,\n        \"min\": 2.5,\n        \"max\": 92.0,\n        \"num_unique_values\": 44,\n        \"samples\": [\n          12.5,\n          18.0,\n          14.0\n        ],\n        \"semantic_type\": \"\",\n        \"description\": \"\"\n      }\n    },\n    {\n      \"column\": \"Current\",\n      \"properties\": {\n        \"dtype\": \"number\",\n        \"std\": 15.24348442577423,\n        \"min\": 0.0,\n        \"max\": 118.46,\n        \"num_unique_values\": 173,\n        \"samples\": [\n          36.27,\n          0.73,\n          10.63\n        ],\n        \"semantic_type\": \"\",\n        \"description\": \"\"\n      }\n    },\n    {\n      \"column\": \"Return\",\n      \"properties\": {\n        \"dtype\": \"number\",\n        \"std\": 0.6369729920829812,\n        \"min\": -0.9995999999999999,\n        \"max\": 2.2805,\n        \"num_unique_values\": 179,\n        \"samples\": [\n          0.057,\n          0.3553,\n          -0.7733\n        ],\n        \"semantic_type\": \"\",\n        \"description\": \"\"\n      }\n    }\n  ]\n}",
              "type": "dataframe",
              "variable_name": "merged_df"
            },
            "text/html": [
              "\n",
              "  <div id=\"df-d3a8b2b5-de8f-4d21-b5df-327202df297e\" class=\"colab-df-container\">\n",
              "    <div>\n",
              "<style scoped>\n",
              "    .dataframe tbody tr th:only-of-type {\n",
              "        vertical-align: middle;\n",
              "    }\n",
              "\n",
              "    .dataframe tbody tr th {\n",
              "        vertical-align: top;\n",
              "    }\n",
              "\n",
              "    .dataframe thead th {\n",
              "        text-align: right;\n",
              "    }\n",
              "</style>\n",
              "<table border=\"1\" class=\"dataframe\">\n",
              "  <thead>\n",
              "    <tr style=\"text-align: right;\">\n",
              "      <th></th>\n",
              "      <th>IPO Date</th>\n",
              "      <th>Symbol</th>\n",
              "      <th>Company Name</th>\n",
              "      <th>IPO Price</th>\n",
              "      <th>Current</th>\n",
              "      <th>Return</th>\n",
              "    </tr>\n",
              "  </thead>\n",
              "  <tbody>\n",
              "    <tr>\n",
              "      <th>0</th>\n",
              "      <td>2023-12-27</td>\n",
              "      <td>IROH</td>\n",
              "      <td>Iron Horse Acquisitions Corp.</td>\n",
              "      <td>10.0</td>\n",
              "      <td>10.05</td>\n",
              "      <td>0.0050</td>\n",
              "    </tr>\n",
              "    <tr>\n",
              "      <th>1</th>\n",
              "      <td>2023-12-19</td>\n",
              "      <td>LGCB</td>\n",
              "      <td>Linkage Global Inc</td>\n",
              "      <td>4.0</td>\n",
              "      <td>3.10</td>\n",
              "      <td>-0.2250</td>\n",
              "    </tr>\n",
              "    <tr>\n",
              "      <th>2</th>\n",
              "      <td>2023-12-15</td>\n",
              "      <td>ZKH</td>\n",
              "      <td>ZKH Group Limited</td>\n",
              "      <td>15.5</td>\n",
              "      <td>12.34</td>\n",
              "      <td>-0.2039</td>\n",
              "    </tr>\n",
              "    <tr>\n",
              "      <th>3</th>\n",
              "      <td>2023-12-15</td>\n",
              "      <td>BAYA</td>\n",
              "      <td>Bayview Acquisition Corp</td>\n",
              "      <td>10.0</td>\n",
              "      <td>10.17</td>\n",
              "      <td>0.0170</td>\n",
              "    </tr>\n",
              "    <tr>\n",
              "      <th>4</th>\n",
              "      <td>2023-12-14</td>\n",
              "      <td>INHD</td>\n",
              "      <td>Inno Holdings Inc.</td>\n",
              "      <td>4.0</td>\n",
              "      <td>0.66</td>\n",
              "      <td>-0.8340</td>\n",
              "    </tr>\n",
              "  </tbody>\n",
              "</table>\n",
              "</div>\n",
              "    <div class=\"colab-df-buttons\">\n",
              "\n",
              "  <div class=\"colab-df-container\">\n",
              "    <button class=\"colab-df-convert\" onclick=\"convertToInteractive('df-d3a8b2b5-de8f-4d21-b5df-327202df297e')\"\n",
              "            title=\"Convert this dataframe to an interactive table.\"\n",
              "            style=\"display:none;\">\n",
              "\n",
              "  <svg xmlns=\"http://www.w3.org/2000/svg\" height=\"24px\" viewBox=\"0 -960 960 960\">\n",
              "    <path d=\"M120-120v-720h720v720H120Zm60-500h600v-160H180v160Zm220 220h160v-160H400v160Zm0 220h160v-160H400v160ZM180-400h160v-160H180v160Zm440 0h160v-160H620v160ZM180-180h160v-160H180v160Zm440 0h160v-160H620v160Z\"/>\n",
              "  </svg>\n",
              "    </button>\n",
              "\n",
              "  <style>\n",
              "    .colab-df-container {\n",
              "      display:flex;\n",
              "      gap: 12px;\n",
              "    }\n",
              "\n",
              "    .colab-df-convert {\n",
              "      background-color: #E8F0FE;\n",
              "      border: none;\n",
              "      border-radius: 50%;\n",
              "      cursor: pointer;\n",
              "      display: none;\n",
              "      fill: #1967D2;\n",
              "      height: 32px;\n",
              "      padding: 0 0 0 0;\n",
              "      width: 32px;\n",
              "    }\n",
              "\n",
              "    .colab-df-convert:hover {\n",
              "      background-color: #E2EBFA;\n",
              "      box-shadow: 0px 1px 2px rgba(60, 64, 67, 0.3), 0px 1px 3px 1px rgba(60, 64, 67, 0.15);\n",
              "      fill: #174EA6;\n",
              "    }\n",
              "\n",
              "    .colab-df-buttons div {\n",
              "      margin-bottom: 4px;\n",
              "    }\n",
              "\n",
              "    [theme=dark] .colab-df-convert {\n",
              "      background-color: #3B4455;\n",
              "      fill: #D2E3FC;\n",
              "    }\n",
              "\n",
              "    [theme=dark] .colab-df-convert:hover {\n",
              "      background-color: #434B5C;\n",
              "      box-shadow: 0px 1px 3px 1px rgba(0, 0, 0, 0.15);\n",
              "      filter: drop-shadow(0px 1px 2px rgba(0, 0, 0, 0.3));\n",
              "      fill: #FFFFFF;\n",
              "    }\n",
              "  </style>\n",
              "\n",
              "    <script>\n",
              "      const buttonEl =\n",
              "        document.querySelector('#df-d3a8b2b5-de8f-4d21-b5df-327202df297e button.colab-df-convert');\n",
              "      buttonEl.style.display =\n",
              "        google.colab.kernel.accessAllowed ? 'block' : 'none';\n",
              "\n",
              "      async function convertToInteractive(key) {\n",
              "        const element = document.querySelector('#df-d3a8b2b5-de8f-4d21-b5df-327202df297e');\n",
              "        const dataTable =\n",
              "          await google.colab.kernel.invokeFunction('convertToInteractive',\n",
              "                                                    [key], {});\n",
              "        if (!dataTable) return;\n",
              "\n",
              "        const docLinkHtml = 'Like what you see? Visit the ' +\n",
              "          '<a target=\"_blank\" href=https://colab.research.google.com/notebooks/data_table.ipynb>data table notebook</a>'\n",
              "          + ' to learn more about interactive tables.';\n",
              "        element.innerHTML = '';\n",
              "        dataTable['output_type'] = 'display_data';\n",
              "        await google.colab.output.renderOutput(dataTable, element);\n",
              "        const docLink = document.createElement('div');\n",
              "        docLink.innerHTML = docLinkHtml;\n",
              "        element.appendChild(docLink);\n",
              "      }\n",
              "    </script>\n",
              "  </div>\n",
              "\n",
              "\n",
              "<div id=\"df-adeeec69-9644-456b-a051-c7f6c69f65e4\">\n",
              "  <button class=\"colab-df-quickchart\" onclick=\"quickchart('df-adeeec69-9644-456b-a051-c7f6c69f65e4')\"\n",
              "            title=\"Suggest charts\"\n",
              "            style=\"display:none;\">\n",
              "\n",
              "<svg xmlns=\"http://www.w3.org/2000/svg\" height=\"24px\"viewBox=\"0 0 24 24\"\n",
              "     width=\"24px\">\n",
              "    <g>\n",
              "        <path d=\"M19 3H5c-1.1 0-2 .9-2 2v14c0 1.1.9 2 2 2h14c1.1 0 2-.9 2-2V5c0-1.1-.9-2-2-2zM9 17H7v-7h2v7zm4 0h-2V7h2v10zm4 0h-2v-4h2v4z\"/>\n",
              "    </g>\n",
              "</svg>\n",
              "  </button>\n",
              "\n",
              "<style>\n",
              "  .colab-df-quickchart {\n",
              "      --bg-color: #E8F0FE;\n",
              "      --fill-color: #1967D2;\n",
              "      --hover-bg-color: #E2EBFA;\n",
              "      --hover-fill-color: #174EA6;\n",
              "      --disabled-fill-color: #AAA;\n",
              "      --disabled-bg-color: #DDD;\n",
              "  }\n",
              "\n",
              "  [theme=dark] .colab-df-quickchart {\n",
              "      --bg-color: #3B4455;\n",
              "      --fill-color: #D2E3FC;\n",
              "      --hover-bg-color: #434B5C;\n",
              "      --hover-fill-color: #FFFFFF;\n",
              "      --disabled-bg-color: #3B4455;\n",
              "      --disabled-fill-color: #666;\n",
              "  }\n",
              "\n",
              "  .colab-df-quickchart {\n",
              "    background-color: var(--bg-color);\n",
              "    border: none;\n",
              "    border-radius: 50%;\n",
              "    cursor: pointer;\n",
              "    display: none;\n",
              "    fill: var(--fill-color);\n",
              "    height: 32px;\n",
              "    padding: 0;\n",
              "    width: 32px;\n",
              "  }\n",
              "\n",
              "  .colab-df-quickchart:hover {\n",
              "    background-color: var(--hover-bg-color);\n",
              "    box-shadow: 0 1px 2px rgba(60, 64, 67, 0.3), 0 1px 3px 1px rgba(60, 64, 67, 0.15);\n",
              "    fill: var(--button-hover-fill-color);\n",
              "  }\n",
              "\n",
              "  .colab-df-quickchart-complete:disabled,\n",
              "  .colab-df-quickchart-complete:disabled:hover {\n",
              "    background-color: var(--disabled-bg-color);\n",
              "    fill: var(--disabled-fill-color);\n",
              "    box-shadow: none;\n",
              "  }\n",
              "\n",
              "  .colab-df-spinner {\n",
              "    border: 2px solid var(--fill-color);\n",
              "    border-color: transparent;\n",
              "    border-bottom-color: var(--fill-color);\n",
              "    animation:\n",
              "      spin 1s steps(1) infinite;\n",
              "  }\n",
              "\n",
              "  @keyframes spin {\n",
              "    0% {\n",
              "      border-color: transparent;\n",
              "      border-bottom-color: var(--fill-color);\n",
              "      border-left-color: var(--fill-color);\n",
              "    }\n",
              "    20% {\n",
              "      border-color: transparent;\n",
              "      border-left-color: var(--fill-color);\n",
              "      border-top-color: var(--fill-color);\n",
              "    }\n",
              "    30% {\n",
              "      border-color: transparent;\n",
              "      border-left-color: var(--fill-color);\n",
              "      border-top-color: var(--fill-color);\n",
              "      border-right-color: var(--fill-color);\n",
              "    }\n",
              "    40% {\n",
              "      border-color: transparent;\n",
              "      border-right-color: var(--fill-color);\n",
              "      border-top-color: var(--fill-color);\n",
              "    }\n",
              "    60% {\n",
              "      border-color: transparent;\n",
              "      border-right-color: var(--fill-color);\n",
              "    }\n",
              "    80% {\n",
              "      border-color: transparent;\n",
              "      border-right-color: var(--fill-color);\n",
              "      border-bottom-color: var(--fill-color);\n",
              "    }\n",
              "    90% {\n",
              "      border-color: transparent;\n",
              "      border-bottom-color: var(--fill-color);\n",
              "    }\n",
              "  }\n",
              "</style>\n",
              "\n",
              "  <script>\n",
              "    async function quickchart(key) {\n",
              "      const quickchartButtonEl =\n",
              "        document.querySelector('#' + key + ' button');\n",
              "      quickchartButtonEl.disabled = true;  // To prevent multiple clicks.\n",
              "      quickchartButtonEl.classList.add('colab-df-spinner');\n",
              "      try {\n",
              "        const charts = await google.colab.kernel.invokeFunction(\n",
              "            'suggestCharts', [key], {});\n",
              "      } catch (error) {\n",
              "        console.error('Error during call to suggestCharts:', error);\n",
              "      }\n",
              "      quickchartButtonEl.classList.remove('colab-df-spinner');\n",
              "      quickchartButtonEl.classList.add('colab-df-quickchart-complete');\n",
              "    }\n",
              "    (() => {\n",
              "      let quickchartButtonEl =\n",
              "        document.querySelector('#df-adeeec69-9644-456b-a051-c7f6c69f65e4 button');\n",
              "      quickchartButtonEl.style.display =\n",
              "        google.colab.kernel.accessAllowed ? 'block' : 'none';\n",
              "    })();\n",
              "  </script>\n",
              "</div>\n",
              "\n",
              "    </div>\n",
              "  </div>\n"
            ],
            "text/plain": [
              "    IPO Date Symbol                   Company Name  IPO Price  Current  Return\n",
              "0 2023-12-27   IROH  Iron Horse Acquisitions Corp.       10.0    10.05  0.0050\n",
              "1 2023-12-19   LGCB             Linkage Global Inc        4.0     3.10 -0.2250\n",
              "2 2023-12-15    ZKH              ZKH Group Limited       15.5    12.34 -0.2039\n",
              "3 2023-12-15   BAYA       Bayview Acquisition Corp       10.0    10.17  0.0170\n",
              "4 2023-12-14   INHD             Inno Holdings Inc.        4.0     0.66 -0.8340"
            ]
          },
          "execution_count": 12,
          "metadata": {},
          "output_type": "execute_result"
        }
      ],
      "source": [
        "merged_df.head()"
      ]
    },
    {
      "cell_type": "code",
      "execution_count": null,
      "id": "0fbb77b3-a157-4e69-98d9-5a67adbe5e25",
      "metadata": {
        "colab": {
          "base_uri": "https://localhost:8080/"
        },
        "id": "0fbb77b3-a157-4e69-98d9-5a67adbe5e25",
        "outputId": "7faf4dce-2194-4643-babe-b25f738e5cf2"
      },
      "outputs": [
        {
          "name": "stdout",
          "output_type": "stream",
          "text": [
            "<class 'pandas.core.frame.DataFrame'>\n",
            "Index: 184 entries, 0 to 217\n",
            "Data columns (total 6 columns):\n",
            " #   Column        Non-Null Count  Dtype         \n",
            "---  ------        --------------  -----         \n",
            " 0   IPO Date      184 non-null    datetime64[ns]\n",
            " 1   Symbol        184 non-null    object        \n",
            " 2   Company Name  184 non-null    object        \n",
            " 3   IPO Price     184 non-null    float64       \n",
            " 4   Current       184 non-null    float64       \n",
            " 5   Return        184 non-null    float64       \n",
            "dtypes: datetime64[ns](1), float64(3), object(2)\n",
            "memory usage: 10.1+ KB\n"
          ]
        }
      ],
      "source": [
        "merged_df.info()"
      ]
    },
    {
      "cell_type": "code",
      "execution_count": null,
      "id": "178adb7f-869f-40c7-bb9f-7932c69f2508",
      "metadata": {
        "id": "178adb7f-869f-40c7-bb9f-7932c69f2508"
      },
      "outputs": [],
      "source": [
        "stock_list = list(merged_df.Symbol.values)"
      ]
    },
    {
      "cell_type": "code",
      "execution_count": null,
      "id": "5cf032ee-1801-4b80-aa68-a13520eb3f61",
      "metadata": {
        "colab": {
          "base_uri": "https://localhost:8080/"
        },
        "id": "5cf032ee-1801-4b80-aa68-a13520eb3f61",
        "outputId": "c0e7fd69-90cf-4247-878c-4fcb5a1041be"
      },
      "outputs": [
        {
          "data": {
            "text/plain": [
              "184"
            ]
          },
          "execution_count": 15,
          "metadata": {},
          "output_type": "execute_result"
        }
      ],
      "source": [
        "len(stock_list)"
      ]
    },
    {
      "cell_type": "code",
      "execution_count": null,
      "id": "fe8cc41e-ff1a-4144-b5f2-43d09f0721d8",
      "metadata": {
        "colab": {
          "base_uri": "https://localhost:8080/"
        },
        "id": "fe8cc41e-ff1a-4144-b5f2-43d09f0721d8",
        "outputId": "835c21a4-90d4-4105-9669-8edb1776548f"
      },
      "outputs": [
        {
          "data": {
            "text/plain": [
              "136"
            ]
          },
          "execution_count": 16,
          "metadata": {},
          "output_type": "execute_result"
        }
      ],
      "source": [
        "stock_list.index('PTHR')"
      ]
    },
    {
      "cell_type": "code",
      "execution_count": null,
      "id": "4d21f365-c0e9-45e8-8734-b10a206c32c9",
      "metadata": {
        "id": "4d21f365-c0e9-45e8-8734-b10a206c32c9"
      },
      "outputs": [],
      "source": [
        "stock_list[136]='PTHRU'"
      ]
    },
    {
      "cell_type": "code",
      "execution_count": null,
      "id": "6M-v3GMs4taP",
      "metadata": {
        "colab": {
          "base_uri": "https://localhost:8080/"
        },
        "id": "6M-v3GMs4taP",
        "outputId": "5ab643fc-1894-4434-aaab-41753f9c9783"
      },
      "outputs": [
        {
          "name": "stdout",
          "output_type": "stream",
          "text": [
            "period for indexes: 1974-05-04 to 2024-05-04\n"
          ]
        }
      ],
      "source": [
        "end = date.today()\n",
        "start = date(year=end.year-50, month=end.month, day=end.day)\n",
        "print(f\"period for indexes: {start} to {end}\")"
      ]
    },
    {
      "cell_type": "code",
      "execution_count": null,
      "id": "mKk_i0uK6ALB",
      "metadata": {
        "colab": {
          "base_uri": "https://localhost:8080/"
        },
        "id": "mKk_i0uK6ALB",
        "outputId": "ec6af380-0a72-4800-bbc6-680373c6f26b"
      },
      "outputs": [
        {
          "name": "stderr",
          "output_type": "stream",
          "text": [
            "[*********************100%%**********************]  184 of 184 completed\n"
          ]
        }
      ],
      "source": [
        "tickers = stock_list\n",
        "df = yf.download(tickers, start=start, end=end, interval='1d')['Adj Close']"
      ]
    },
    {
      "cell_type": "code",
      "execution_count": null,
      "id": "D28gNAb168jd",
      "metadata": {
        "colab": {
          "base_uri": "https://localhost:8080/",
          "height": 267
        },
        "id": "D28gNAb168jd",
        "outputId": "35b15a5c-0465-4cfc-eb8e-26918a29810b"
      },
      "outputs": [
        {
          "data": {
            "application/vnd.google.colaboratory.intrinsic+json": {
              "type": "dataframe"
            },
            "text/html": [
              "\n",
              "  <div id=\"df-0cb397aa-cc4d-40dd-829b-621fc4590344\" class=\"colab-df-container\">\n",
              "    <div>\n",
              "<style scoped>\n",
              "    .dataframe tbody tr th:only-of-type {\n",
              "        vertical-align: middle;\n",
              "    }\n",
              "\n",
              "    .dataframe tbody tr th {\n",
              "        vertical-align: top;\n",
              "    }\n",
              "\n",
              "    .dataframe thead th {\n",
              "        text-align: right;\n",
              "    }\n",
              "</style>\n",
              "<table border=\"1\" class=\"dataframe\">\n",
              "  <thead>\n",
              "    <tr style=\"text-align: right;\">\n",
              "      <th>Ticker</th>\n",
              "      <th>AACT</th>\n",
              "      <th>AESI</th>\n",
              "      <th>AFJK</th>\n",
              "      <th>AHR</th>\n",
              "      <th>AITR</th>\n",
              "      <th>AIXI</th>\n",
              "      <th>ALCY</th>\n",
              "      <th>ANL</th>\n",
              "      <th>ANRO</th>\n",
              "      <th>ANSC</th>\n",
              "      <th>...</th>\n",
              "      <th>VHAI</th>\n",
              "      <th>VSME</th>\n",
              "      <th>VTMX</th>\n",
              "      <th>WBUY</th>\n",
              "      <th>WLGS</th>\n",
              "      <th>WRNT</th>\n",
              "      <th>YGFGF</th>\n",
              "      <th>YIBO</th>\n",
              "      <th>ZJYL</th>\n",
              "      <th>ZKH</th>\n",
              "    </tr>\n",
              "    <tr>\n",
              "      <th>Date</th>\n",
              "      <th></th>\n",
              "      <th></th>\n",
              "      <th></th>\n",
              "      <th></th>\n",
              "      <th></th>\n",
              "      <th></th>\n",
              "      <th></th>\n",
              "      <th></th>\n",
              "      <th></th>\n",
              "      <th></th>\n",
              "      <th></th>\n",
              "      <th></th>\n",
              "      <th></th>\n",
              "      <th></th>\n",
              "      <th></th>\n",
              "      <th></th>\n",
              "      <th></th>\n",
              "      <th></th>\n",
              "      <th></th>\n",
              "      <th></th>\n",
              "      <th></th>\n",
              "    </tr>\n",
              "  </thead>\n",
              "  <tbody>\n",
              "    <tr>\n",
              "      <th>2024-04-29</th>\n",
              "      <td>10.62</td>\n",
              "      <td>23.320000</td>\n",
              "      <td>10.275</td>\n",
              "      <td>13.87</td>\n",
              "      <td>10.31</td>\n",
              "      <td>1.30</td>\n",
              "      <td>10.64</td>\n",
              "      <td>14.80</td>\n",
              "      <td>15.56</td>\n",
              "      <td>10.235</td>\n",
              "      <td>...</td>\n",
              "      <td>0.1690</td>\n",
              "      <td>0.420</td>\n",
              "      <td>36.660000</td>\n",
              "      <td>0.3740</td>\n",
              "      <td>0.5350</td>\n",
              "      <td>0.270</td>\n",
              "      <td>0.002</td>\n",
              "      <td>2.10</td>\n",
              "      <td>3.77</td>\n",
              "      <td>11.90</td>\n",
              "    </tr>\n",
              "    <tr>\n",
              "      <th>2024-04-30</th>\n",
              "      <td>10.62</td>\n",
              "      <td>22.209999</td>\n",
              "      <td>10.260</td>\n",
              "      <td>13.73</td>\n",
              "      <td>10.31</td>\n",
              "      <td>1.22</td>\n",
              "      <td>10.64</td>\n",
              "      <td>13.80</td>\n",
              "      <td>15.51</td>\n",
              "      <td>10.235</td>\n",
              "      <td>...</td>\n",
              "      <td>0.1640</td>\n",
              "      <td>0.410</td>\n",
              "      <td>35.509998</td>\n",
              "      <td>0.3790</td>\n",
              "      <td>0.5470</td>\n",
              "      <td>0.300</td>\n",
              "      <td>0.002</td>\n",
              "      <td>2.08</td>\n",
              "      <td>3.81</td>\n",
              "      <td>11.50</td>\n",
              "    </tr>\n",
              "    <tr>\n",
              "      <th>2024-05-01</th>\n",
              "      <td>10.61</td>\n",
              "      <td>21.969999</td>\n",
              "      <td>10.275</td>\n",
              "      <td>13.88</td>\n",
              "      <td>10.31</td>\n",
              "      <td>1.22</td>\n",
              "      <td>10.64</td>\n",
              "      <td>14.13</td>\n",
              "      <td>16.10</td>\n",
              "      <td>10.225</td>\n",
              "      <td>...</td>\n",
              "      <td>0.1690</td>\n",
              "      <td>0.413</td>\n",
              "      <td>36.000000</td>\n",
              "      <td>0.3720</td>\n",
              "      <td>0.5350</td>\n",
              "      <td>0.324</td>\n",
              "      <td>0.002</td>\n",
              "      <td>2.06</td>\n",
              "      <td>3.63</td>\n",
              "      <td>11.96</td>\n",
              "    </tr>\n",
              "    <tr>\n",
              "      <th>2024-05-02</th>\n",
              "      <td>10.63</td>\n",
              "      <td>21.940001</td>\n",
              "      <td>10.275</td>\n",
              "      <td>13.97</td>\n",
              "      <td>10.31</td>\n",
              "      <td>1.25</td>\n",
              "      <td>10.70</td>\n",
              "      <td>13.02</td>\n",
              "      <td>14.40</td>\n",
              "      <td>10.235</td>\n",
              "      <td>...</td>\n",
              "      <td>0.1630</td>\n",
              "      <td>0.400</td>\n",
              "      <td>35.930000</td>\n",
              "      <td>0.3740</td>\n",
              "      <td>0.5800</td>\n",
              "      <td>0.318</td>\n",
              "      <td>0.002</td>\n",
              "      <td>2.10</td>\n",
              "      <td>3.52</td>\n",
              "      <td>12.05</td>\n",
              "    </tr>\n",
              "    <tr>\n",
              "      <th>2024-05-03</th>\n",
              "      <td>10.62</td>\n",
              "      <td>21.969999</td>\n",
              "      <td>NaN</td>\n",
              "      <td>13.73</td>\n",
              "      <td>10.32</td>\n",
              "      <td>1.20</td>\n",
              "      <td>10.67</td>\n",
              "      <td>13.78</td>\n",
              "      <td>14.22</td>\n",
              "      <td>10.235</td>\n",
              "      <td>...</td>\n",
              "      <td>0.1607</td>\n",
              "      <td>0.390</td>\n",
              "      <td>36.160000</td>\n",
              "      <td>0.4063</td>\n",
              "      <td>0.5802</td>\n",
              "      <td>0.298</td>\n",
              "      <td>NaN</td>\n",
              "      <td>2.05</td>\n",
              "      <td>3.62</td>\n",
              "      <td>12.34</td>\n",
              "    </tr>\n",
              "  </tbody>\n",
              "</table>\n",
              "<p>5 rows × 184 columns</p>\n",
              "</div>\n",
              "    <div class=\"colab-df-buttons\">\n",
              "\n",
              "  <div class=\"colab-df-container\">\n",
              "    <button class=\"colab-df-convert\" onclick=\"convertToInteractive('df-0cb397aa-cc4d-40dd-829b-621fc4590344')\"\n",
              "            title=\"Convert this dataframe to an interactive table.\"\n",
              "            style=\"display:none;\">\n",
              "\n",
              "  <svg xmlns=\"http://www.w3.org/2000/svg\" height=\"24px\" viewBox=\"0 -960 960 960\">\n",
              "    <path d=\"M120-120v-720h720v720H120Zm60-500h600v-160H180v160Zm220 220h160v-160H400v160Zm0 220h160v-160H400v160ZM180-400h160v-160H180v160Zm440 0h160v-160H620v160ZM180-180h160v-160H180v160Zm440 0h160v-160H620v160Z\"/>\n",
              "  </svg>\n",
              "    </button>\n",
              "\n",
              "  <style>\n",
              "    .colab-df-container {\n",
              "      display:flex;\n",
              "      gap: 12px;\n",
              "    }\n",
              "\n",
              "    .colab-df-convert {\n",
              "      background-color: #E8F0FE;\n",
              "      border: none;\n",
              "      border-radius: 50%;\n",
              "      cursor: pointer;\n",
              "      display: none;\n",
              "      fill: #1967D2;\n",
              "      height: 32px;\n",
              "      padding: 0 0 0 0;\n",
              "      width: 32px;\n",
              "    }\n",
              "\n",
              "    .colab-df-convert:hover {\n",
              "      background-color: #E2EBFA;\n",
              "      box-shadow: 0px 1px 2px rgba(60, 64, 67, 0.3), 0px 1px 3px 1px rgba(60, 64, 67, 0.15);\n",
              "      fill: #174EA6;\n",
              "    }\n",
              "\n",
              "    .colab-df-buttons div {\n",
              "      margin-bottom: 4px;\n",
              "    }\n",
              "\n",
              "    [theme=dark] .colab-df-convert {\n",
              "      background-color: #3B4455;\n",
              "      fill: #D2E3FC;\n",
              "    }\n",
              "\n",
              "    [theme=dark] .colab-df-convert:hover {\n",
              "      background-color: #434B5C;\n",
              "      box-shadow: 0px 1px 3px 1px rgba(0, 0, 0, 0.15);\n",
              "      filter: drop-shadow(0px 1px 2px rgba(0, 0, 0, 0.3));\n",
              "      fill: #FFFFFF;\n",
              "    }\n",
              "  </style>\n",
              "\n",
              "    <script>\n",
              "      const buttonEl =\n",
              "        document.querySelector('#df-0cb397aa-cc4d-40dd-829b-621fc4590344 button.colab-df-convert');\n",
              "      buttonEl.style.display =\n",
              "        google.colab.kernel.accessAllowed ? 'block' : 'none';\n",
              "\n",
              "      async function convertToInteractive(key) {\n",
              "        const element = document.querySelector('#df-0cb397aa-cc4d-40dd-829b-621fc4590344');\n",
              "        const dataTable =\n",
              "          await google.colab.kernel.invokeFunction('convertToInteractive',\n",
              "                                                    [key], {});\n",
              "        if (!dataTable) return;\n",
              "\n",
              "        const docLinkHtml = 'Like what you see? Visit the ' +\n",
              "          '<a target=\"_blank\" href=https://colab.research.google.com/notebooks/data_table.ipynb>data table notebook</a>'\n",
              "          + ' to learn more about interactive tables.';\n",
              "        element.innerHTML = '';\n",
              "        dataTable['output_type'] = 'display_data';\n",
              "        await google.colab.output.renderOutput(dataTable, element);\n",
              "        const docLink = document.createElement('div');\n",
              "        docLink.innerHTML = docLinkHtml;\n",
              "        element.appendChild(docLink);\n",
              "      }\n",
              "    </script>\n",
              "  </div>\n",
              "\n",
              "\n",
              "<div id=\"df-74dbf5c2-8034-4ba2-adc4-8109f49b407a\">\n",
              "  <button class=\"colab-df-quickchart\" onclick=\"quickchart('df-74dbf5c2-8034-4ba2-adc4-8109f49b407a')\"\n",
              "            title=\"Suggest charts\"\n",
              "            style=\"display:none;\">\n",
              "\n",
              "<svg xmlns=\"http://www.w3.org/2000/svg\" height=\"24px\"viewBox=\"0 0 24 24\"\n",
              "     width=\"24px\">\n",
              "    <g>\n",
              "        <path d=\"M19 3H5c-1.1 0-2 .9-2 2v14c0 1.1.9 2 2 2h14c1.1 0 2-.9 2-2V5c0-1.1-.9-2-2-2zM9 17H7v-7h2v7zm4 0h-2V7h2v10zm4 0h-2v-4h2v4z\"/>\n",
              "    </g>\n",
              "</svg>\n",
              "  </button>\n",
              "\n",
              "<style>\n",
              "  .colab-df-quickchart {\n",
              "      --bg-color: #E8F0FE;\n",
              "      --fill-color: #1967D2;\n",
              "      --hover-bg-color: #E2EBFA;\n",
              "      --hover-fill-color: #174EA6;\n",
              "      --disabled-fill-color: #AAA;\n",
              "      --disabled-bg-color: #DDD;\n",
              "  }\n",
              "\n",
              "  [theme=dark] .colab-df-quickchart {\n",
              "      --bg-color: #3B4455;\n",
              "      --fill-color: #D2E3FC;\n",
              "      --hover-bg-color: #434B5C;\n",
              "      --hover-fill-color: #FFFFFF;\n",
              "      --disabled-bg-color: #3B4455;\n",
              "      --disabled-fill-color: #666;\n",
              "  }\n",
              "\n",
              "  .colab-df-quickchart {\n",
              "    background-color: var(--bg-color);\n",
              "    border: none;\n",
              "    border-radius: 50%;\n",
              "    cursor: pointer;\n",
              "    display: none;\n",
              "    fill: var(--fill-color);\n",
              "    height: 32px;\n",
              "    padding: 0;\n",
              "    width: 32px;\n",
              "  }\n",
              "\n",
              "  .colab-df-quickchart:hover {\n",
              "    background-color: var(--hover-bg-color);\n",
              "    box-shadow: 0 1px 2px rgba(60, 64, 67, 0.3), 0 1px 3px 1px rgba(60, 64, 67, 0.15);\n",
              "    fill: var(--button-hover-fill-color);\n",
              "  }\n",
              "\n",
              "  .colab-df-quickchart-complete:disabled,\n",
              "  .colab-df-quickchart-complete:disabled:hover {\n",
              "    background-color: var(--disabled-bg-color);\n",
              "    fill: var(--disabled-fill-color);\n",
              "    box-shadow: none;\n",
              "  }\n",
              "\n",
              "  .colab-df-spinner {\n",
              "    border: 2px solid var(--fill-color);\n",
              "    border-color: transparent;\n",
              "    border-bottom-color: var(--fill-color);\n",
              "    animation:\n",
              "      spin 1s steps(1) infinite;\n",
              "  }\n",
              "\n",
              "  @keyframes spin {\n",
              "    0% {\n",
              "      border-color: transparent;\n",
              "      border-bottom-color: var(--fill-color);\n",
              "      border-left-color: var(--fill-color);\n",
              "    }\n",
              "    20% {\n",
              "      border-color: transparent;\n",
              "      border-left-color: var(--fill-color);\n",
              "      border-top-color: var(--fill-color);\n",
              "    }\n",
              "    30% {\n",
              "      border-color: transparent;\n",
              "      border-left-color: var(--fill-color);\n",
              "      border-top-color: var(--fill-color);\n",
              "      border-right-color: var(--fill-color);\n",
              "    }\n",
              "    40% {\n",
              "      border-color: transparent;\n",
              "      border-right-color: var(--fill-color);\n",
              "      border-top-color: var(--fill-color);\n",
              "    }\n",
              "    60% {\n",
              "      border-color: transparent;\n",
              "      border-right-color: var(--fill-color);\n",
              "    }\n",
              "    80% {\n",
              "      border-color: transparent;\n",
              "      border-right-color: var(--fill-color);\n",
              "      border-bottom-color: var(--fill-color);\n",
              "    }\n",
              "    90% {\n",
              "      border-color: transparent;\n",
              "      border-bottom-color: var(--fill-color);\n",
              "    }\n",
              "  }\n",
              "</style>\n",
              "\n",
              "  <script>\n",
              "    async function quickchart(key) {\n",
              "      const quickchartButtonEl =\n",
              "        document.querySelector('#' + key + ' button');\n",
              "      quickchartButtonEl.disabled = true;  // To prevent multiple clicks.\n",
              "      quickchartButtonEl.classList.add('colab-df-spinner');\n",
              "      try {\n",
              "        const charts = await google.colab.kernel.invokeFunction(\n",
              "            'suggestCharts', [key], {});\n",
              "      } catch (error) {\n",
              "        console.error('Error during call to suggestCharts:', error);\n",
              "      }\n",
              "      quickchartButtonEl.classList.remove('colab-df-spinner');\n",
              "      quickchartButtonEl.classList.add('colab-df-quickchart-complete');\n",
              "    }\n",
              "    (() => {\n",
              "      let quickchartButtonEl =\n",
              "        document.querySelector('#df-74dbf5c2-8034-4ba2-adc4-8109f49b407a button');\n",
              "      quickchartButtonEl.style.display =\n",
              "        google.colab.kernel.accessAllowed ? 'block' : 'none';\n",
              "    })();\n",
              "  </script>\n",
              "</div>\n",
              "\n",
              "    </div>\n",
              "  </div>\n"
            ],
            "text/plain": [
              "Ticker       AACT       AESI    AFJK    AHR   AITR  AIXI   ALCY    ANL   ANRO  \\\n",
              "Date                                                                            \n",
              "2024-04-29  10.62  23.320000  10.275  13.87  10.31  1.30  10.64  14.80  15.56   \n",
              "2024-04-30  10.62  22.209999  10.260  13.73  10.31  1.22  10.64  13.80  15.51   \n",
              "2024-05-01  10.61  21.969999  10.275  13.88  10.31  1.22  10.64  14.13  16.10   \n",
              "2024-05-02  10.63  21.940001  10.275  13.97  10.31  1.25  10.70  13.02  14.40   \n",
              "2024-05-03  10.62  21.969999     NaN  13.73  10.32  1.20  10.67  13.78  14.22   \n",
              "\n",
              "Ticker        ANSC  ...    VHAI   VSME       VTMX    WBUY    WLGS   WRNT  \\\n",
              "Date                ...                                                    \n",
              "2024-04-29  10.235  ...  0.1690  0.420  36.660000  0.3740  0.5350  0.270   \n",
              "2024-04-30  10.235  ...  0.1640  0.410  35.509998  0.3790  0.5470  0.300   \n",
              "2024-05-01  10.225  ...  0.1690  0.413  36.000000  0.3720  0.5350  0.324   \n",
              "2024-05-02  10.235  ...  0.1630  0.400  35.930000  0.3740  0.5800  0.318   \n",
              "2024-05-03  10.235  ...  0.1607  0.390  36.160000  0.4063  0.5802  0.298   \n",
              "\n",
              "Ticker      YGFGF  YIBO  ZJYL    ZKH  \n",
              "Date                                  \n",
              "2024-04-29  0.002  2.10  3.77  11.90  \n",
              "2024-04-30  0.002  2.08  3.81  11.50  \n",
              "2024-05-01  0.002  2.06  3.63  11.96  \n",
              "2024-05-02  0.002  2.10  3.52  12.05  \n",
              "2024-05-03    NaN  2.05  3.62  12.34  \n",
              "\n",
              "[5 rows x 184 columns]"
            ]
          },
          "execution_count": 20,
          "metadata": {},
          "output_type": "execute_result"
        }
      ],
      "source": [
        "df.tail()"
      ]
    },
    {
      "cell_type": "code",
      "execution_count": null,
      "id": "HrMjt5j97C8_",
      "metadata": {
        "id": "HrMjt5j97C8_"
      },
      "outputs": [],
      "source": [
        "listing_dates = df.apply(lambda series: series.first_valid_index())"
      ]
    },
    {
      "cell_type": "code",
      "execution_count": null,
      "id": "fBnffdUV_Lgr",
      "metadata": {
        "colab": {
          "base_uri": "https://localhost:8080/"
        },
        "id": "fBnffdUV_Lgr",
        "outputId": "f9ea66f8-8332-490d-edc6-2a1134767c86"
      },
      "outputs": [
        {
          "data": {
            "text/plain": [
              "Ticker\n",
              "AACT    2023-06-13\n",
              "AESI    2023-03-09\n",
              "AFJK    2024-01-23\n",
              "AHR     2024-02-07\n",
              "AITR    2024-01-02\n",
              "           ...    \n",
              "WRNT    2023-07-25\n",
              "YGFGF   2023-03-28\n",
              "YIBO    2024-01-25\n",
              "ZJYL    2023-03-28\n",
              "ZKH     2023-12-15\n",
              "Length: 184, dtype: datetime64[ns]"
            ]
          },
          "execution_count": 45,
          "metadata": {},
          "output_type": "execute_result"
        }
      ],
      "source": [
        "listing_dates"
      ]
    },
    {
      "cell_type": "code",
      "execution_count": null,
      "id": "Br3m4BYLasr2",
      "metadata": {
        "colab": {
          "base_uri": "https://localhost:8080/"
        },
        "id": "Br3m4BYLasr2",
        "outputId": "bf862be5-1a56-4d66-d766-f6710bb4436a"
      },
      "outputs": [
        {
          "data": {
            "text/plain": [
              "Timestamp('2023-10-31 00:00:00')"
            ]
          },
          "execution_count": 62,
          "metadata": {},
          "output_type": "execute_result"
        }
      ],
      "source": [
        "value = listing_dates['ATGL']\n",
        "value"
      ]
    },
    {
      "cell_type": "code",
      "execution_count": 108,
      "id": "ckFCHYDPBrRd",
      "metadata": {
        "id": "ckFCHYDPBrRd"
      },
      "outputs": [],
      "source": [
        "def get_stock_growth(listing_dates, tickers, interval=30):\n",
        "    \"\"\"\n",
        "    This function calculates the growth of stock prices for each stock from its listing date.\n",
        "\n",
        "    Parameters:\n",
        "    - listing_dates: A dictionary where keys are stock tickers and values are their listing dates.\n",
        "    - tickers: A list of stock tickers.\n",
        "    - interval: Number of days to calculate growth for (default is 30).\n",
        "\n",
        "    Returns:\n",
        "    - growth_df: A DataFrame containing the tickers as index, 'Min_Date' for the minimum date,\n",
        "                 and 'Growth_1' to 'Growth_30' for the growth values over the 30-day interval.\n",
        "    \"\"\"\n",
        "\n",
        "    # Create an empty DataFrame to store the results\n",
        "    growth_df = pd.DataFrame(index=tickers)\n",
        "\n",
        "    # Iterate through each stock ticker and its listing date\n",
        "    for ticker, listing_date in listing_dates.items():\n",
        "        # Download historical data from Yahoo Finance\n",
        "        stock_data = yf.download(ticker, start=listing_date, end=pd.Timestamp.now().date(), progress=False)\n",
        "\n",
        "        # Ensure that data is available for the specified interval\n",
        "        if len(stock_data) >= interval + 1:  # Ensure at least interval + 1 days of data are available\n",
        "            # Calculate the Min_Date for the stock\n",
        "            min_date = stock_data.index.min()\n",
        "\n",
        "            # Find the index of the minimum date and add one day to it\n",
        "            start_index = stock_data.index.get_loc(min_date) + 1\n",
        "\n",
        "            # Extract growth values over the 30-day interval starting from Min_Date\n",
        "            growth_values = []\n",
        "            for i in range(start_index, start_index + interval):\n",
        "                future_price = stock_data['Adj Close'].shift(-i)\n",
        "                growth = (future_price - stock_data['Adj Close']) / stock_data['Adj Close']\n",
        "                # growth = stock_data['Adj Close'].shift(-i) / stock_data['Adj Close']\n",
        "                growth_values.append(growth.iloc[start_index])  # Growth starting from the day after Min_Date\n",
        "\n",
        "            # Store the growth values in the DataFrame\n",
        "            growth_df.loc[ticker, 'Min_Date'] = min_date\n",
        "            growth_df.loc[ticker, [f'Growth_future_{i}d' for i in range(1, interval + 1)]] = growth_values\n",
        "\n",
        "\n",
        "    return growth_df"
      ]
    },
    {
      "cell_type": "code",
      "execution_count": 109,
      "id": "BBqouq3XFkQG",
      "metadata": {
        "id": "BBqouq3XFkQG"
      },
      "outputs": [],
      "source": [
        "tickers = listing_dates.index.tolist()\n",
        "growth_df = get_stock_growth(listing_dates, tickers)"
      ]
    },
    {
      "cell_type": "code",
      "execution_count": 110,
      "id": "bIjnYpsCGd9Q",
      "metadata": {
        "colab": {
          "base_uri": "https://localhost:8080/",
          "height": 342
        },
        "id": "bIjnYpsCGd9Q",
        "outputId": "81c6bcee-a1c1-4a11-b76d-5acfa2977a8e"
      },
      "outputs": [
        {
          "output_type": "execute_result",
          "data": {
            "text/plain": [
              "       Min_Date  Growth_future_1d  Growth_future_2d  Growth_future_3d  \\\n",
              "AACT 2023-06-13          0.000990          0.000990          0.001980   \n",
              "AESI 2023-03-09         -0.030909          0.006667         -0.027273   \n",
              "AFJK 2024-01-23          0.000984          0.000984          0.001969   \n",
              "AHR  2024-02-07          0.004594          0.006891          0.022205   \n",
              "AITR 2024-01-02          0.002956          0.002956          0.003054   \n",
              "\n",
              "      Growth_future_4d  Growth_future_5d  Growth_future_6d  Growth_future_7d  \\\n",
              "AACT          0.001980          0.001980          0.003960          0.003960   \n",
              "AESI         -0.023030         -0.034545         -0.024242         -0.008485   \n",
              "AFJK          0.000984          0.001969          0.000984          0.000984   \n",
              "AHR           0.053599          0.044410          0.062021          0.026799   \n",
              "AITR          0.003941          0.003941          0.003941          0.004434   \n",
              "\n",
              "      Growth_future_8d  Growth_future_9d  ...  Growth_future_21d  \\\n",
              "AACT          0.004950          0.005941  ...           0.005941   \n",
              "AESI         -0.005454         -0.030303  ...           0.078182   \n",
              "AFJK          0.000492          0.000984  ...           0.001476   \n",
              "AHR           0.026034          0.037519  ...           0.060490   \n",
              "AITR          0.003941          0.004926  ...           0.005911   \n",
              "\n",
              "      Growth_future_22d  Growth_future_23d  Growth_future_24d  \\\n",
              "AACT           0.005941           0.005941           0.006931   \n",
              "AESI           0.079394           0.087879           0.105455   \n",
              "AFJK           0.001969           0.001378           0.001969   \n",
              "AHR            0.058193           0.053599           0.056662   \n",
              "AITR           0.005911           0.006897           0.007882   \n",
              "\n",
              "      Growth_future_25d  Growth_future_26d  Growth_future_27d  \\\n",
              "AACT           0.006931           0.006931           0.008911   \n",
              "AESI           0.104242           0.086667           0.095152   \n",
              "AFJK          -0.000591           0.001476           0.002953   \n",
              "AHR            0.040582           0.058959           0.064318   \n",
              "AITR           0.006897           0.006700           0.006700   \n",
              "\n",
              "      Growth_future_28d  Growth_future_29d  Growth_future_30d  \n",
              "AACT           0.008911           0.008911           0.007921  \n",
              "AESI           0.085454           0.101818           0.138788  \n",
              "AFJK           0.001969           0.002362           0.001969  \n",
              "AHR            0.075038           0.085758           0.066616  \n",
              "AITR           0.007389           0.007882           0.008867  \n",
              "\n",
              "[5 rows x 31 columns]"
            ],
            "text/html": [
              "\n",
              "  <div id=\"df-54b8b8fb-78a9-4b90-8ed2-15b028e0c0b8\" class=\"colab-df-container\">\n",
              "    <div>\n",
              "<style scoped>\n",
              "    .dataframe tbody tr th:only-of-type {\n",
              "        vertical-align: middle;\n",
              "    }\n",
              "\n",
              "    .dataframe tbody tr th {\n",
              "        vertical-align: top;\n",
              "    }\n",
              "\n",
              "    .dataframe thead th {\n",
              "        text-align: right;\n",
              "    }\n",
              "</style>\n",
              "<table border=\"1\" class=\"dataframe\">\n",
              "  <thead>\n",
              "    <tr style=\"text-align: right;\">\n",
              "      <th></th>\n",
              "      <th>Min_Date</th>\n",
              "      <th>Growth_future_1d</th>\n",
              "      <th>Growth_future_2d</th>\n",
              "      <th>Growth_future_3d</th>\n",
              "      <th>Growth_future_4d</th>\n",
              "      <th>Growth_future_5d</th>\n",
              "      <th>Growth_future_6d</th>\n",
              "      <th>Growth_future_7d</th>\n",
              "      <th>Growth_future_8d</th>\n",
              "      <th>Growth_future_9d</th>\n",
              "      <th>...</th>\n",
              "      <th>Growth_future_21d</th>\n",
              "      <th>Growth_future_22d</th>\n",
              "      <th>Growth_future_23d</th>\n",
              "      <th>Growth_future_24d</th>\n",
              "      <th>Growth_future_25d</th>\n",
              "      <th>Growth_future_26d</th>\n",
              "      <th>Growth_future_27d</th>\n",
              "      <th>Growth_future_28d</th>\n",
              "      <th>Growth_future_29d</th>\n",
              "      <th>Growth_future_30d</th>\n",
              "    </tr>\n",
              "  </thead>\n",
              "  <tbody>\n",
              "    <tr>\n",
              "      <th>AACT</th>\n",
              "      <td>2023-06-13</td>\n",
              "      <td>0.000990</td>\n",
              "      <td>0.000990</td>\n",
              "      <td>0.001980</td>\n",
              "      <td>0.001980</td>\n",
              "      <td>0.001980</td>\n",
              "      <td>0.003960</td>\n",
              "      <td>0.003960</td>\n",
              "      <td>0.004950</td>\n",
              "      <td>0.005941</td>\n",
              "      <td>...</td>\n",
              "      <td>0.005941</td>\n",
              "      <td>0.005941</td>\n",
              "      <td>0.005941</td>\n",
              "      <td>0.006931</td>\n",
              "      <td>0.006931</td>\n",
              "      <td>0.006931</td>\n",
              "      <td>0.008911</td>\n",
              "      <td>0.008911</td>\n",
              "      <td>0.008911</td>\n",
              "      <td>0.007921</td>\n",
              "    </tr>\n",
              "    <tr>\n",
              "      <th>AESI</th>\n",
              "      <td>2023-03-09</td>\n",
              "      <td>-0.030909</td>\n",
              "      <td>0.006667</td>\n",
              "      <td>-0.027273</td>\n",
              "      <td>-0.023030</td>\n",
              "      <td>-0.034545</td>\n",
              "      <td>-0.024242</td>\n",
              "      <td>-0.008485</td>\n",
              "      <td>-0.005454</td>\n",
              "      <td>-0.030303</td>\n",
              "      <td>...</td>\n",
              "      <td>0.078182</td>\n",
              "      <td>0.079394</td>\n",
              "      <td>0.087879</td>\n",
              "      <td>0.105455</td>\n",
              "      <td>0.104242</td>\n",
              "      <td>0.086667</td>\n",
              "      <td>0.095152</td>\n",
              "      <td>0.085454</td>\n",
              "      <td>0.101818</td>\n",
              "      <td>0.138788</td>\n",
              "    </tr>\n",
              "    <tr>\n",
              "      <th>AFJK</th>\n",
              "      <td>2024-01-23</td>\n",
              "      <td>0.000984</td>\n",
              "      <td>0.000984</td>\n",
              "      <td>0.001969</td>\n",
              "      <td>0.000984</td>\n",
              "      <td>0.001969</td>\n",
              "      <td>0.000984</td>\n",
              "      <td>0.000984</td>\n",
              "      <td>0.000492</td>\n",
              "      <td>0.000984</td>\n",
              "      <td>...</td>\n",
              "      <td>0.001476</td>\n",
              "      <td>0.001969</td>\n",
              "      <td>0.001378</td>\n",
              "      <td>0.001969</td>\n",
              "      <td>-0.000591</td>\n",
              "      <td>0.001476</td>\n",
              "      <td>0.002953</td>\n",
              "      <td>0.001969</td>\n",
              "      <td>0.002362</td>\n",
              "      <td>0.001969</td>\n",
              "    </tr>\n",
              "    <tr>\n",
              "      <th>AHR</th>\n",
              "      <td>2024-02-07</td>\n",
              "      <td>0.004594</td>\n",
              "      <td>0.006891</td>\n",
              "      <td>0.022205</td>\n",
              "      <td>0.053599</td>\n",
              "      <td>0.044410</td>\n",
              "      <td>0.062021</td>\n",
              "      <td>0.026799</td>\n",
              "      <td>0.026034</td>\n",
              "      <td>0.037519</td>\n",
              "      <td>...</td>\n",
              "      <td>0.060490</td>\n",
              "      <td>0.058193</td>\n",
              "      <td>0.053599</td>\n",
              "      <td>0.056662</td>\n",
              "      <td>0.040582</td>\n",
              "      <td>0.058959</td>\n",
              "      <td>0.064318</td>\n",
              "      <td>0.075038</td>\n",
              "      <td>0.085758</td>\n",
              "      <td>0.066616</td>\n",
              "    </tr>\n",
              "    <tr>\n",
              "      <th>AITR</th>\n",
              "      <td>2024-01-02</td>\n",
              "      <td>0.002956</td>\n",
              "      <td>0.002956</td>\n",
              "      <td>0.003054</td>\n",
              "      <td>0.003941</td>\n",
              "      <td>0.003941</td>\n",
              "      <td>0.003941</td>\n",
              "      <td>0.004434</td>\n",
              "      <td>0.003941</td>\n",
              "      <td>0.004926</td>\n",
              "      <td>...</td>\n",
              "      <td>0.005911</td>\n",
              "      <td>0.005911</td>\n",
              "      <td>0.006897</td>\n",
              "      <td>0.007882</td>\n",
              "      <td>0.006897</td>\n",
              "      <td>0.006700</td>\n",
              "      <td>0.006700</td>\n",
              "      <td>0.007389</td>\n",
              "      <td>0.007882</td>\n",
              "      <td>0.008867</td>\n",
              "    </tr>\n",
              "  </tbody>\n",
              "</table>\n",
              "<p>5 rows × 31 columns</p>\n",
              "</div>\n",
              "    <div class=\"colab-df-buttons\">\n",
              "\n",
              "  <div class=\"colab-df-container\">\n",
              "    <button class=\"colab-df-convert\" onclick=\"convertToInteractive('df-54b8b8fb-78a9-4b90-8ed2-15b028e0c0b8')\"\n",
              "            title=\"Convert this dataframe to an interactive table.\"\n",
              "            style=\"display:none;\">\n",
              "\n",
              "  <svg xmlns=\"http://www.w3.org/2000/svg\" height=\"24px\" viewBox=\"0 -960 960 960\">\n",
              "    <path d=\"M120-120v-720h720v720H120Zm60-500h600v-160H180v160Zm220 220h160v-160H400v160Zm0 220h160v-160H400v160ZM180-400h160v-160H180v160Zm440 0h160v-160H620v160ZM180-180h160v-160H180v160Zm440 0h160v-160H620v160Z\"/>\n",
              "  </svg>\n",
              "    </button>\n",
              "\n",
              "  <style>\n",
              "    .colab-df-container {\n",
              "      display:flex;\n",
              "      gap: 12px;\n",
              "    }\n",
              "\n",
              "    .colab-df-convert {\n",
              "      background-color: #E8F0FE;\n",
              "      border: none;\n",
              "      border-radius: 50%;\n",
              "      cursor: pointer;\n",
              "      display: none;\n",
              "      fill: #1967D2;\n",
              "      height: 32px;\n",
              "      padding: 0 0 0 0;\n",
              "      width: 32px;\n",
              "    }\n",
              "\n",
              "    .colab-df-convert:hover {\n",
              "      background-color: #E2EBFA;\n",
              "      box-shadow: 0px 1px 2px rgba(60, 64, 67, 0.3), 0px 1px 3px 1px rgba(60, 64, 67, 0.15);\n",
              "      fill: #174EA6;\n",
              "    }\n",
              "\n",
              "    .colab-df-buttons div {\n",
              "      margin-bottom: 4px;\n",
              "    }\n",
              "\n",
              "    [theme=dark] .colab-df-convert {\n",
              "      background-color: #3B4455;\n",
              "      fill: #D2E3FC;\n",
              "    }\n",
              "\n",
              "    [theme=dark] .colab-df-convert:hover {\n",
              "      background-color: #434B5C;\n",
              "      box-shadow: 0px 1px 3px 1px rgba(0, 0, 0, 0.15);\n",
              "      filter: drop-shadow(0px 1px 2px rgba(0, 0, 0, 0.3));\n",
              "      fill: #FFFFFF;\n",
              "    }\n",
              "  </style>\n",
              "\n",
              "    <script>\n",
              "      const buttonEl =\n",
              "        document.querySelector('#df-54b8b8fb-78a9-4b90-8ed2-15b028e0c0b8 button.colab-df-convert');\n",
              "      buttonEl.style.display =\n",
              "        google.colab.kernel.accessAllowed ? 'block' : 'none';\n",
              "\n",
              "      async function convertToInteractive(key) {\n",
              "        const element = document.querySelector('#df-54b8b8fb-78a9-4b90-8ed2-15b028e0c0b8');\n",
              "        const dataTable =\n",
              "          await google.colab.kernel.invokeFunction('convertToInteractive',\n",
              "                                                    [key], {});\n",
              "        if (!dataTable) return;\n",
              "\n",
              "        const docLinkHtml = 'Like what you see? Visit the ' +\n",
              "          '<a target=\"_blank\" href=https://colab.research.google.com/notebooks/data_table.ipynb>data table notebook</a>'\n",
              "          + ' to learn more about interactive tables.';\n",
              "        element.innerHTML = '';\n",
              "        dataTable['output_type'] = 'display_data';\n",
              "        await google.colab.output.renderOutput(dataTable, element);\n",
              "        const docLink = document.createElement('div');\n",
              "        docLink.innerHTML = docLinkHtml;\n",
              "        element.appendChild(docLink);\n",
              "      }\n",
              "    </script>\n",
              "  </div>\n",
              "\n",
              "\n",
              "<div id=\"df-08cb450b-a2a9-4b2b-a086-f60144723388\">\n",
              "  <button class=\"colab-df-quickchart\" onclick=\"quickchart('df-08cb450b-a2a9-4b2b-a086-f60144723388')\"\n",
              "            title=\"Suggest charts\"\n",
              "            style=\"display:none;\">\n",
              "\n",
              "<svg xmlns=\"http://www.w3.org/2000/svg\" height=\"24px\"viewBox=\"0 0 24 24\"\n",
              "     width=\"24px\">\n",
              "    <g>\n",
              "        <path d=\"M19 3H5c-1.1 0-2 .9-2 2v14c0 1.1.9 2 2 2h14c1.1 0 2-.9 2-2V5c0-1.1-.9-2-2-2zM9 17H7v-7h2v7zm4 0h-2V7h2v10zm4 0h-2v-4h2v4z\"/>\n",
              "    </g>\n",
              "</svg>\n",
              "  </button>\n",
              "\n",
              "<style>\n",
              "  .colab-df-quickchart {\n",
              "      --bg-color: #E8F0FE;\n",
              "      --fill-color: #1967D2;\n",
              "      --hover-bg-color: #E2EBFA;\n",
              "      --hover-fill-color: #174EA6;\n",
              "      --disabled-fill-color: #AAA;\n",
              "      --disabled-bg-color: #DDD;\n",
              "  }\n",
              "\n",
              "  [theme=dark] .colab-df-quickchart {\n",
              "      --bg-color: #3B4455;\n",
              "      --fill-color: #D2E3FC;\n",
              "      --hover-bg-color: #434B5C;\n",
              "      --hover-fill-color: #FFFFFF;\n",
              "      --disabled-bg-color: #3B4455;\n",
              "      --disabled-fill-color: #666;\n",
              "  }\n",
              "\n",
              "  .colab-df-quickchart {\n",
              "    background-color: var(--bg-color);\n",
              "    border: none;\n",
              "    border-radius: 50%;\n",
              "    cursor: pointer;\n",
              "    display: none;\n",
              "    fill: var(--fill-color);\n",
              "    height: 32px;\n",
              "    padding: 0;\n",
              "    width: 32px;\n",
              "  }\n",
              "\n",
              "  .colab-df-quickchart:hover {\n",
              "    background-color: var(--hover-bg-color);\n",
              "    box-shadow: 0 1px 2px rgba(60, 64, 67, 0.3), 0 1px 3px 1px rgba(60, 64, 67, 0.15);\n",
              "    fill: var(--button-hover-fill-color);\n",
              "  }\n",
              "\n",
              "  .colab-df-quickchart-complete:disabled,\n",
              "  .colab-df-quickchart-complete:disabled:hover {\n",
              "    background-color: var(--disabled-bg-color);\n",
              "    fill: var(--disabled-fill-color);\n",
              "    box-shadow: none;\n",
              "  }\n",
              "\n",
              "  .colab-df-spinner {\n",
              "    border: 2px solid var(--fill-color);\n",
              "    border-color: transparent;\n",
              "    border-bottom-color: var(--fill-color);\n",
              "    animation:\n",
              "      spin 1s steps(1) infinite;\n",
              "  }\n",
              "\n",
              "  @keyframes spin {\n",
              "    0% {\n",
              "      border-color: transparent;\n",
              "      border-bottom-color: var(--fill-color);\n",
              "      border-left-color: var(--fill-color);\n",
              "    }\n",
              "    20% {\n",
              "      border-color: transparent;\n",
              "      border-left-color: var(--fill-color);\n",
              "      border-top-color: var(--fill-color);\n",
              "    }\n",
              "    30% {\n",
              "      border-color: transparent;\n",
              "      border-left-color: var(--fill-color);\n",
              "      border-top-color: var(--fill-color);\n",
              "      border-right-color: var(--fill-color);\n",
              "    }\n",
              "    40% {\n",
              "      border-color: transparent;\n",
              "      border-right-color: var(--fill-color);\n",
              "      border-top-color: var(--fill-color);\n",
              "    }\n",
              "    60% {\n",
              "      border-color: transparent;\n",
              "      border-right-color: var(--fill-color);\n",
              "    }\n",
              "    80% {\n",
              "      border-color: transparent;\n",
              "      border-right-color: var(--fill-color);\n",
              "      border-bottom-color: var(--fill-color);\n",
              "    }\n",
              "    90% {\n",
              "      border-color: transparent;\n",
              "      border-bottom-color: var(--fill-color);\n",
              "    }\n",
              "  }\n",
              "</style>\n",
              "\n",
              "  <script>\n",
              "    async function quickchart(key) {\n",
              "      const quickchartButtonEl =\n",
              "        document.querySelector('#' + key + ' button');\n",
              "      quickchartButtonEl.disabled = true;  // To prevent multiple clicks.\n",
              "      quickchartButtonEl.classList.add('colab-df-spinner');\n",
              "      try {\n",
              "        const charts = await google.colab.kernel.invokeFunction(\n",
              "            'suggestCharts', [key], {});\n",
              "      } catch (error) {\n",
              "        console.error('Error during call to suggestCharts:', error);\n",
              "      }\n",
              "      quickchartButtonEl.classList.remove('colab-df-spinner');\n",
              "      quickchartButtonEl.classList.add('colab-df-quickchart-complete');\n",
              "    }\n",
              "    (() => {\n",
              "      let quickchartButtonEl =\n",
              "        document.querySelector('#df-08cb450b-a2a9-4b2b-a086-f60144723388 button');\n",
              "      quickchartButtonEl.style.display =\n",
              "        google.colab.kernel.accessAllowed ? 'block' : 'none';\n",
              "    })();\n",
              "  </script>\n",
              "</div>\n",
              "\n",
              "    </div>\n",
              "  </div>\n"
            ],
            "application/vnd.google.colaboratory.intrinsic+json": {
              "type": "dataframe",
              "variable_name": "growth_df"
            }
          },
          "metadata": {},
          "execution_count": 110
        }
      ],
      "source": [
        "growth_df.head()"
      ]
    },
    {
      "cell_type": "code",
      "execution_count": null,
      "id": "_EINinHIJ6KU",
      "metadata": {
        "colab": {
          "base_uri": "https://localhost:8080/"
        },
        "id": "_EINinHIJ6KU",
        "outputId": "1336936b-22f2-404a-816e-1f6199e95e69"
      },
      "outputs": [
        {
          "name": "stdout",
          "output_type": "stream",
          "text": [
            "<class 'pandas.core.frame.DataFrame'>\n",
            "Index: 184 entries, AACT to ZKH\n",
            "Data columns (total 31 columns):\n",
            " #   Column             Non-Null Count  Dtype         \n",
            "---  ------             --------------  -----         \n",
            " 0   Min_Date           182 non-null    datetime64[ns]\n",
            " 1   Growth_future_1d   182 non-null    float64       \n",
            " 2   Growth_future_2d   182 non-null    float64       \n",
            " 3   Growth_future_3d   182 non-null    float64       \n",
            " 4   Growth_future_4d   182 non-null    float64       \n",
            " 5   Growth_future_5d   182 non-null    float64       \n",
            " 6   Growth_future_6d   182 non-null    float64       \n",
            " 7   Growth_future_7d   182 non-null    float64       \n",
            " 8   Growth_future_8d   182 non-null    float64       \n",
            " 9   Growth_future_9d   182 non-null    float64       \n",
            " 10  Growth_future_10d  182 non-null    float64       \n",
            " 11  Growth_future_11d  182 non-null    float64       \n",
            " 12  Growth_future_12d  182 non-null    float64       \n",
            " 13  Growth_future_13d  182 non-null    float64       \n",
            " 14  Growth_future_14d  182 non-null    float64       \n",
            " 15  Growth_future_15d  182 non-null    float64       \n",
            " 16  Growth_future_16d  182 non-null    float64       \n",
            " 17  Growth_future_17d  182 non-null    float64       \n",
            " 18  Growth_future_18d  182 non-null    float64       \n",
            " 19  Growth_future_19d  182 non-null    float64       \n",
            " 20  Growth_future_20d  182 non-null    float64       \n",
            " 21  Growth_future_21d  182 non-null    float64       \n",
            " 22  Growth_future_22d  182 non-null    float64       \n",
            " 23  Growth_future_23d  182 non-null    float64       \n",
            " 24  Growth_future_24d  182 non-null    float64       \n",
            " 25  Growth_future_25d  182 non-null    float64       \n",
            " 26  Growth_future_26d  182 non-null    float64       \n",
            " 27  Growth_future_27d  182 non-null    float64       \n",
            " 28  Growth_future_28d  182 non-null    float64       \n",
            " 29  Growth_future_29d  182 non-null    float64       \n",
            " 30  Growth_future_30d  182 non-null    float64       \n",
            "dtypes: datetime64[ns](1), float64(30)\n",
            "memory usage: 50.1+ KB\n"
          ]
        }
      ],
      "source": [
        "growth_df.info()"
      ]
    },
    {
      "cell_type": "code",
      "execution_count": null,
      "id": "ZmjkQv9SPlRh",
      "metadata": {
        "colab": {
          "base_uri": "https://localhost:8080/",
          "height": 161
        },
        "id": "ZmjkQv9SPlRh",
        "outputId": "c00ce129-1a9a-4e2a-e3c2-674487f58f8e"
      },
      "outputs": [
        {
          "data": {
            "application/vnd.google.colaboratory.intrinsic+json": {
              "type": "dataframe"
            },
            "text/html": [
              "\n",
              "  <div id=\"df-fc86ccd2-f064-4ad1-88d2-7f8afca8ee82\" class=\"colab-df-container\">\n",
              "    <div>\n",
              "<style scoped>\n",
              "    .dataframe tbody tr th:only-of-type {\n",
              "        vertical-align: middle;\n",
              "    }\n",
              "\n",
              "    .dataframe tbody tr th {\n",
              "        vertical-align: top;\n",
              "    }\n",
              "\n",
              "    .dataframe thead th {\n",
              "        text-align: right;\n",
              "    }\n",
              "</style>\n",
              "<table border=\"1\" class=\"dataframe\">\n",
              "  <thead>\n",
              "    <tr style=\"text-align: right;\">\n",
              "      <th></th>\n",
              "      <th>Min_Date</th>\n",
              "      <th>Growth_future_1d</th>\n",
              "      <th>Growth_future_2d</th>\n",
              "      <th>Growth_future_3d</th>\n",
              "      <th>Growth_future_4d</th>\n",
              "      <th>Growth_future_5d</th>\n",
              "      <th>Growth_future_6d</th>\n",
              "      <th>Growth_future_7d</th>\n",
              "      <th>Growth_future_8d</th>\n",
              "      <th>Growth_future_9d</th>\n",
              "      <th>...</th>\n",
              "      <th>Growth_future_21d</th>\n",
              "      <th>Growth_future_22d</th>\n",
              "      <th>Growth_future_23d</th>\n",
              "      <th>Growth_future_24d</th>\n",
              "      <th>Growth_future_25d</th>\n",
              "      <th>Growth_future_26d</th>\n",
              "      <th>Growth_future_27d</th>\n",
              "      <th>Growth_future_28d</th>\n",
              "      <th>Growth_future_29d</th>\n",
              "      <th>Growth_future_30d</th>\n",
              "    </tr>\n",
              "  </thead>\n",
              "  <tbody>\n",
              "    <tr>\n",
              "      <th>DYCQ</th>\n",
              "      <td>NaT</td>\n",
              "      <td>NaN</td>\n",
              "      <td>NaN</td>\n",
              "      <td>NaN</td>\n",
              "      <td>NaN</td>\n",
              "      <td>NaN</td>\n",
              "      <td>NaN</td>\n",
              "      <td>NaN</td>\n",
              "      <td>NaN</td>\n",
              "      <td>NaN</td>\n",
              "      <td>...</td>\n",
              "      <td>NaN</td>\n",
              "      <td>NaN</td>\n",
              "      <td>NaN</td>\n",
              "      <td>NaN</td>\n",
              "      <td>NaN</td>\n",
              "      <td>NaN</td>\n",
              "      <td>NaN</td>\n",
              "      <td>NaN</td>\n",
              "      <td>NaN</td>\n",
              "      <td>NaN</td>\n",
              "    </tr>\n",
              "    <tr>\n",
              "      <th>LEGT</th>\n",
              "      <td>NaT</td>\n",
              "      <td>NaN</td>\n",
              "      <td>NaN</td>\n",
              "      <td>NaN</td>\n",
              "      <td>NaN</td>\n",
              "      <td>NaN</td>\n",
              "      <td>NaN</td>\n",
              "      <td>NaN</td>\n",
              "      <td>NaN</td>\n",
              "      <td>NaN</td>\n",
              "      <td>...</td>\n",
              "      <td>NaN</td>\n",
              "      <td>NaN</td>\n",
              "      <td>NaN</td>\n",
              "      <td>NaN</td>\n",
              "      <td>NaN</td>\n",
              "      <td>NaN</td>\n",
              "      <td>NaN</td>\n",
              "      <td>NaN</td>\n",
              "      <td>NaN</td>\n",
              "      <td>NaN</td>\n",
              "    </tr>\n",
              "  </tbody>\n",
              "</table>\n",
              "<p>2 rows × 31 columns</p>\n",
              "</div>\n",
              "    <div class=\"colab-df-buttons\">\n",
              "\n",
              "  <div class=\"colab-df-container\">\n",
              "    <button class=\"colab-df-convert\" onclick=\"convertToInteractive('df-fc86ccd2-f064-4ad1-88d2-7f8afca8ee82')\"\n",
              "            title=\"Convert this dataframe to an interactive table.\"\n",
              "            style=\"display:none;\">\n",
              "\n",
              "  <svg xmlns=\"http://www.w3.org/2000/svg\" height=\"24px\" viewBox=\"0 -960 960 960\">\n",
              "    <path d=\"M120-120v-720h720v720H120Zm60-500h600v-160H180v160Zm220 220h160v-160H400v160Zm0 220h160v-160H400v160ZM180-400h160v-160H180v160Zm440 0h160v-160H620v160ZM180-180h160v-160H180v160Zm440 0h160v-160H620v160Z\"/>\n",
              "  </svg>\n",
              "    </button>\n",
              "\n",
              "  <style>\n",
              "    .colab-df-container {\n",
              "      display:flex;\n",
              "      gap: 12px;\n",
              "    }\n",
              "\n",
              "    .colab-df-convert {\n",
              "      background-color: #E8F0FE;\n",
              "      border: none;\n",
              "      border-radius: 50%;\n",
              "      cursor: pointer;\n",
              "      display: none;\n",
              "      fill: #1967D2;\n",
              "      height: 32px;\n",
              "      padding: 0 0 0 0;\n",
              "      width: 32px;\n",
              "    }\n",
              "\n",
              "    .colab-df-convert:hover {\n",
              "      background-color: #E2EBFA;\n",
              "      box-shadow: 0px 1px 2px rgba(60, 64, 67, 0.3), 0px 1px 3px 1px rgba(60, 64, 67, 0.15);\n",
              "      fill: #174EA6;\n",
              "    }\n",
              "\n",
              "    .colab-df-buttons div {\n",
              "      margin-bottom: 4px;\n",
              "    }\n",
              "\n",
              "    [theme=dark] .colab-df-convert {\n",
              "      background-color: #3B4455;\n",
              "      fill: #D2E3FC;\n",
              "    }\n",
              "\n",
              "    [theme=dark] .colab-df-convert:hover {\n",
              "      background-color: #434B5C;\n",
              "      box-shadow: 0px 1px 3px 1px rgba(0, 0, 0, 0.15);\n",
              "      filter: drop-shadow(0px 1px 2px rgba(0, 0, 0, 0.3));\n",
              "      fill: #FFFFFF;\n",
              "    }\n",
              "  </style>\n",
              "\n",
              "    <script>\n",
              "      const buttonEl =\n",
              "        document.querySelector('#df-fc86ccd2-f064-4ad1-88d2-7f8afca8ee82 button.colab-df-convert');\n",
              "      buttonEl.style.display =\n",
              "        google.colab.kernel.accessAllowed ? 'block' : 'none';\n",
              "\n",
              "      async function convertToInteractive(key) {\n",
              "        const element = document.querySelector('#df-fc86ccd2-f064-4ad1-88d2-7f8afca8ee82');\n",
              "        const dataTable =\n",
              "          await google.colab.kernel.invokeFunction('convertToInteractive',\n",
              "                                                    [key], {});\n",
              "        if (!dataTable) return;\n",
              "\n",
              "        const docLinkHtml = 'Like what you see? Visit the ' +\n",
              "          '<a target=\"_blank\" href=https://colab.research.google.com/notebooks/data_table.ipynb>data table notebook</a>'\n",
              "          + ' to learn more about interactive tables.';\n",
              "        element.innerHTML = '';\n",
              "        dataTable['output_type'] = 'display_data';\n",
              "        await google.colab.output.renderOutput(dataTable, element);\n",
              "        const docLink = document.createElement('div');\n",
              "        docLink.innerHTML = docLinkHtml;\n",
              "        element.appendChild(docLink);\n",
              "      }\n",
              "    </script>\n",
              "  </div>\n",
              "\n",
              "\n",
              "<div id=\"df-0f514ded-7ccc-4100-a2b2-10ec4e7fd14b\">\n",
              "  <button class=\"colab-df-quickchart\" onclick=\"quickchart('df-0f514ded-7ccc-4100-a2b2-10ec4e7fd14b')\"\n",
              "            title=\"Suggest charts\"\n",
              "            style=\"display:none;\">\n",
              "\n",
              "<svg xmlns=\"http://www.w3.org/2000/svg\" height=\"24px\"viewBox=\"0 0 24 24\"\n",
              "     width=\"24px\">\n",
              "    <g>\n",
              "        <path d=\"M19 3H5c-1.1 0-2 .9-2 2v14c0 1.1.9 2 2 2h14c1.1 0 2-.9 2-2V5c0-1.1-.9-2-2-2zM9 17H7v-7h2v7zm4 0h-2V7h2v10zm4 0h-2v-4h2v4z\"/>\n",
              "    </g>\n",
              "</svg>\n",
              "  </button>\n",
              "\n",
              "<style>\n",
              "  .colab-df-quickchart {\n",
              "      --bg-color: #E8F0FE;\n",
              "      --fill-color: #1967D2;\n",
              "      --hover-bg-color: #E2EBFA;\n",
              "      --hover-fill-color: #174EA6;\n",
              "      --disabled-fill-color: #AAA;\n",
              "      --disabled-bg-color: #DDD;\n",
              "  }\n",
              "\n",
              "  [theme=dark] .colab-df-quickchart {\n",
              "      --bg-color: #3B4455;\n",
              "      --fill-color: #D2E3FC;\n",
              "      --hover-bg-color: #434B5C;\n",
              "      --hover-fill-color: #FFFFFF;\n",
              "      --disabled-bg-color: #3B4455;\n",
              "      --disabled-fill-color: #666;\n",
              "  }\n",
              "\n",
              "  .colab-df-quickchart {\n",
              "    background-color: var(--bg-color);\n",
              "    border: none;\n",
              "    border-radius: 50%;\n",
              "    cursor: pointer;\n",
              "    display: none;\n",
              "    fill: var(--fill-color);\n",
              "    height: 32px;\n",
              "    padding: 0;\n",
              "    width: 32px;\n",
              "  }\n",
              "\n",
              "  .colab-df-quickchart:hover {\n",
              "    background-color: var(--hover-bg-color);\n",
              "    box-shadow: 0 1px 2px rgba(60, 64, 67, 0.3), 0 1px 3px 1px rgba(60, 64, 67, 0.15);\n",
              "    fill: var(--button-hover-fill-color);\n",
              "  }\n",
              "\n",
              "  .colab-df-quickchart-complete:disabled,\n",
              "  .colab-df-quickchart-complete:disabled:hover {\n",
              "    background-color: var(--disabled-bg-color);\n",
              "    fill: var(--disabled-fill-color);\n",
              "    box-shadow: none;\n",
              "  }\n",
              "\n",
              "  .colab-df-spinner {\n",
              "    border: 2px solid var(--fill-color);\n",
              "    border-color: transparent;\n",
              "    border-bottom-color: var(--fill-color);\n",
              "    animation:\n",
              "      spin 1s steps(1) infinite;\n",
              "  }\n",
              "\n",
              "  @keyframes spin {\n",
              "    0% {\n",
              "      border-color: transparent;\n",
              "      border-bottom-color: var(--fill-color);\n",
              "      border-left-color: var(--fill-color);\n",
              "    }\n",
              "    20% {\n",
              "      border-color: transparent;\n",
              "      border-left-color: var(--fill-color);\n",
              "      border-top-color: var(--fill-color);\n",
              "    }\n",
              "    30% {\n",
              "      border-color: transparent;\n",
              "      border-left-color: var(--fill-color);\n",
              "      border-top-color: var(--fill-color);\n",
              "      border-right-color: var(--fill-color);\n",
              "    }\n",
              "    40% {\n",
              "      border-color: transparent;\n",
              "      border-right-color: var(--fill-color);\n",
              "      border-top-color: var(--fill-color);\n",
              "    }\n",
              "    60% {\n",
              "      border-color: transparent;\n",
              "      border-right-color: var(--fill-color);\n",
              "    }\n",
              "    80% {\n",
              "      border-color: transparent;\n",
              "      border-right-color: var(--fill-color);\n",
              "      border-bottom-color: var(--fill-color);\n",
              "    }\n",
              "    90% {\n",
              "      border-color: transparent;\n",
              "      border-bottom-color: var(--fill-color);\n",
              "    }\n",
              "  }\n",
              "</style>\n",
              "\n",
              "  <script>\n",
              "    async function quickchart(key) {\n",
              "      const quickchartButtonEl =\n",
              "        document.querySelector('#' + key + ' button');\n",
              "      quickchartButtonEl.disabled = true;  // To prevent multiple clicks.\n",
              "      quickchartButtonEl.classList.add('colab-df-spinner');\n",
              "      try {\n",
              "        const charts = await google.colab.kernel.invokeFunction(\n",
              "            'suggestCharts', [key], {});\n",
              "      } catch (error) {\n",
              "        console.error('Error during call to suggestCharts:', error);\n",
              "      }\n",
              "      quickchartButtonEl.classList.remove('colab-df-spinner');\n",
              "      quickchartButtonEl.classList.add('colab-df-quickchart-complete');\n",
              "    }\n",
              "    (() => {\n",
              "      let quickchartButtonEl =\n",
              "        document.querySelector('#df-0f514ded-7ccc-4100-a2b2-10ec4e7fd14b button');\n",
              "      quickchartButtonEl.style.display =\n",
              "        google.colab.kernel.accessAllowed ? 'block' : 'none';\n",
              "    })();\n",
              "  </script>\n",
              "</div>\n",
              "\n",
              "    </div>\n",
              "  </div>\n"
            ],
            "text/plain": [
              "     Min_Date  Growth_future_1d  Growth_future_2d  Growth_future_3d  \\\n",
              "DYCQ      NaT               NaN               NaN               NaN   \n",
              "LEGT      NaT               NaN               NaN               NaN   \n",
              "\n",
              "      Growth_future_4d  Growth_future_5d  Growth_future_6d  Growth_future_7d  \\\n",
              "DYCQ               NaN               NaN               NaN               NaN   \n",
              "LEGT               NaN               NaN               NaN               NaN   \n",
              "\n",
              "      Growth_future_8d  Growth_future_9d  ...  Growth_future_21d  \\\n",
              "DYCQ               NaN               NaN  ...                NaN   \n",
              "LEGT               NaN               NaN  ...                NaN   \n",
              "\n",
              "      Growth_future_22d  Growth_future_23d  Growth_future_24d  \\\n",
              "DYCQ                NaN                NaN                NaN   \n",
              "LEGT                NaN                NaN                NaN   \n",
              "\n",
              "      Growth_future_25d  Growth_future_26d  Growth_future_27d  \\\n",
              "DYCQ                NaN                NaN                NaN   \n",
              "LEGT                NaN                NaN                NaN   \n",
              "\n",
              "      Growth_future_28d  Growth_future_29d  Growth_future_30d  \n",
              "DYCQ                NaN                NaN                NaN  \n",
              "LEGT                NaN                NaN                NaN  \n",
              "\n",
              "[2 rows x 31 columns]"
            ]
          },
          "execution_count": 57,
          "metadata": {},
          "output_type": "execute_result"
        }
      ],
      "source": [
        "growth_df[growth_df.Growth_future_1d.isnull()]"
      ]
    },
    {
      "cell_type": "code",
      "execution_count": null,
      "id": "EglrSv91QIeH",
      "metadata": {
        "colab": {
          "base_uri": "https://localhost:8080/",
          "height": 453
        },
        "id": "EglrSv91QIeH",
        "outputId": "884b7904-dfe0-402c-b60b-9ed61b24520b"
      },
      "outputs": [
        {
          "data": {
            "application/vnd.google.colaboratory.intrinsic+json": {
              "type": "dataframe"
            },
            "text/html": [
              "\n",
              "  <div id=\"df-c3c62507-47a8-4379-b0ca-624b0e48bece\" class=\"colab-df-container\">\n",
              "    <div>\n",
              "<style scoped>\n",
              "    .dataframe tbody tr th:only-of-type {\n",
              "        vertical-align: middle;\n",
              "    }\n",
              "\n",
              "    .dataframe tbody tr th {\n",
              "        vertical-align: top;\n",
              "    }\n",
              "\n",
              "    .dataframe thead th {\n",
              "        text-align: right;\n",
              "    }\n",
              "</style>\n",
              "<table border=\"1\" class=\"dataframe\">\n",
              "  <thead>\n",
              "    <tr style=\"text-align: right;\">\n",
              "      <th></th>\n",
              "      <th>Min_Date</th>\n",
              "      <th>Growth_future_1d</th>\n",
              "      <th>Growth_future_2d</th>\n",
              "      <th>Growth_future_3d</th>\n",
              "      <th>Growth_future_4d</th>\n",
              "      <th>Growth_future_5d</th>\n",
              "      <th>Growth_future_6d</th>\n",
              "      <th>Growth_future_7d</th>\n",
              "      <th>Growth_future_8d</th>\n",
              "      <th>Growth_future_9d</th>\n",
              "      <th>...</th>\n",
              "      <th>Growth_future_21d</th>\n",
              "      <th>Growth_future_22d</th>\n",
              "      <th>Growth_future_23d</th>\n",
              "      <th>Growth_future_24d</th>\n",
              "      <th>Growth_future_25d</th>\n",
              "      <th>Growth_future_26d</th>\n",
              "      <th>Growth_future_27d</th>\n",
              "      <th>Growth_future_28d</th>\n",
              "      <th>Growth_future_29d</th>\n",
              "      <th>Growth_future_30d</th>\n",
              "    </tr>\n",
              "  </thead>\n",
              "  <tbody>\n",
              "    <tr>\n",
              "      <th>count</th>\n",
              "      <td>182</td>\n",
              "      <td>182.000000</td>\n",
              "      <td>182.000000</td>\n",
              "      <td>182.000000</td>\n",
              "      <td>182.000000</td>\n",
              "      <td>182.000000</td>\n",
              "      <td>182.000000</td>\n",
              "      <td>182.000000</td>\n",
              "      <td>182.000000</td>\n",
              "      <td>182.000000</td>\n",
              "      <td>...</td>\n",
              "      <td>182.000000</td>\n",
              "      <td>182.000000</td>\n",
              "      <td>182.000000</td>\n",
              "      <td>182.000000</td>\n",
              "      <td>182.000000</td>\n",
              "      <td>182.000000</td>\n",
              "      <td>182.000000</td>\n",
              "      <td>182.000000</td>\n",
              "      <td>182.000000</td>\n",
              "      <td>182.000000</td>\n",
              "    </tr>\n",
              "    <tr>\n",
              "      <th>mean</th>\n",
              "      <td>2023-07-11 10:17:08.571428608</td>\n",
              "      <td>-0.014584</td>\n",
              "      <td>-0.025620</td>\n",
              "      <td>-0.037883</td>\n",
              "      <td>-0.043556</td>\n",
              "      <td>-0.050087</td>\n",
              "      <td>-0.061733</td>\n",
              "      <td>-0.064694</td>\n",
              "      <td>-0.062755</td>\n",
              "      <td>-0.066730</td>\n",
              "      <td>...</td>\n",
              "      <td>-0.048454</td>\n",
              "      <td>-0.047297</td>\n",
              "      <td>-0.050201</td>\n",
              "      <td>-0.056540</td>\n",
              "      <td>-0.056980</td>\n",
              "      <td>-0.027980</td>\n",
              "      <td>-0.023337</td>\n",
              "      <td>-0.020373</td>\n",
              "      <td>-0.025585</td>\n",
              "      <td>-0.029997</td>\n",
              "    </tr>\n",
              "    <tr>\n",
              "      <th>min</th>\n",
              "      <td>2009-12-29 00:00:00</td>\n",
              "      <td>-0.331976</td>\n",
              "      <td>-0.440000</td>\n",
              "      <td>-0.480204</td>\n",
              "      <td>-0.711392</td>\n",
              "      <td>-0.673418</td>\n",
              "      <td>-0.718987</td>\n",
              "      <td>-0.769620</td>\n",
              "      <td>-0.764557</td>\n",
              "      <td>-0.736709</td>\n",
              "      <td>...</td>\n",
              "      <td>-0.823540</td>\n",
              "      <td>-0.836106</td>\n",
              "      <td>-0.837876</td>\n",
              "      <td>-0.841062</td>\n",
              "      <td>-0.856637</td>\n",
              "      <td>-0.895929</td>\n",
              "      <td>-0.887611</td>\n",
              "      <td>-0.875044</td>\n",
              "      <td>-0.876106</td>\n",
              "      <td>-0.880885</td>\n",
              "    </tr>\n",
              "    <tr>\n",
              "      <th>25%</th>\n",
              "      <td>2023-04-13 06:00:00</td>\n",
              "      <td>-0.031726</td>\n",
              "      <td>-0.079011</td>\n",
              "      <td>-0.118891</td>\n",
              "      <td>-0.140335</td>\n",
              "      <td>-0.170238</td>\n",
              "      <td>-0.181055</td>\n",
              "      <td>-0.209384</td>\n",
              "      <td>-0.209289</td>\n",
              "      <td>-0.206668</td>\n",
              "      <td>...</td>\n",
              "      <td>-0.312437</td>\n",
              "      <td>-0.323276</td>\n",
              "      <td>-0.312797</td>\n",
              "      <td>-0.326026</td>\n",
              "      <td>-0.337254</td>\n",
              "      <td>-0.351862</td>\n",
              "      <td>-0.341118</td>\n",
              "      <td>-0.317678</td>\n",
              "      <td>-0.325430</td>\n",
              "      <td>-0.313525</td>\n",
              "    </tr>\n",
              "    <tr>\n",
              "      <th>50%</th>\n",
              "      <td>2023-08-05 00:00:00</td>\n",
              "      <td>0.000000</td>\n",
              "      <td>-0.000395</td>\n",
              "      <td>-0.000996</td>\n",
              "      <td>-0.004357</td>\n",
              "      <td>-0.005578</td>\n",
              "      <td>-0.003185</td>\n",
              "      <td>-0.007002</td>\n",
              "      <td>-0.002327</td>\n",
              "      <td>-0.010746</td>\n",
              "      <td>...</td>\n",
              "      <td>-0.005586</td>\n",
              "      <td>-0.009143</td>\n",
              "      <td>-0.005660</td>\n",
              "      <td>-0.028902</td>\n",
              "      <td>-0.012365</td>\n",
              "      <td>-0.025437</td>\n",
              "      <td>-0.018693</td>\n",
              "      <td>-0.021685</td>\n",
              "      <td>-0.016955</td>\n",
              "      <td>-0.020339</td>\n",
              "    </tr>\n",
              "    <tr>\n",
              "      <th>75%</th>\n",
              "      <td>2023-11-16 06:00:00</td>\n",
              "      <td>0.019500</td>\n",
              "      <td>0.022566</td>\n",
              "      <td>0.021739</td>\n",
              "      <td>0.021394</td>\n",
              "      <td>0.013939</td>\n",
              "      <td>0.024738</td>\n",
              "      <td>0.018995</td>\n",
              "      <td>0.020457</td>\n",
              "      <td>0.015943</td>\n",
              "      <td>...</td>\n",
              "      <td>0.049028</td>\n",
              "      <td>0.041310</td>\n",
              "      <td>0.033088</td>\n",
              "      <td>0.022342</td>\n",
              "      <td>0.028868</td>\n",
              "      <td>0.032484</td>\n",
              "      <td>0.047881</td>\n",
              "      <td>0.038623</td>\n",
              "      <td>0.038440</td>\n",
              "      <td>0.015988</td>\n",
              "    </tr>\n",
              "    <tr>\n",
              "      <th>max</th>\n",
              "      <td>2024-03-11 00:00:00</td>\n",
              "      <td>0.623950</td>\n",
              "      <td>0.904000</td>\n",
              "      <td>1.088435</td>\n",
              "      <td>1.267574</td>\n",
              "      <td>1.164444</td>\n",
              "      <td>0.997733</td>\n",
              "      <td>1.018889</td>\n",
              "      <td>1.354445</td>\n",
              "      <td>1.666667</td>\n",
              "      <td>...</td>\n",
              "      <td>2.879819</td>\n",
              "      <td>2.854875</td>\n",
              "      <td>2.812018</td>\n",
              "      <td>2.554927</td>\n",
              "      <td>3.930116</td>\n",
              "      <td>8.056122</td>\n",
              "      <td>8.081632</td>\n",
              "      <td>8.265306</td>\n",
              "      <td>8.372449</td>\n",
              "      <td>8.290816</td>\n",
              "    </tr>\n",
              "    <tr>\n",
              "      <th>std</th>\n",
              "      <td>NaN</td>\n",
              "      <td>0.111297</td>\n",
              "      <td>0.165019</td>\n",
              "      <td>0.196727</td>\n",
              "      <td>0.235335</td>\n",
              "      <td>0.254601</td>\n",
              "      <td>0.241914</td>\n",
              "      <td>0.260586</td>\n",
              "      <td>0.288210</td>\n",
              "      <td>0.306354</td>\n",
              "      <td>...</td>\n",
              "      <td>0.461264</td>\n",
              "      <td>0.480336</td>\n",
              "      <td>0.486991</td>\n",
              "      <td>0.490962</td>\n",
              "      <td>0.531792</td>\n",
              "      <td>0.784622</td>\n",
              "      <td>0.785817</td>\n",
              "      <td>0.783343</td>\n",
              "      <td>0.769682</td>\n",
              "      <td>0.745978</td>\n",
              "    </tr>\n",
              "  </tbody>\n",
              "</table>\n",
              "<p>8 rows × 31 columns</p>\n",
              "</div>\n",
              "    <div class=\"colab-df-buttons\">\n",
              "\n",
              "  <div class=\"colab-df-container\">\n",
              "    <button class=\"colab-df-convert\" onclick=\"convertToInteractive('df-c3c62507-47a8-4379-b0ca-624b0e48bece')\"\n",
              "            title=\"Convert this dataframe to an interactive table.\"\n",
              "            style=\"display:none;\">\n",
              "\n",
              "  <svg xmlns=\"http://www.w3.org/2000/svg\" height=\"24px\" viewBox=\"0 -960 960 960\">\n",
              "    <path d=\"M120-120v-720h720v720H120Zm60-500h600v-160H180v160Zm220 220h160v-160H400v160Zm0 220h160v-160H400v160ZM180-400h160v-160H180v160Zm440 0h160v-160H620v160ZM180-180h160v-160H180v160Zm440 0h160v-160H620v160Z\"/>\n",
              "  </svg>\n",
              "    </button>\n",
              "\n",
              "  <style>\n",
              "    .colab-df-container {\n",
              "      display:flex;\n",
              "      gap: 12px;\n",
              "    }\n",
              "\n",
              "    .colab-df-convert {\n",
              "      background-color: #E8F0FE;\n",
              "      border: none;\n",
              "      border-radius: 50%;\n",
              "      cursor: pointer;\n",
              "      display: none;\n",
              "      fill: #1967D2;\n",
              "      height: 32px;\n",
              "      padding: 0 0 0 0;\n",
              "      width: 32px;\n",
              "    }\n",
              "\n",
              "    .colab-df-convert:hover {\n",
              "      background-color: #E2EBFA;\n",
              "      box-shadow: 0px 1px 2px rgba(60, 64, 67, 0.3), 0px 1px 3px 1px rgba(60, 64, 67, 0.15);\n",
              "      fill: #174EA6;\n",
              "    }\n",
              "\n",
              "    .colab-df-buttons div {\n",
              "      margin-bottom: 4px;\n",
              "    }\n",
              "\n",
              "    [theme=dark] .colab-df-convert {\n",
              "      background-color: #3B4455;\n",
              "      fill: #D2E3FC;\n",
              "    }\n",
              "\n",
              "    [theme=dark] .colab-df-convert:hover {\n",
              "      background-color: #434B5C;\n",
              "      box-shadow: 0px 1px 3px 1px rgba(0, 0, 0, 0.15);\n",
              "      filter: drop-shadow(0px 1px 2px rgba(0, 0, 0, 0.3));\n",
              "      fill: #FFFFFF;\n",
              "    }\n",
              "  </style>\n",
              "\n",
              "    <script>\n",
              "      const buttonEl =\n",
              "        document.querySelector('#df-c3c62507-47a8-4379-b0ca-624b0e48bece button.colab-df-convert');\n",
              "      buttonEl.style.display =\n",
              "        google.colab.kernel.accessAllowed ? 'block' : 'none';\n",
              "\n",
              "      async function convertToInteractive(key) {\n",
              "        const element = document.querySelector('#df-c3c62507-47a8-4379-b0ca-624b0e48bece');\n",
              "        const dataTable =\n",
              "          await google.colab.kernel.invokeFunction('convertToInteractive',\n",
              "                                                    [key], {});\n",
              "        if (!dataTable) return;\n",
              "\n",
              "        const docLinkHtml = 'Like what you see? Visit the ' +\n",
              "          '<a target=\"_blank\" href=https://colab.research.google.com/notebooks/data_table.ipynb>data table notebook</a>'\n",
              "          + ' to learn more about interactive tables.';\n",
              "        element.innerHTML = '';\n",
              "        dataTable['output_type'] = 'display_data';\n",
              "        await google.colab.output.renderOutput(dataTable, element);\n",
              "        const docLink = document.createElement('div');\n",
              "        docLink.innerHTML = docLinkHtml;\n",
              "        element.appendChild(docLink);\n",
              "      }\n",
              "    </script>\n",
              "  </div>\n",
              "\n",
              "\n",
              "<div id=\"df-ed6568ba-f3d3-4c0d-8258-2c2364dc8aaa\">\n",
              "  <button class=\"colab-df-quickchart\" onclick=\"quickchart('df-ed6568ba-f3d3-4c0d-8258-2c2364dc8aaa')\"\n",
              "            title=\"Suggest charts\"\n",
              "            style=\"display:none;\">\n",
              "\n",
              "<svg xmlns=\"http://www.w3.org/2000/svg\" height=\"24px\"viewBox=\"0 0 24 24\"\n",
              "     width=\"24px\">\n",
              "    <g>\n",
              "        <path d=\"M19 3H5c-1.1 0-2 .9-2 2v14c0 1.1.9 2 2 2h14c1.1 0 2-.9 2-2V5c0-1.1-.9-2-2-2zM9 17H7v-7h2v7zm4 0h-2V7h2v10zm4 0h-2v-4h2v4z\"/>\n",
              "    </g>\n",
              "</svg>\n",
              "  </button>\n",
              "\n",
              "<style>\n",
              "  .colab-df-quickchart {\n",
              "      --bg-color: #E8F0FE;\n",
              "      --fill-color: #1967D2;\n",
              "      --hover-bg-color: #E2EBFA;\n",
              "      --hover-fill-color: #174EA6;\n",
              "      --disabled-fill-color: #AAA;\n",
              "      --disabled-bg-color: #DDD;\n",
              "  }\n",
              "\n",
              "  [theme=dark] .colab-df-quickchart {\n",
              "      --bg-color: #3B4455;\n",
              "      --fill-color: #D2E3FC;\n",
              "      --hover-bg-color: #434B5C;\n",
              "      --hover-fill-color: #FFFFFF;\n",
              "      --disabled-bg-color: #3B4455;\n",
              "      --disabled-fill-color: #666;\n",
              "  }\n",
              "\n",
              "  .colab-df-quickchart {\n",
              "    background-color: var(--bg-color);\n",
              "    border: none;\n",
              "    border-radius: 50%;\n",
              "    cursor: pointer;\n",
              "    display: none;\n",
              "    fill: var(--fill-color);\n",
              "    height: 32px;\n",
              "    padding: 0;\n",
              "    width: 32px;\n",
              "  }\n",
              "\n",
              "  .colab-df-quickchart:hover {\n",
              "    background-color: var(--hover-bg-color);\n",
              "    box-shadow: 0 1px 2px rgba(60, 64, 67, 0.3), 0 1px 3px 1px rgba(60, 64, 67, 0.15);\n",
              "    fill: var(--button-hover-fill-color);\n",
              "  }\n",
              "\n",
              "  .colab-df-quickchart-complete:disabled,\n",
              "  .colab-df-quickchart-complete:disabled:hover {\n",
              "    background-color: var(--disabled-bg-color);\n",
              "    fill: var(--disabled-fill-color);\n",
              "    box-shadow: none;\n",
              "  }\n",
              "\n",
              "  .colab-df-spinner {\n",
              "    border: 2px solid var(--fill-color);\n",
              "    border-color: transparent;\n",
              "    border-bottom-color: var(--fill-color);\n",
              "    animation:\n",
              "      spin 1s steps(1) infinite;\n",
              "  }\n",
              "\n",
              "  @keyframes spin {\n",
              "    0% {\n",
              "      border-color: transparent;\n",
              "      border-bottom-color: var(--fill-color);\n",
              "      border-left-color: var(--fill-color);\n",
              "    }\n",
              "    20% {\n",
              "      border-color: transparent;\n",
              "      border-left-color: var(--fill-color);\n",
              "      border-top-color: var(--fill-color);\n",
              "    }\n",
              "    30% {\n",
              "      border-color: transparent;\n",
              "      border-left-color: var(--fill-color);\n",
              "      border-top-color: var(--fill-color);\n",
              "      border-right-color: var(--fill-color);\n",
              "    }\n",
              "    40% {\n",
              "      border-color: transparent;\n",
              "      border-right-color: var(--fill-color);\n",
              "      border-top-color: var(--fill-color);\n",
              "    }\n",
              "    60% {\n",
              "      border-color: transparent;\n",
              "      border-right-color: var(--fill-color);\n",
              "    }\n",
              "    80% {\n",
              "      border-color: transparent;\n",
              "      border-right-color: var(--fill-color);\n",
              "      border-bottom-color: var(--fill-color);\n",
              "    }\n",
              "    90% {\n",
              "      border-color: transparent;\n",
              "      border-bottom-color: var(--fill-color);\n",
              "    }\n",
              "  }\n",
              "</style>\n",
              "\n",
              "  <script>\n",
              "    async function quickchart(key) {\n",
              "      const quickchartButtonEl =\n",
              "        document.querySelector('#' + key + ' button');\n",
              "      quickchartButtonEl.disabled = true;  // To prevent multiple clicks.\n",
              "      quickchartButtonEl.classList.add('colab-df-spinner');\n",
              "      try {\n",
              "        const charts = await google.colab.kernel.invokeFunction(\n",
              "            'suggestCharts', [key], {});\n",
              "      } catch (error) {\n",
              "        console.error('Error during call to suggestCharts:', error);\n",
              "      }\n",
              "      quickchartButtonEl.classList.remove('colab-df-spinner');\n",
              "      quickchartButtonEl.classList.add('colab-df-quickchart-complete');\n",
              "    }\n",
              "    (() => {\n",
              "      let quickchartButtonEl =\n",
              "        document.querySelector('#df-ed6568ba-f3d3-4c0d-8258-2c2364dc8aaa button');\n",
              "      quickchartButtonEl.style.display =\n",
              "        google.colab.kernel.accessAllowed ? 'block' : 'none';\n",
              "    })();\n",
              "  </script>\n",
              "</div>\n",
              "\n",
              "    </div>\n",
              "  </div>\n"
            ],
            "text/plain": [
              "                            Min_Date  Growth_future_1d  Growth_future_2d  \\\n",
              "count                            182        182.000000        182.000000   \n",
              "mean   2023-07-11 10:17:08.571428608         -0.014584         -0.025620   \n",
              "min              2009-12-29 00:00:00         -0.331976         -0.440000   \n",
              "25%              2023-04-13 06:00:00         -0.031726         -0.079011   \n",
              "50%              2023-08-05 00:00:00          0.000000         -0.000395   \n",
              "75%              2023-11-16 06:00:00          0.019500          0.022566   \n",
              "max              2024-03-11 00:00:00          0.623950          0.904000   \n",
              "std                              NaN          0.111297          0.165019   \n",
              "\n",
              "       Growth_future_3d  Growth_future_4d  Growth_future_5d  Growth_future_6d  \\\n",
              "count        182.000000        182.000000        182.000000        182.000000   \n",
              "mean          -0.037883         -0.043556         -0.050087         -0.061733   \n",
              "min           -0.480204         -0.711392         -0.673418         -0.718987   \n",
              "25%           -0.118891         -0.140335         -0.170238         -0.181055   \n",
              "50%           -0.000996         -0.004357         -0.005578         -0.003185   \n",
              "75%            0.021739          0.021394          0.013939          0.024738   \n",
              "max            1.088435          1.267574          1.164444          0.997733   \n",
              "std            0.196727          0.235335          0.254601          0.241914   \n",
              "\n",
              "       Growth_future_7d  Growth_future_8d  Growth_future_9d  ...  \\\n",
              "count        182.000000        182.000000        182.000000  ...   \n",
              "mean          -0.064694         -0.062755         -0.066730  ...   \n",
              "min           -0.769620         -0.764557         -0.736709  ...   \n",
              "25%           -0.209384         -0.209289         -0.206668  ...   \n",
              "50%           -0.007002         -0.002327         -0.010746  ...   \n",
              "75%            0.018995          0.020457          0.015943  ...   \n",
              "max            1.018889          1.354445          1.666667  ...   \n",
              "std            0.260586          0.288210          0.306354  ...   \n",
              "\n",
              "       Growth_future_21d  Growth_future_22d  Growth_future_23d  \\\n",
              "count         182.000000         182.000000         182.000000   \n",
              "mean           -0.048454          -0.047297          -0.050201   \n",
              "min            -0.823540          -0.836106          -0.837876   \n",
              "25%            -0.312437          -0.323276          -0.312797   \n",
              "50%            -0.005586          -0.009143          -0.005660   \n",
              "75%             0.049028           0.041310           0.033088   \n",
              "max             2.879819           2.854875           2.812018   \n",
              "std             0.461264           0.480336           0.486991   \n",
              "\n",
              "       Growth_future_24d  Growth_future_25d  Growth_future_26d  \\\n",
              "count         182.000000         182.000000         182.000000   \n",
              "mean           -0.056540          -0.056980          -0.027980   \n",
              "min            -0.841062          -0.856637          -0.895929   \n",
              "25%            -0.326026          -0.337254          -0.351862   \n",
              "50%            -0.028902          -0.012365          -0.025437   \n",
              "75%             0.022342           0.028868           0.032484   \n",
              "max             2.554927           3.930116           8.056122   \n",
              "std             0.490962           0.531792           0.784622   \n",
              "\n",
              "       Growth_future_27d  Growth_future_28d  Growth_future_29d  \\\n",
              "count         182.000000         182.000000         182.000000   \n",
              "mean           -0.023337          -0.020373          -0.025585   \n",
              "min            -0.887611          -0.875044          -0.876106   \n",
              "25%            -0.341118          -0.317678          -0.325430   \n",
              "50%            -0.018693          -0.021685          -0.016955   \n",
              "75%             0.047881           0.038623           0.038440   \n",
              "max             8.081632           8.265306           8.372449   \n",
              "std             0.785817           0.783343           0.769682   \n",
              "\n",
              "       Growth_future_30d  \n",
              "count         182.000000  \n",
              "mean           -0.029997  \n",
              "min            -0.880885  \n",
              "25%            -0.313525  \n",
              "50%            -0.020339  \n",
              "75%             0.015988  \n",
              "max             8.290816  \n",
              "std             0.745978  \n",
              "\n",
              "[8 rows x 31 columns]"
            ]
          },
          "execution_count": 58,
          "metadata": {},
          "output_type": "execute_result"
        }
      ],
      "source": [
        "growth_df.describe()"
      ]
    },
    {
      "cell_type": "code",
      "source": [
        "# Compute 75% quantile growth for each holding period\n",
        "quantile_75 = growth_df.groupby(growth_df.index)[[f'Growth_future_{i}d' for i in range(1, 31)]].quantile(0.75)\n",
        "\n",
        "# Find the holding period (X) with the highest 75% quantile growth\n",
        "optimal_X = quantile_75.mean(axis=0).idxmax()\n",
        "print(optimal_X)"
      ],
      "metadata": {
        "colab": {
          "base_uri": "https://localhost:8080/"
        },
        "id": "ILWXwjaHNtjV",
        "outputId": "cd9df64a-09fc-431e-849f-fd600588c6e1"
      },
      "id": "ILWXwjaHNtjV",
      "execution_count": 121,
      "outputs": [
        {
          "output_type": "stream",
          "name": "stdout",
          "text": [
            "Growth_future_12d\n"
          ]
        }
      ]
    },
    {
      "cell_type": "code",
      "execution_count": null,
      "id": "44qBD2GaUX71",
      "metadata": {
        "colab": {
          "base_uri": "https://localhost:8080/"
        },
        "id": "44qBD2GaUX71",
        "outputId": "45768315-8bc3-4471-f34b-1eb0406dd62b"
      },
      "outputs": [
        {
          "name": "stdout",
          "output_type": "stream",
          "text": [
            "Count of each day in the result:\n",
            "Counter({'Growth_future_1d': 42, 'Growth_future_30d': 16, 'Growth_future_2d': 16, 'Growth_future_29d': 10, 'Growth_future_28d': 7, 'Growth_future_27d': 6, 'Growth_future_22d': 6, 'Growth_future_14d': 5, 'Growth_future_25d': 5, 'Growth_future_12d': 5, 'Growth_future_26d': 5, 'Growth_future_20d': 5, 'Growth_future_4d': 5, 'Growth_future_16d': 4, 'Growth_future_24d': 4, 'Growth_future_13d': 4, 'Growth_future_3d': 4, 'Growth_future_5d': 4, 'Growth_future_15d': 3, 'Growth_future_18d': 3, 'Growth_future_10d': 3, 'Growth_future_11d': 3, 'Growth_future_9d': 3, 'Growth_future_7d': 3, 'Growth_future_21d': 3, 'Growth_future_23d': 3, 'Growth_future_19d': 2, 'Growth_future_8d': 2, 'Growth_future_6d': 2, 'Growth_future_17d': 1})\n",
            "Best selling days for each stock based on highest average growth:\n",
            "{'AACT': 'Growth_future_27d', 'AESI': 'Growth_future_30d', 'AFJK': 'Growth_future_15d', 'AHR': 'Growth_future_29d', 'AITR': 'Growth_future_30d', 'AIXI': 'Growth_future_16d', 'ALCY': 'Growth_future_29d', 'ANL': 'Growth_future_1d', 'ANRO': 'Growth_future_1d', 'ANSC': 'Growth_future_18d', 'APGE': 'Growth_future_28d', 'ARBB': 'Growth_future_10d', 'ARM': 'Growth_future_1d', 'AS': 'Growth_future_19d', 'ASST': 'Growth_future_1d', 'ATGL': 'Growth_future_11d', 'ATMU': 'Growth_future_30d', 'ATS': 'Growth_future_9d', 'AVBP': 'Growth_future_24d', 'AZTR': 'Growth_future_1d', 'BANL': 'Growth_future_14d', 'BAYA': 'Growth_future_18d', 'BFRG': 'Growth_future_2d', 'BIRK': 'Growth_future_28d', 'BLAC': 'Growth_future_30d', 'BMR': 'Growth_future_1d', 'BOF': 'Growth_future_1d', 'BOWN': 'Growth_future_27d', 'BREA': 'Growth_future_11d', 'BTSG': 'Growth_future_7d', 'BUJA': 'Growth_future_13d', 'CART': 'Growth_future_1d', 'CAVA': 'Growth_future_28d', 'CCTG': 'Growth_future_8d', 'CETU': 'Growth_future_22d', 'CGON': 'Growth_future_15d', 'CHRO': 'Growth_future_2d', 'CHSN': 'Growth_future_28d', 'CLBR': 'Growth_future_30d', 'CRGX': 'Growth_future_27d', 'CTNT': 'Growth_future_1d', 'CVKD': 'Growth_future_1d', 'CWD': 'Growth_future_1d', 'DDC': 'Growth_future_1d', 'DIST': 'Growth_future_21d', 'DTCK': 'Growth_future_2d', 'DYCQ': 'Growth_future_1d', 'ELAB': 'Growth_future_3d', 'ELWS': 'Growth_future_1d', 'ENLT': 'Growth_future_29d', 'ESHA': 'Growth_future_14d', 'FBLG': 'Growth_future_8d', 'FEBO': 'Growth_future_21d', 'FIHL': 'Growth_future_25d', 'FORL': 'Growth_future_12d', 'FTEL': 'Growth_future_2d', 'GDHG': 'Growth_future_30d', 'GDTC': 'Growth_future_15d', 'GENK': 'Growth_future_27d', 'GLAC': 'Growth_future_30d', 'GMM': 'Growth_future_26d', 'GNLX': 'Growth_future_25d', 'GODN': 'Growth_future_12d', 'GPAK': 'Growth_future_5d', 'GPCR': 'Growth_future_18d', 'GSIW': 'Growth_future_30d', 'GUTS': 'Growth_future_2d', 'GVH': 'Growth_future_2d', 'GXAI': 'Growth_future_1d', 'HAO': 'Growth_future_14d', 'HG': 'Growth_future_14d', 'HKIT': 'Growth_future_30d', 'HLP': 'Growth_future_20d', 'HLXB': 'Growth_future_3d', 'HRYU': 'Growth_future_22d', 'HSAI': 'Growth_future_1d', 'HSHP': 'Growth_future_1d', 'HYAC': 'Growth_future_24d', 'ICG': 'Growth_future_29d', 'INHD': 'Growth_future_1d', 'INTS': 'Growth_future_10d', 'IPXX': 'Growth_future_28d', 'IROH': 'Growth_future_30d', 'ISPR': 'Growth_future_22d', 'ISRL': 'Growth_future_30d', 'IVP': 'Growth_future_1d', 'IZM': 'Growth_future_7d', 'JL': 'Growth_future_20d', 'JNVR': 'Growth_future_1d', 'JVSA': 'Growth_future_27d', 'JYD': 'Growth_future_4d', 'KGS': 'Growth_future_30d', 'KSPI': 'Growth_future_29d', 'KVAC': 'Growth_future_14d', 'KVUE': 'Growth_future_6d', 'KVYO': 'Growth_future_4d', 'KYTX': 'Growth_future_21d', 'LEGT': 'Growth_future_1d', 'LGCB': 'Growth_future_29d', 'LICN': 'Growth_future_4d', 'LQR': 'Growth_future_2d', 'LRE': 'Growth_future_6d', 'LRHC': 'Growth_future_1d', 'LSDI': 'Growth_future_3d', 'LXEO': 'Growth_future_20d', 'MARX': 'Growth_future_17d', 'MDBH': 'Growth_future_1d', 'MGIH': 'Growth_future_1d', 'MGOL': 'Growth_future_2d', 'MGRX': 'Growth_future_2d', 'MGX': 'Growth_future_2d', 'MIRA': 'Growth_future_1d', 'MLYS': 'Growth_future_13d', 'MNR': 'Growth_future_1d', 'MSS': 'Growth_future_27d', 'MWG': 'Growth_future_7d', 'NCL': 'Growth_future_11d', 'NETD': 'Growth_future_25d', 'NMRA': 'Growth_future_1d', 'NNAG': 'Growth_future_1d', 'NRXS': 'Growth_future_1d', 'NWGL': 'Growth_future_28d', 'NXT': 'Growth_future_16d', 'OAKU': 'Growth_future_30d', 'ODD': 'Growth_future_10d', 'OMH': 'Growth_future_23d', 'PAPL': 'Growth_future_24d', 'PMEC': 'Growth_future_25d', 'PMNT': 'Growth_future_2d', 'PRZO': 'Growth_future_1d', 'PSBD': 'Growth_future_22d', 'PTHRU': 'Growth_future_23d', 'PWM': 'Growth_future_2d', 'PXDT': 'Growth_future_2d', 'QETA': 'Growth_future_22d', 'QSG': 'Growth_future_13d', 'ROMA': 'Growth_future_1d', 'RR': 'Growth_future_28d', 'SBXC': 'Growth_future_20d', 'SDHC': 'Growth_future_30d', 'SFWL': 'Growth_future_25d', 'SGE': 'Growth_future_1d', 'SGMT': 'Growth_future_12d', 'SGN': 'Growth_future_5d', 'SHIM': 'Growth_future_2d', 'SKWD': 'Growth_future_19d', 'SLRN': 'Growth_future_4d', 'SMXT': 'Growth_future_30d', 'SPGC': 'Growth_future_1d', 'SPKL': 'Growth_future_30d', 'SPPL': 'Growth_future_26d', 'SRFM': 'Growth_future_26d', 'SRM': 'Growth_future_1d', 'SUGP': 'Growth_future_16d', 'SVV': 'Growth_future_29d', 'SWIN': 'Growth_future_9d', 'SXTP': 'Growth_future_1d', 'SYNX': 'Growth_future_1d', 'SYRA': 'Growth_future_1d', 'SYT': 'Growth_future_9d', 'TBBB': 'Growth_future_29d', 'TBMC': 'Growth_future_29d', 'TCJH': 'Growth_future_26d', 'TELO': 'Growth_future_2d', 'TMTC': 'Growth_future_23d', 'TPET': 'Growth_future_2d', 'TRNR': 'Growth_future_13d', 'TSBX': 'Growth_future_5d', 'TURB': 'Growth_future_1d', 'TXO': 'Growth_future_20d', 'UCAR': 'Growth_future_29d', 'UMAC': 'Growth_future_5d', 'USGO': 'Growth_future_12d', 'VCIG': 'Growth_future_12d', 'VHAI': 'Growth_future_1d', 'VSME': 'Growth_future_4d', 'VTMX': 'Growth_future_1d', 'WBUY': 'Growth_future_24d', 'WLGS': 'Growth_future_1d', 'WRNT': 'Growth_future_1d', 'YGFGF': 'Growth_future_3d', 'YIBO': 'Growth_future_26d', 'ZJYL': 'Growth_future_22d', 'ZKH': 'Growth_future_16d'}\n"
          ]
        }
      ],
      "source": [
        "interval = 30\n",
        "# Calculate the average growth for each day over the 30-day interval for each stock\n",
        "average_growth_per_stock = growth_df[[f'Growth_future_{i}d' for i in range(1, interval + 1)]].mean(axis=1)\n",
        "\n",
        "# # Identify the day with the highest average growth for each stock\n",
        "# best_selling_days = average_growth_per_stock.groupby(level=0).idxmax()\n",
        "\n",
        "# print(\"Best selling days for each stock based on average growth:\")\n",
        "# print(best_selling_days)\n",
        "\n",
        "best_selling_days = {}\n",
        "\n",
        "for ticker in average_growth_per_stock.index:\n",
        "    max_value = None\n",
        "    max_index = None\n",
        "\n",
        "    # Iterate over the growth values and their corresponding index labels\n",
        "    for index, value in growth_df.loc[ticker, [f'Growth_future_{i}d' for i in range(1, interval + 1)]].items():\n",
        "        # Check if this value is the new maximum\n",
        "        if max_value is None or value > max_value:\n",
        "            max_value = value\n",
        "            max_index = index\n",
        "\n",
        "    # Store the result\n",
        "    best_selling_days[ticker] = max_index\n",
        "\n",
        "    # Count occurrences of each day in the result\n",
        "day_counts = Counter(best_selling_days.values())\n",
        "\n",
        "print(\"Count of each day in the result:\")\n",
        "print(day_counts)\n",
        "\n",
        "print(\"Best selling days for each stock based on highest average growth:\")\n",
        "print(best_selling_days)"
      ]
    },
    {
      "cell_type": "code",
      "source": [
        "# Assuming 'growth_df' is your DataFrame with columns 'Growth_future_1d' to 'Growth_future_30d'\n",
        "def calculate_average_growth(df, num_days):\n",
        "    # Calculate the average growth over the rolling window\n",
        "    average_growth = df.rolling(window=num_days, axis=1).mean()\n",
        "\n",
        "    return average_growth\n",
        "\n",
        "# Calculate average growth for each possible number of days\n",
        "average_growth_values = []\n",
        "\n",
        "for num_days in range(1, 31):\n",
        "    average_growth = calculate_average_growth(growth_df, num_days)\n",
        "    average_growth_values.append(average_growth)\n",
        "\n",
        "# Create a DataFrame to store the average growth values\n",
        "df_average_growth = pd.concat(average_growth_values, axis=1)\n",
        "\n",
        "# Describe the DataFrame to get summary statistics\n",
        "summary_stats = df_average_growth.describe()\n",
        "\n",
        "# Extract the 75th percentile from the summary statistics\n",
        "percentile_75 = summary_stats.loc['75%', :]\n",
        "\n",
        "# Find the optimal number of days where the 75th percentile is highest\n",
        "optimal_num_days = percentile_75.idxmax()\n",
        "\n",
        "print(\"Optimal number of days with highest 75th percentile:\", optimal_num_days)"
      ],
      "metadata": {
        "colab": {
          "base_uri": "https://localhost:8080/"
        },
        "id": "k0iNDgHr8VSh",
        "outputId": "65231a02-adf6-40d7-beda-164a96665c87"
      },
      "id": "k0iNDgHr8VSh",
      "execution_count": 93,
      "outputs": [
        {
          "output_type": "stream",
          "name": "stdout",
          "text": [
            "Optimal number of days with highest 75th percentile: Growth_future_21d\n"
          ]
        }
      ]
    },
    {
      "cell_type": "markdown",
      "id": "tMg_A2Qvl5xL",
      "metadata": {
        "id": "tMg_A2Qvl5xL"
      },
      "source": [
        "## Question 3: Is Growth Concentrated in the Largest Stocks?\n",
        "Get the share of days (percentage as int) when Large Stocks outperform (growth_7d - growth over 7 periods back) the Largest stocks?\n",
        "\n",
        "Reuse [Code Snippet 5] to obtain OHLCV stats for 33 stocks for 10 full years of data (2014-01-01 to 2023-12-31). You'll need to download slightly more data (7 periods before 2014-01-01 to calculate the growth_7d for the first 6 days correctly):\n",
        "\n",
        "US_STOCKS = ['MSFT', 'AAPL', 'GOOG', 'NVDA', 'AMZN', 'META', 'BRK-B', 'LLY', 'AVGO','V', 'JPM']\n",
        "\n",
        "EU_STOCKS = ['NVO','MC.PA', 'ASML', 'RMS.PA', 'OR.PA', 'SAP', 'ACN', 'TTE', 'SIE.DE','IDEXY','CDI.PA']\n",
        "\n",
        "INDIA_STOCKS = ['RELIANCE.NS','TCS.NS','HDB','BHARTIARTL.NS','IBN','SBIN.NS','LICI.NS','INFY','ITC.NS','HINDUNILVR.NS','LT.NS']\n",
        "\n",
        "LARGEST_STOCKS = US_STOCKS + EU_STOCKS + INDIA_STOCKS\n",
        "\n",
        "Now let's add the top 12-22 stocks (as of end-April 2024):\n",
        "\n",
        "NEW_US = ['TSLA','WMT','XOM','UNH','MA','PG','JNJ','MRK','HD','COST','ORCL']\n",
        "\n",
        "NEW_EU = ['PRX.AS','CDI.PA','AIR.PA','SU.PA','ETN','SNY','BUD','DTE.DE','ALV.DE','MDT','AI.PA','EL.PA']\n",
        "\n",
        "NEW_INDIA = ['BAJFINANCE.NS','MARUTI.NS','HCLTECH.NS','TATAMOTORS.NS','SUNPHARMA.NS','ONGC.NS','ADANIENT.NS','ADANIENT.NS','NTPC.NS','KOTAKBANK.NS','TITAN.NS']\n",
        "\n",
        "LARGE_STOCKS = NEW_EU + NEW_US + NEW_INDIA\n",
        "\n",
        "You should be able to obtain stats for 33 LARGEST STOCKS and 32 LARGE STOCKS (from the actual stats on Yahoo Finance)\n",
        "\n",
        "Calculate growth_7d for every stock and every day. Get the average daily growth_7d for the LARGEST_STOCKS group vs. the LARGE_STOCKS group.\n",
        "\n",
        "For example, for the first of data you should have:\n",
        "\n",
        "Date\tticker_category\tgrowth_7d\n",
        "2014-01-01\tLARGE\t1.011684\n",
        "2014-01-01\tLARGEST\t1.011797\n",
        "On that day, the LARGEST group was growing faster than LARGE one (new stocks).\n",
        "\n",
        "Calculate the number of days when the LARGE GROUP (new smaller stocks) outperforms the LARGEST GROUP, divide it by the total number of trading days (which should be 2595 days), and convert it to a percentage (closest INTEGER value). For example, if you find that 1700 out of 2595 days meet this condition, it means that 1700/2595 = 0.655, or approximately 66% of days, the LARGE stocks were growing faster than the LARGEST ones. This suggests that you should consider extending your dataset with more stocks to seek higher growth.\n",
        "\n",
        "HINT: you can use pandas.pivot_table() to \"flatten\" the table (LARGE and LARGEST growth_7d as columns)"
      ]
    },
    {
      "cell_type": "code",
      "execution_count": null,
      "id": "Ir8FiPJSmR8O",
      "metadata": {
        "id": "Ir8FiPJSmR8O"
      },
      "outputs": [],
      "source": [
        "US_STOCKS = ['MSFT', 'AAPL', 'GOOG', 'NVDA', 'AMZN', 'META', 'BRK-B', 'LLY', 'AVGO','V', 'JPM']\n",
        "\n",
        "EU_STOCKS = ['NVO','MC.PA', 'ASML', 'RMS.PA', 'OR.PA', 'SAP', 'ACN', 'TTE', 'SIE.DE','IDEXY','CDI.PA']\n",
        "\n",
        "INDIA_STOCKS = ['RELIANCE.NS','TCS.NS','HDB','BHARTIARTL.NS','IBN','SBIN.NS','LICI.NS','INFY','ITC.NS','HINDUNILVR.NS','LT.NS']\n",
        "\n",
        "LARGEST_STOCKS = US_STOCKS + EU_STOCKS + INDIA_STOCKS\n",
        "\n",
        "\n",
        "NEW_US = ['TSLA','WMT','XOM','UNH','MA','PG','JNJ','MRK','HD','COST','ORCL']\n",
        "\n",
        "NEW_EU = ['PRX.AS','CDI.PA','AIR.PA','SU.PA','ETN','SNY','BUD','DTE.DE','ALV.DE','MDT','AI.PA','EL.PA']\n",
        "\n",
        "NEW_INDIA = ['BAJFINANCE.NS','MARUTI.NS','HCLTECH.NS','TATAMOTORS.NS','SUNPHARMA.NS','ONGC.NS','ADANIENT.NS','ADANIENT.NS','NTPC.NS','KOTAKBANK.NS','TITAN.NS']\n",
        "\n",
        "LARGE_STOCKS = NEW_EU + NEW_US + NEW_INDIA\n",
        "\n",
        "ALL_TICKERS = LARGEST_STOCKS + LARGE_STOCKS"
      ]
    },
    {
      "cell_type": "code",
      "execution_count": null,
      "id": "2Hg7V_BRoPH1",
      "metadata": {
        "colab": {
          "background_save": true,
          "base_uri": "https://localhost:8080/"
        },
        "id": "2Hg7V_BRoPH1",
        "outputId": "aff59807-bae2-465f-ca1c-abd6c8c9b0ae"
      },
      "outputs": [
        {
          "name": "stderr",
          "output_type": "stream",
          "text": [
            "\r[*********************100%%**********************]  1 of 1 completed"
          ]
        },
        {
          "name": "stdout",
          "output_type": "stream",
          "text": [
            "0 MSFT\n"
          ]
        },
        {
          "name": "stderr",
          "output_type": "stream",
          "text": [
            "\n"
          ]
        },
        {
          "name": "stdout",
          "output_type": "stream",
          "text": [
            "1 AAPL\n"
          ]
        },
        {
          "name": "stderr",
          "output_type": "stream",
          "text": [
            "\r[*********************100%%**********************]  1 of 1 completed\n"
          ]
        },
        {
          "name": "stdout",
          "output_type": "stream",
          "text": [
            "2 GOOG\n"
          ]
        },
        {
          "name": "stderr",
          "output_type": "stream",
          "text": [
            "\r[*********************100%%**********************]  1 of 1 completed\n"
          ]
        },
        {
          "name": "stdout",
          "output_type": "stream",
          "text": [
            "3 NVDA\n"
          ]
        },
        {
          "name": "stderr",
          "output_type": "stream",
          "text": [
            "\r[*********************100%%**********************]  1 of 1 completed\n"
          ]
        },
        {
          "name": "stdout",
          "output_type": "stream",
          "text": [
            "4 AMZN\n"
          ]
        },
        {
          "name": "stderr",
          "output_type": "stream",
          "text": [
            "\r[*********************100%%**********************]  1 of 1 completed\n"
          ]
        },
        {
          "name": "stdout",
          "output_type": "stream",
          "text": [
            "5 META\n"
          ]
        },
        {
          "name": "stderr",
          "output_type": "stream",
          "text": [
            "\r[*********************100%%**********************]  1 of 1 completed\n"
          ]
        },
        {
          "name": "stdout",
          "output_type": "stream",
          "text": [
            "6 BRK-B\n"
          ]
        },
        {
          "name": "stderr",
          "output_type": "stream",
          "text": [
            "\r[*********************100%%**********************]  1 of 1 completed\n"
          ]
        },
        {
          "name": "stdout",
          "output_type": "stream",
          "text": [
            "7 LLY\n"
          ]
        },
        {
          "name": "stderr",
          "output_type": "stream",
          "text": [
            "\r[*********************100%%**********************]  1 of 1 completed\n"
          ]
        },
        {
          "name": "stdout",
          "output_type": "stream",
          "text": [
            "8 AVGO\n"
          ]
        },
        {
          "name": "stderr",
          "output_type": "stream",
          "text": [
            "\r[*********************100%%**********************]  1 of 1 completed\n"
          ]
        },
        {
          "name": "stdout",
          "output_type": "stream",
          "text": [
            "9 V\n"
          ]
        },
        {
          "name": "stderr",
          "output_type": "stream",
          "text": [
            "\r[*********************100%%**********************]  1 of 1 completed\n"
          ]
        },
        {
          "name": "stdout",
          "output_type": "stream",
          "text": [
            "10 JPM\n"
          ]
        },
        {
          "name": "stderr",
          "output_type": "stream",
          "text": [
            "\r[*********************100%%**********************]  1 of 1 completed\n"
          ]
        },
        {
          "name": "stdout",
          "output_type": "stream",
          "text": [
            "11 NVO\n"
          ]
        },
        {
          "name": "stderr",
          "output_type": "stream",
          "text": [
            "\r[*********************100%%**********************]  1 of 1 completed\n"
          ]
        },
        {
          "name": "stdout",
          "output_type": "stream",
          "text": [
            "12 MC.PA\n"
          ]
        },
        {
          "name": "stderr",
          "output_type": "stream",
          "text": [
            "\r[*********************100%%**********************]  1 of 1 completed\n"
          ]
        },
        {
          "name": "stdout",
          "output_type": "stream",
          "text": [
            "13 ASML\n"
          ]
        },
        {
          "name": "stderr",
          "output_type": "stream",
          "text": [
            "\r[*********************100%%**********************]  1 of 1 completed\n"
          ]
        },
        {
          "name": "stdout",
          "output_type": "stream",
          "text": [
            "14 RMS.PA\n"
          ]
        },
        {
          "name": "stderr",
          "output_type": "stream",
          "text": [
            "\r[*********************100%%**********************]  1 of 1 completed\n"
          ]
        },
        {
          "name": "stdout",
          "output_type": "stream",
          "text": [
            "15 OR.PA\n"
          ]
        },
        {
          "name": "stderr",
          "output_type": "stream",
          "text": [
            "\r[*********************100%%**********************]  1 of 1 completed\n"
          ]
        },
        {
          "name": "stdout",
          "output_type": "stream",
          "text": [
            "16 SAP\n"
          ]
        },
        {
          "name": "stderr",
          "output_type": "stream",
          "text": [
            "\r[*********************100%%**********************]  1 of 1 completed\n"
          ]
        },
        {
          "name": "stdout",
          "output_type": "stream",
          "text": [
            "17 ACN\n"
          ]
        },
        {
          "name": "stderr",
          "output_type": "stream",
          "text": [
            "\r[*********************100%%**********************]  1 of 1 completed\n"
          ]
        },
        {
          "name": "stdout",
          "output_type": "stream",
          "text": [
            "18 TTE\n"
          ]
        },
        {
          "name": "stderr",
          "output_type": "stream",
          "text": [
            "\r[*********************100%%**********************]  1 of 1 completed\n"
          ]
        },
        {
          "name": "stdout",
          "output_type": "stream",
          "text": [
            "19 SIE.DE\n"
          ]
        },
        {
          "name": "stderr",
          "output_type": "stream",
          "text": [
            "\r[*********************100%%**********************]  1 of 1 completed\n"
          ]
        },
        {
          "name": "stdout",
          "output_type": "stream",
          "text": [
            "20 IDEXY\n"
          ]
        },
        {
          "name": "stderr",
          "output_type": "stream",
          "text": [
            "\r[*********************100%%**********************]  1 of 1 completed\n"
          ]
        },
        {
          "name": "stdout",
          "output_type": "stream",
          "text": [
            "21 CDI.PA\n"
          ]
        },
        {
          "name": "stderr",
          "output_type": "stream",
          "text": [
            "\r[*********************100%%**********************]  1 of 1 completed\n"
          ]
        },
        {
          "name": "stdout",
          "output_type": "stream",
          "text": [
            "22 RELIANCE.NS\n"
          ]
        },
        {
          "name": "stderr",
          "output_type": "stream",
          "text": [
            "\r[*********************100%%**********************]  1 of 1 completed\n"
          ]
        },
        {
          "name": "stdout",
          "output_type": "stream",
          "text": [
            "23 TCS.NS\n"
          ]
        },
        {
          "name": "stderr",
          "output_type": "stream",
          "text": [
            "\r[*********************100%%**********************]  1 of 1 completed\n"
          ]
        },
        {
          "name": "stdout",
          "output_type": "stream",
          "text": [
            "24 HDB\n"
          ]
        },
        {
          "name": "stderr",
          "output_type": "stream",
          "text": [
            "\r[*********************100%%**********************]  1 of 1 completed\n"
          ]
        },
        {
          "name": "stdout",
          "output_type": "stream",
          "text": [
            "25 BHARTIARTL.NS\n"
          ]
        },
        {
          "name": "stderr",
          "output_type": "stream",
          "text": [
            "\r[*********************100%%**********************]  1 of 1 completed\n"
          ]
        },
        {
          "name": "stdout",
          "output_type": "stream",
          "text": [
            "26 IBN\n"
          ]
        },
        {
          "name": "stderr",
          "output_type": "stream",
          "text": [
            "\r[*********************100%%**********************]  1 of 1 completed\n"
          ]
        },
        {
          "name": "stdout",
          "output_type": "stream",
          "text": [
            "27 SBIN.NS\n"
          ]
        },
        {
          "name": "stderr",
          "output_type": "stream",
          "text": [
            "[*********************100%%**********************]  1 of 1 completed\n",
            "[*********************100%%**********************]  1 of 1 completed"
          ]
        },
        {
          "name": "stdout",
          "output_type": "stream",
          "text": [
            "28 LICI.NS\n"
          ]
        },
        {
          "name": "stderr",
          "output_type": "stream",
          "text": [
            "\n"
          ]
        },
        {
          "name": "stdout",
          "output_type": "stream",
          "text": [
            "29 INFY\n"
          ]
        },
        {
          "name": "stderr",
          "output_type": "stream",
          "text": [
            "\r[*********************100%%**********************]  1 of 1 completed\n"
          ]
        },
        {
          "name": "stdout",
          "output_type": "stream",
          "text": [
            "30 ITC.NS\n"
          ]
        },
        {
          "name": "stderr",
          "output_type": "stream",
          "text": [
            "\r[*********************100%%**********************]  1 of 1 completed\n"
          ]
        },
        {
          "name": "stdout",
          "output_type": "stream",
          "text": [
            "31 HINDUNILVR.NS\n"
          ]
        },
        {
          "name": "stderr",
          "output_type": "stream",
          "text": [
            "\r[*********************100%%**********************]  1 of 1 completed\n"
          ]
        },
        {
          "name": "stdout",
          "output_type": "stream",
          "text": [
            "32 LT.NS\n"
          ]
        },
        {
          "name": "stderr",
          "output_type": "stream",
          "text": [
            "\r[*********************100%%**********************]  1 of 1 completed\n"
          ]
        },
        {
          "name": "stdout",
          "output_type": "stream",
          "text": [
            "33 PRX.AS\n"
          ]
        },
        {
          "name": "stderr",
          "output_type": "stream",
          "text": [
            "[*********************100%%**********************]  1 of 1 completed\n",
            "[*********************100%%**********************]  1 of 1 completed"
          ]
        },
        {
          "name": "stdout",
          "output_type": "stream",
          "text": [
            "34 CDI.PA\n"
          ]
        },
        {
          "name": "stderr",
          "output_type": "stream",
          "text": [
            "\n"
          ]
        },
        {
          "name": "stdout",
          "output_type": "stream",
          "text": [
            "35 AIR.PA\n"
          ]
        },
        {
          "name": "stderr",
          "output_type": "stream",
          "text": [
            "\r[*********************100%%**********************]  1 of 1 completed\n"
          ]
        },
        {
          "name": "stdout",
          "output_type": "stream",
          "text": [
            "36 SU.PA\n"
          ]
        },
        {
          "name": "stderr",
          "output_type": "stream",
          "text": [
            "\r[*********************100%%**********************]  1 of 1 completed\n"
          ]
        },
        {
          "name": "stdout",
          "output_type": "stream",
          "text": [
            "37 ETN\n"
          ]
        },
        {
          "name": "stderr",
          "output_type": "stream",
          "text": [
            "\r[*********************100%%**********************]  1 of 1 completed\n"
          ]
        },
        {
          "name": "stdout",
          "output_type": "stream",
          "text": [
            "38 SNY\n"
          ]
        },
        {
          "name": "stderr",
          "output_type": "stream",
          "text": [
            "\r[*********************100%%**********************]  1 of 1 completed\n"
          ]
        },
        {
          "name": "stdout",
          "output_type": "stream",
          "text": [
            "39 BUD\n"
          ]
        },
        {
          "name": "stderr",
          "output_type": "stream",
          "text": [
            "\r[*********************100%%**********************]  1 of 1 completed\n"
          ]
        },
        {
          "name": "stdout",
          "output_type": "stream",
          "text": [
            "40 DTE.DE\n"
          ]
        },
        {
          "name": "stderr",
          "output_type": "stream",
          "text": [
            "\r[*********************100%%**********************]  1 of 1 completed\n"
          ]
        },
        {
          "name": "stdout",
          "output_type": "stream",
          "text": [
            "41 ALV.DE\n"
          ]
        },
        {
          "name": "stderr",
          "output_type": "stream",
          "text": [
            "\r[*********************100%%**********************]  1 of 1 completed\n"
          ]
        },
        {
          "name": "stdout",
          "output_type": "stream",
          "text": [
            "42 MDT\n"
          ]
        },
        {
          "name": "stderr",
          "output_type": "stream",
          "text": [
            "\r[*********************100%%**********************]  1 of 1 completed\n"
          ]
        },
        {
          "name": "stdout",
          "output_type": "stream",
          "text": [
            "43 AI.PA\n"
          ]
        },
        {
          "name": "stderr",
          "output_type": "stream",
          "text": [
            "\r[*********************100%%**********************]  1 of 1 completed\n"
          ]
        },
        {
          "name": "stdout",
          "output_type": "stream",
          "text": [
            "44 EL.PA\n"
          ]
        },
        {
          "name": "stderr",
          "output_type": "stream",
          "text": [
            "\r[*********************100%%**********************]  1 of 1 completed\n"
          ]
        },
        {
          "name": "stdout",
          "output_type": "stream",
          "text": [
            "45 TSLA\n"
          ]
        },
        {
          "name": "stderr",
          "output_type": "stream",
          "text": [
            "\r[*********************100%%**********************]  1 of 1 completed\n"
          ]
        },
        {
          "name": "stdout",
          "output_type": "stream",
          "text": [
            "46 WMT\n"
          ]
        },
        {
          "name": "stderr",
          "output_type": "stream",
          "text": [
            "\r[*********************100%%**********************]  1 of 1 completed\n"
          ]
        },
        {
          "name": "stdout",
          "output_type": "stream",
          "text": [
            "47 XOM\n"
          ]
        },
        {
          "name": "stderr",
          "output_type": "stream",
          "text": [
            "\r[*********************100%%**********************]  1 of 1 completed\n"
          ]
        },
        {
          "name": "stdout",
          "output_type": "stream",
          "text": [
            "48 UNH\n"
          ]
        },
        {
          "name": "stderr",
          "output_type": "stream",
          "text": [
            "\r[*********************100%%**********************]  1 of 1 completed\n"
          ]
        },
        {
          "name": "stdout",
          "output_type": "stream",
          "text": [
            "49 MA\n"
          ]
        },
        {
          "name": "stderr",
          "output_type": "stream",
          "text": [
            "\r[*********************100%%**********************]  1 of 1 completed\n"
          ]
        },
        {
          "name": "stdout",
          "output_type": "stream",
          "text": [
            "50 PG\n"
          ]
        },
        {
          "name": "stderr",
          "output_type": "stream",
          "text": [
            "\r[*********************100%%**********************]  1 of 1 completed\n"
          ]
        },
        {
          "name": "stdout",
          "output_type": "stream",
          "text": [
            "51 JNJ\n"
          ]
        },
        {
          "name": "stderr",
          "output_type": "stream",
          "text": [
            "\r[*********************100%%**********************]  1 of 1 completed\n"
          ]
        },
        {
          "name": "stdout",
          "output_type": "stream",
          "text": [
            "52 MRK\n"
          ]
        },
        {
          "name": "stderr",
          "output_type": "stream",
          "text": [
            "\r[*********************100%%**********************]  1 of 1 completed\n"
          ]
        },
        {
          "name": "stdout",
          "output_type": "stream",
          "text": [
            "53 HD\n"
          ]
        },
        {
          "name": "stderr",
          "output_type": "stream",
          "text": [
            "\r[*********************100%%**********************]  1 of 1 completed\n"
          ]
        },
        {
          "name": "stdout",
          "output_type": "stream",
          "text": [
            "54 COST\n"
          ]
        },
        {
          "name": "stderr",
          "output_type": "stream",
          "text": [
            "\r[*********************100%%**********************]  1 of 1 completed\n"
          ]
        },
        {
          "name": "stdout",
          "output_type": "stream",
          "text": [
            "55 ORCL\n"
          ]
        },
        {
          "name": "stderr",
          "output_type": "stream",
          "text": [
            "\r[*********************100%%**********************]  1 of 1 completed\n"
          ]
        },
        {
          "name": "stdout",
          "output_type": "stream",
          "text": [
            "56 BAJFINANCE.NS\n"
          ]
        },
        {
          "name": "stderr",
          "output_type": "stream",
          "text": [
            "\r[*********************100%%**********************]  1 of 1 completed\n"
          ]
        },
        {
          "name": "stdout",
          "output_type": "stream",
          "text": [
            "57 MARUTI.NS\n"
          ]
        },
        {
          "name": "stderr",
          "output_type": "stream",
          "text": [
            "\r[*********************100%%**********************]  1 of 1 completed\n"
          ]
        },
        {
          "name": "stdout",
          "output_type": "stream",
          "text": [
            "58 HCLTECH.NS\n"
          ]
        },
        {
          "name": "stderr",
          "output_type": "stream",
          "text": [
            "\r[*********************100%%**********************]  1 of 1 completed\n"
          ]
        },
        {
          "name": "stdout",
          "output_type": "stream",
          "text": [
            "59 TATAMOTORS.NS\n"
          ]
        },
        {
          "name": "stderr",
          "output_type": "stream",
          "text": [
            "\r[*********************100%%**********************]  1 of 1 completed\n"
          ]
        },
        {
          "name": "stdout",
          "output_type": "stream",
          "text": [
            "60 SUNPHARMA.NS\n"
          ]
        },
        {
          "name": "stderr",
          "output_type": "stream",
          "text": [
            "\r[*********************100%%**********************]  1 of 1 completed\n"
          ]
        },
        {
          "name": "stdout",
          "output_type": "stream",
          "text": [
            "61 ONGC.NS\n"
          ]
        },
        {
          "name": "stderr",
          "output_type": "stream",
          "text": [
            "\r[*********************100%%**********************]  1 of 1 completed\n"
          ]
        },
        {
          "name": "stdout",
          "output_type": "stream",
          "text": [
            "62 ADANIENT.NS\n"
          ]
        },
        {
          "name": "stderr",
          "output_type": "stream",
          "text": [
            "[*********************100%%**********************]  1 of 1 completed\n",
            "[*********************100%%**********************]  1 of 1 completed"
          ]
        },
        {
          "name": "stdout",
          "output_type": "stream",
          "text": [
            "63 ADANIENT.NS\n"
          ]
        },
        {
          "name": "stderr",
          "output_type": "stream",
          "text": [
            "\n"
          ]
        },
        {
          "name": "stdout",
          "output_type": "stream",
          "text": [
            "64 NTPC.NS\n"
          ]
        },
        {
          "name": "stderr",
          "output_type": "stream",
          "text": [
            "\r[*********************100%%**********************]  1 of 1 completed\n"
          ]
        },
        {
          "name": "stdout",
          "output_type": "stream",
          "text": [
            "65 KOTAKBANK.NS\n"
          ]
        },
        {
          "name": "stderr",
          "output_type": "stream",
          "text": [
            "\r[*********************100%%**********************]  1 of 1 completed\n"
          ]
        },
        {
          "name": "stdout",
          "output_type": "stream",
          "text": [
            "66 TITAN.NS\n"
          ]
        },
        {
          "name": "stderr",
          "output_type": "stream",
          "text": [
            "\r[*********************100%%**********************]  1 of 1 completed\n"
          ]
        }
      ],
      "source": [
        "start = '2013-12-20'\n",
        "end = '2023-12-31'\n",
        "stocks_df = pd.DataFrame({'A' : []})\n",
        "\n",
        "for i,ticker in enumerate(ALL_TICKERS):\n",
        "  print(i,ticker)\n",
        "\n",
        "  # Work with stock prices\n",
        "  historyPrices = yf.download(tickers = ticker,\n",
        "                              start = start,\n",
        "                              end = end,\n",
        "                              interval = \"1d\")\n",
        "\n",
        "  # generate features for historical prices, and what we want to predict\n",
        "  historyPrices['Ticker'] = ticker\n",
        "  historyPrices['Year']= historyPrices.index.year\n",
        "  historyPrices['Month'] = historyPrices.index.month\n",
        "  historyPrices['Weekday'] = historyPrices.index.weekday\n",
        "  historyPrices['Date'] = historyPrices.index.date\n",
        "\n",
        "  # historical returns\n",
        "\n",
        "  # historyPrices['growth_7d'] = historyPrices['Adj Close'] / historyPrices['Adj Close'].shift(7)\n",
        "  # historyPrices['growth_future_5d'] = historyPrices['Adj Close'].shift(-5) / historyPrices['Adj Close']\n",
        "\n",
        "  # Technical indicators\n",
        "  # SimpleMovingAverage 10 days and 20 days\n",
        "  # historyPrices['SMA10']= historyPrices['Close'].rolling(10).mean()\n",
        "  # historyPrices['SMA20']= historyPrices['Close'].rolling(20).mean()\n",
        "  # historyPrices['growing_moving_average'] = np.where(historyPrices['SMA10'] > historyPrices['SMA20'], 1, 0)\n",
        "  # historyPrices['high_minus_low_relative'] = (historyPrices.High - historyPrices.Low) / historyPrices['Adj Close']\n",
        "\n",
        "  # 30d rolling volatility : https://ycharts.com/glossary/terms/rolling_vol_30\n",
        "  # historyPrices['volatility'] =   historyPrices['Adj Close'].rolling(30).std() * np.sqrt(252)\n",
        "\n",
        "  # what we want to predict\n",
        "  # historyPrices['is_positive_growth_5d_future'] = np.where(historyPrices['growth_future_5d'] > 1, 1, 0)\n",
        "\n",
        "  # sleep 1 sec between downloads - not to overload the API server\n",
        "  time.sleep(1)\n",
        "\n",
        "\n",
        "  if stocks_df.empty:\n",
        "    stocks_df = historyPrices\n",
        "  else:\n",
        "    stocks_df = pd.concat([stocks_df, historyPrices], ignore_index=True)"
      ]
    },
    {
      "cell_type": "code",
      "execution_count": 76,
      "id": "BuNBD00oseMH",
      "metadata": {
        "id": "BuNBD00oseMH"
      },
      "outputs": [],
      "source": [
        "def get_ticker_type(ticker:str, largest_stocks_list, large_stocks_list):\n",
        "  if ticker in largest_stocks_list:\n",
        "    return 'LARGEST'\n",
        "  elif ticker in large_stocks_list:\n",
        "    return 'LARGE'\n",
        "  else:\n",
        "    return 'ERROR'"
      ]
    },
    {
      "cell_type": "code",
      "execution_count": 77,
      "id": "EI-LCgrrsseN",
      "metadata": {
        "id": "EI-LCgrrsseN"
      },
      "outputs": [],
      "source": [
        "stocks_df['ticker_type'] = stocks_df.Ticker.apply(lambda x:get_ticker_type(x, LARGEST_STOCKS, LARGE_STOCKS))"
      ]
    },
    {
      "cell_type": "code",
      "execution_count": 78,
      "id": "lG05kcbws3Fz",
      "metadata": {
        "id": "lG05kcbws3Fz",
        "colab": {
          "base_uri": "https://localhost:8080/"
        },
        "outputId": "ce5d4592-6f3c-46f1-8253-26acd15bddfe"
      },
      "outputs": [
        {
          "output_type": "execute_result",
          "data": {
            "text/plain": [
              "ticker_type\n",
              "LARGEST    83546\n",
              "LARGE      81498\n",
              "Name: count, dtype: int64"
            ]
          },
          "metadata": {},
          "execution_count": 78
        }
      ],
      "source": [
        "# count of observations between US-EU-INDIA stocks\n",
        "stocks_df.ticker_type.value_counts()"
      ]
    },
    {
      "cell_type": "code",
      "execution_count": 79,
      "id": "wOLtPuB3s5n4",
      "metadata": {
        "id": "wOLtPuB3s5n4",
        "colab": {
          "base_uri": "https://localhost:8080/"
        },
        "outputId": "98ed5568-975a-411e-fab6-c1c0b9cae73e"
      },
      "outputs": [
        {
          "output_type": "execute_result",
          "data": {
            "text/plain": [
              "65"
            ]
          },
          "metadata": {},
          "execution_count": 79
        }
      ],
      "source": [
        "# unique tickers\n",
        "stocks_df.Ticker.nunique()"
      ]
    },
    {
      "cell_type": "code",
      "execution_count": 80,
      "id": "EOKQedyfs-8I",
      "metadata": {
        "id": "EOKQedyfs-8I",
        "colab": {
          "base_uri": "https://localhost:8080/",
          "height": 455
        },
        "outputId": "9307b1b9-b4d9-4666-e9c9-eb1914fd4258"
      },
      "outputs": [
        {
          "output_type": "execute_result",
          "data": {
            "text/plain": [
              "                                min         max\n",
              "Ticker      ticker_type                        \n",
              "AAPL        LARGEST      2013-12-20  2023-12-29\n",
              "ACN         LARGEST      2013-12-20  2023-12-29\n",
              "ADANIENT.NS LARGE        2013-12-20  2023-12-29\n",
              "AI.PA       LARGE        2013-12-20  2023-12-29\n",
              "AIR.PA      LARGE        2013-12-20  2023-12-29\n",
              "...                             ...         ...\n",
              "TTE         LARGEST      2013-12-20  2023-12-29\n",
              "UNH         LARGE        2013-12-20  2023-12-29\n",
              "V           LARGEST      2013-12-20  2023-12-29\n",
              "WMT         LARGE        2013-12-20  2023-12-29\n",
              "XOM         LARGE        2013-12-20  2023-12-29\n",
              "\n",
              "[65 rows x 2 columns]"
            ],
            "text/html": [
              "\n",
              "  <div id=\"df-96e6a64d-8bba-415a-b68a-0ada6eca8d83\" class=\"colab-df-container\">\n",
              "    <div>\n",
              "<style scoped>\n",
              "    .dataframe tbody tr th:only-of-type {\n",
              "        vertical-align: middle;\n",
              "    }\n",
              "\n",
              "    .dataframe tbody tr th {\n",
              "        vertical-align: top;\n",
              "    }\n",
              "\n",
              "    .dataframe thead th {\n",
              "        text-align: right;\n",
              "    }\n",
              "</style>\n",
              "<table border=\"1\" class=\"dataframe\">\n",
              "  <thead>\n",
              "    <tr style=\"text-align: right;\">\n",
              "      <th></th>\n",
              "      <th></th>\n",
              "      <th>min</th>\n",
              "      <th>max</th>\n",
              "    </tr>\n",
              "    <tr>\n",
              "      <th>Ticker</th>\n",
              "      <th>ticker_type</th>\n",
              "      <th></th>\n",
              "      <th></th>\n",
              "    </tr>\n",
              "  </thead>\n",
              "  <tbody>\n",
              "    <tr>\n",
              "      <th>AAPL</th>\n",
              "      <th>LARGEST</th>\n",
              "      <td>2013-12-20</td>\n",
              "      <td>2023-12-29</td>\n",
              "    </tr>\n",
              "    <tr>\n",
              "      <th>ACN</th>\n",
              "      <th>LARGEST</th>\n",
              "      <td>2013-12-20</td>\n",
              "      <td>2023-12-29</td>\n",
              "    </tr>\n",
              "    <tr>\n",
              "      <th>ADANIENT.NS</th>\n",
              "      <th>LARGE</th>\n",
              "      <td>2013-12-20</td>\n",
              "      <td>2023-12-29</td>\n",
              "    </tr>\n",
              "    <tr>\n",
              "      <th>AI.PA</th>\n",
              "      <th>LARGE</th>\n",
              "      <td>2013-12-20</td>\n",
              "      <td>2023-12-29</td>\n",
              "    </tr>\n",
              "    <tr>\n",
              "      <th>AIR.PA</th>\n",
              "      <th>LARGE</th>\n",
              "      <td>2013-12-20</td>\n",
              "      <td>2023-12-29</td>\n",
              "    </tr>\n",
              "    <tr>\n",
              "      <th>...</th>\n",
              "      <th>...</th>\n",
              "      <td>...</td>\n",
              "      <td>...</td>\n",
              "    </tr>\n",
              "    <tr>\n",
              "      <th>TTE</th>\n",
              "      <th>LARGEST</th>\n",
              "      <td>2013-12-20</td>\n",
              "      <td>2023-12-29</td>\n",
              "    </tr>\n",
              "    <tr>\n",
              "      <th>UNH</th>\n",
              "      <th>LARGE</th>\n",
              "      <td>2013-12-20</td>\n",
              "      <td>2023-12-29</td>\n",
              "    </tr>\n",
              "    <tr>\n",
              "      <th>V</th>\n",
              "      <th>LARGEST</th>\n",
              "      <td>2013-12-20</td>\n",
              "      <td>2023-12-29</td>\n",
              "    </tr>\n",
              "    <tr>\n",
              "      <th>WMT</th>\n",
              "      <th>LARGE</th>\n",
              "      <td>2013-12-20</td>\n",
              "      <td>2023-12-29</td>\n",
              "    </tr>\n",
              "    <tr>\n",
              "      <th>XOM</th>\n",
              "      <th>LARGE</th>\n",
              "      <td>2013-12-20</td>\n",
              "      <td>2023-12-29</td>\n",
              "    </tr>\n",
              "  </tbody>\n",
              "</table>\n",
              "<p>65 rows × 2 columns</p>\n",
              "</div>\n",
              "    <div class=\"colab-df-buttons\">\n",
              "\n",
              "  <div class=\"colab-df-container\">\n",
              "    <button class=\"colab-df-convert\" onclick=\"convertToInteractive('df-96e6a64d-8bba-415a-b68a-0ada6eca8d83')\"\n",
              "            title=\"Convert this dataframe to an interactive table.\"\n",
              "            style=\"display:none;\">\n",
              "\n",
              "  <svg xmlns=\"http://www.w3.org/2000/svg\" height=\"24px\" viewBox=\"0 -960 960 960\">\n",
              "    <path d=\"M120-120v-720h720v720H120Zm60-500h600v-160H180v160Zm220 220h160v-160H400v160Zm0 220h160v-160H400v160ZM180-400h160v-160H180v160Zm440 0h160v-160H620v160ZM180-180h160v-160H180v160Zm440 0h160v-160H620v160Z\"/>\n",
              "  </svg>\n",
              "    </button>\n",
              "\n",
              "  <style>\n",
              "    .colab-df-container {\n",
              "      display:flex;\n",
              "      gap: 12px;\n",
              "    }\n",
              "\n",
              "    .colab-df-convert {\n",
              "      background-color: #E8F0FE;\n",
              "      border: none;\n",
              "      border-radius: 50%;\n",
              "      cursor: pointer;\n",
              "      display: none;\n",
              "      fill: #1967D2;\n",
              "      height: 32px;\n",
              "      padding: 0 0 0 0;\n",
              "      width: 32px;\n",
              "    }\n",
              "\n",
              "    .colab-df-convert:hover {\n",
              "      background-color: #E2EBFA;\n",
              "      box-shadow: 0px 1px 2px rgba(60, 64, 67, 0.3), 0px 1px 3px 1px rgba(60, 64, 67, 0.15);\n",
              "      fill: #174EA6;\n",
              "    }\n",
              "\n",
              "    .colab-df-buttons div {\n",
              "      margin-bottom: 4px;\n",
              "    }\n",
              "\n",
              "    [theme=dark] .colab-df-convert {\n",
              "      background-color: #3B4455;\n",
              "      fill: #D2E3FC;\n",
              "    }\n",
              "\n",
              "    [theme=dark] .colab-df-convert:hover {\n",
              "      background-color: #434B5C;\n",
              "      box-shadow: 0px 1px 3px 1px rgba(0, 0, 0, 0.15);\n",
              "      filter: drop-shadow(0px 1px 2px rgba(0, 0, 0, 0.3));\n",
              "      fill: #FFFFFF;\n",
              "    }\n",
              "  </style>\n",
              "\n",
              "    <script>\n",
              "      const buttonEl =\n",
              "        document.querySelector('#df-96e6a64d-8bba-415a-b68a-0ada6eca8d83 button.colab-df-convert');\n",
              "      buttonEl.style.display =\n",
              "        google.colab.kernel.accessAllowed ? 'block' : 'none';\n",
              "\n",
              "      async function convertToInteractive(key) {\n",
              "        const element = document.querySelector('#df-96e6a64d-8bba-415a-b68a-0ada6eca8d83');\n",
              "        const dataTable =\n",
              "          await google.colab.kernel.invokeFunction('convertToInteractive',\n",
              "                                                    [key], {});\n",
              "        if (!dataTable) return;\n",
              "\n",
              "        const docLinkHtml = 'Like what you see? Visit the ' +\n",
              "          '<a target=\"_blank\" href=https://colab.research.google.com/notebooks/data_table.ipynb>data table notebook</a>'\n",
              "          + ' to learn more about interactive tables.';\n",
              "        element.innerHTML = '';\n",
              "        dataTable['output_type'] = 'display_data';\n",
              "        await google.colab.output.renderOutput(dataTable, element);\n",
              "        const docLink = document.createElement('div');\n",
              "        docLink.innerHTML = docLinkHtml;\n",
              "        element.appendChild(docLink);\n",
              "      }\n",
              "    </script>\n",
              "  </div>\n",
              "\n",
              "\n",
              "<div id=\"df-80e0fee1-3f7e-4d58-bad9-5820e542f6e3\">\n",
              "  <button class=\"colab-df-quickchart\" onclick=\"quickchart('df-80e0fee1-3f7e-4d58-bad9-5820e542f6e3')\"\n",
              "            title=\"Suggest charts\"\n",
              "            style=\"display:none;\">\n",
              "\n",
              "<svg xmlns=\"http://www.w3.org/2000/svg\" height=\"24px\"viewBox=\"0 0 24 24\"\n",
              "     width=\"24px\">\n",
              "    <g>\n",
              "        <path d=\"M19 3H5c-1.1 0-2 .9-2 2v14c0 1.1.9 2 2 2h14c1.1 0 2-.9 2-2V5c0-1.1-.9-2-2-2zM9 17H7v-7h2v7zm4 0h-2V7h2v10zm4 0h-2v-4h2v4z\"/>\n",
              "    </g>\n",
              "</svg>\n",
              "  </button>\n",
              "\n",
              "<style>\n",
              "  .colab-df-quickchart {\n",
              "      --bg-color: #E8F0FE;\n",
              "      --fill-color: #1967D2;\n",
              "      --hover-bg-color: #E2EBFA;\n",
              "      --hover-fill-color: #174EA6;\n",
              "      --disabled-fill-color: #AAA;\n",
              "      --disabled-bg-color: #DDD;\n",
              "  }\n",
              "\n",
              "  [theme=dark] .colab-df-quickchart {\n",
              "      --bg-color: #3B4455;\n",
              "      --fill-color: #D2E3FC;\n",
              "      --hover-bg-color: #434B5C;\n",
              "      --hover-fill-color: #FFFFFF;\n",
              "      --disabled-bg-color: #3B4455;\n",
              "      --disabled-fill-color: #666;\n",
              "  }\n",
              "\n",
              "  .colab-df-quickchart {\n",
              "    background-color: var(--bg-color);\n",
              "    border: none;\n",
              "    border-radius: 50%;\n",
              "    cursor: pointer;\n",
              "    display: none;\n",
              "    fill: var(--fill-color);\n",
              "    height: 32px;\n",
              "    padding: 0;\n",
              "    width: 32px;\n",
              "  }\n",
              "\n",
              "  .colab-df-quickchart:hover {\n",
              "    background-color: var(--hover-bg-color);\n",
              "    box-shadow: 0 1px 2px rgba(60, 64, 67, 0.3), 0 1px 3px 1px rgba(60, 64, 67, 0.15);\n",
              "    fill: var(--button-hover-fill-color);\n",
              "  }\n",
              "\n",
              "  .colab-df-quickchart-complete:disabled,\n",
              "  .colab-df-quickchart-complete:disabled:hover {\n",
              "    background-color: var(--disabled-bg-color);\n",
              "    fill: var(--disabled-fill-color);\n",
              "    box-shadow: none;\n",
              "  }\n",
              "\n",
              "  .colab-df-spinner {\n",
              "    border: 2px solid var(--fill-color);\n",
              "    border-color: transparent;\n",
              "    border-bottom-color: var(--fill-color);\n",
              "    animation:\n",
              "      spin 1s steps(1) infinite;\n",
              "  }\n",
              "\n",
              "  @keyframes spin {\n",
              "    0% {\n",
              "      border-color: transparent;\n",
              "      border-bottom-color: var(--fill-color);\n",
              "      border-left-color: var(--fill-color);\n",
              "    }\n",
              "    20% {\n",
              "      border-color: transparent;\n",
              "      border-left-color: var(--fill-color);\n",
              "      border-top-color: var(--fill-color);\n",
              "    }\n",
              "    30% {\n",
              "      border-color: transparent;\n",
              "      border-left-color: var(--fill-color);\n",
              "      border-top-color: var(--fill-color);\n",
              "      border-right-color: var(--fill-color);\n",
              "    }\n",
              "    40% {\n",
              "      border-color: transparent;\n",
              "      border-right-color: var(--fill-color);\n",
              "      border-top-color: var(--fill-color);\n",
              "    }\n",
              "    60% {\n",
              "      border-color: transparent;\n",
              "      border-right-color: var(--fill-color);\n",
              "    }\n",
              "    80% {\n",
              "      border-color: transparent;\n",
              "      border-right-color: var(--fill-color);\n",
              "      border-bottom-color: var(--fill-color);\n",
              "    }\n",
              "    90% {\n",
              "      border-color: transparent;\n",
              "      border-bottom-color: var(--fill-color);\n",
              "    }\n",
              "  }\n",
              "</style>\n",
              "\n",
              "  <script>\n",
              "    async function quickchart(key) {\n",
              "      const quickchartButtonEl =\n",
              "        document.querySelector('#' + key + ' button');\n",
              "      quickchartButtonEl.disabled = true;  // To prevent multiple clicks.\n",
              "      quickchartButtonEl.classList.add('colab-df-spinner');\n",
              "      try {\n",
              "        const charts = await google.colab.kernel.invokeFunction(\n",
              "            'suggestCharts', [key], {});\n",
              "      } catch (error) {\n",
              "        console.error('Error during call to suggestCharts:', error);\n",
              "      }\n",
              "      quickchartButtonEl.classList.remove('colab-df-spinner');\n",
              "      quickchartButtonEl.classList.add('colab-df-quickchart-complete');\n",
              "    }\n",
              "    (() => {\n",
              "      let quickchartButtonEl =\n",
              "        document.querySelector('#df-80e0fee1-3f7e-4d58-bad9-5820e542f6e3 button');\n",
              "      quickchartButtonEl.style.display =\n",
              "        google.colab.kernel.accessAllowed ? 'block' : 'none';\n",
              "    })();\n",
              "  </script>\n",
              "</div>\n",
              "\n",
              "    </div>\n",
              "  </div>\n"
            ],
            "application/vnd.google.colaboratory.intrinsic+json": {
              "type": "dataframe",
              "summary": "{\n  \"name\": \"stocks_df\",\n  \"rows\": 65,\n  \"fields\": [\n    {\n      \"column\": \"min\",\n      \"properties\": {\n        \"dtype\": \"date\",\n        \"min\": \"2013-12-20\",\n        \"max\": \"2022-05-17\",\n        \"num_unique_values\": 3,\n        \"samples\": [\n          \"2013-12-20\",\n          \"2022-05-17\",\n          \"2019-09-11\"\n        ],\n        \"semantic_type\": \"\",\n        \"description\": \"\"\n      }\n    },\n    {\n      \"column\": \"max\",\n      \"properties\": {\n        \"dtype\": \"date\",\n        \"min\": \"2023-12-29\",\n        \"max\": \"2023-12-29\",\n        \"num_unique_values\": 1,\n        \"samples\": [\n          \"2023-12-29\"\n        ],\n        \"semantic_type\": \"\",\n        \"description\": \"\"\n      }\n    }\n  ]\n}"
            }
          },
          "metadata": {},
          "execution_count": 80
        }
      ],
      "source": [
        "stocks_df.groupby(['Ticker','ticker_type']).Date.agg(['min','max'])"
      ]
    },
    {
      "cell_type": "code",
      "execution_count": 94,
      "id": "NvDP7ufctJNf",
      "metadata": {
        "id": "NvDP7ufctJNf"
      },
      "outputs": [],
      "source": [
        "# Assuming you have a DataFrame 'stock_data' with columns: 'Date', 'Ticker', 'Close'\n",
        "# Calculate growth_7d for each stock\n",
        "stocks_df['growth_7d'] = stocks_df.groupby('Ticker')['Close'].pct_change(periods=7) + 1"
      ]
    },
    {
      "cell_type": "code",
      "execution_count": 99,
      "id": "8Cm4yGfktUbC",
      "metadata": {
        "id": "8Cm4yGfktUbC"
      },
      "outputs": [],
      "source": [
        "# Create a pivot table\n",
        "pivot_table = pd.pivot_table(stocks_df, values='growth_7d', index='Date', columns='ticker_type')"
      ]
    },
    {
      "cell_type": "code",
      "source": [
        "# Calculate average daily growth_7d for LARGE and LARGEST groups\n",
        "average_growth_large = pivot_table['LARGE'].mean()\n",
        "average_growth_largest = pivot_table['LARGEST'].mean()\n",
        "\n",
        "# Calculate the percentage of days when LARGE outperforms LARGEST\n",
        "total_days = len(pivot_table)\n",
        "days_large_outperformed = len(pivot_table[pivot_table['LARGE'] > pivot_table['LARGEST']])\n",
        "percentage_large_outperformed = int((days_large_outperformed / total_days) * 100)\n",
        "\n",
        "print(f\"Average daily growth_7d for LARGE group: {average_growth_large:.4f}\")\n",
        "print(f\"Average daily growth_7d for LARGEST group: {average_growth_largest:.4f}\")\n",
        "print(f\"Percentage of days when LARGE outperformed LARGEST: {percentage_large_outperformed}%\")"
      ],
      "metadata": {
        "colab": {
          "base_uri": "https://localhost:8080/"
        },
        "id": "2yOyOgTy-i3x",
        "outputId": "1e38ed00-b6ac-4870-d36f-b0892e4380aa"
      },
      "id": "2yOyOgTy-i3x",
      "execution_count": 100,
      "outputs": [
        {
          "output_type": "stream",
          "name": "stdout",
          "text": [
            "Average daily growth_7d for LARGE group: 1.0024\n",
            "Average daily growth_7d for LARGEST group: 1.0037\n",
            "Percentage of days when LARGE outperformed LARGEST: 46%\n"
          ]
        }
      ]
    },
    {
      "cell_type": "markdown",
      "source": [
        "## Question 4: Trying Another Technical Indicators strategy\n",
        "What's the total gross profit (in THOUSANDS of $) you'll get from trading on CCI (no fees assumption)?\n",
        "\n",
        "First, run the entire Colab to obtain the full DataFrame of data (after [Code Snippet 9]), and truncate it to the last full 10 years of data (2014-01-01 to 2023-12-31). If you encounter any difficulties running the Colab - you can download it using this link.\n",
        "\n",
        "Let's assume you've learned about the awesome CCI indicator (Commodity Channel Index), and decided to use only it for your operations.\n",
        "\n",
        "You defined the \"defensive\" value of a high threshould of 200, and you trade only on Fridays (Date.dt.dayofweek()==4).\n",
        "\n",
        "That is, every time you see that CCI is >200 for any stock (out of those 33), you'll invest $1000 (each record when CCI>200) at Adj.Close price and hold it for 1 week (5 trading days) in order to sell at the Adj. Close price.\n",
        "\n",
        "What's the expected gross profit (no fees) that you get in THOUSANDS $ (closest integer value) over many operations in 10 years? One operation calculations: if you invested $1000 and received $1010 in 5 days - you add $10 to gross profit, if you received $980 - add -$20 to gross profit. You need to sum these results over all trades (460 times in 10 years).\n",
        "\n",
        "Additional:\n",
        "\n",
        "Add an approximate fees calculation over the 460 trades from this calculator https://www.degiro.ie/fees/calculator (Product:\"Shares, USA and Canada;\" Amount per transaction: \"1000 EUR\"; Transactions per year: \"460\")\n",
        "are you still profitable on those trades?"
      ],
      "metadata": {
        "id": "mTQ1B9ObCXsX"
      },
      "id": "mTQ1B9ObCXsX"
    },
    {
      "cell_type": "markdown",
      "source": [
        "## [EXPLORATORY] Question 5: Finding Your Strategy for IPOs\n",
        "You've seen in the first questions that the median and average investments are negative in IPOs, and you can't blindly invest in all deals.\n",
        "\n",
        "How would you correct/refine the approach? Briefly describe the steps and the data you'll try to get (it should be generally feasible to do it from public sources - no access to internal data of companies)?\n",
        "\n",
        "E.g. (some ideas) Do you want to focus on the specific vertical? Do you want to build a smart comparison vs. existing stocks on the market? Or you just will want to get some features (which features?) like total number of people in a company to find a segment of \"successful\" IPOs?"
      ],
      "metadata": {
        "id": "xVeyX_knZIXe"
      },
      "id": "xVeyX_knZIXe"
    },
    {
      "cell_type": "markdown",
      "source": [
        "Long-Term vs. Short-Term View:\n",
        "Decide whether you’re looking for short-term gains (flipping) or long-term investment.\n",
        "Some IPOs experience initial volatility but perform well over time."
      ],
      "metadata": {
        "id": "qxSRd9CzaR93"
      },
      "id": "qxSRd9CzaR93"
    }
  ],
  "metadata": {
    "colab": {
      "provenance": []
    },
    "kernelspec": {
      "display_name": "Python 3 (ipykernel)",
      "language": "python",
      "name": "python3"
    },
    "language_info": {
      "codemirror_mode": {
        "name": "ipython",
        "version": 3
      },
      "file_extension": ".py",
      "mimetype": "text/x-python",
      "name": "python",
      "nbconvert_exporter": "python",
      "pygments_lexer": "ipython3",
      "version": "3.11.5"
    }
  },
  "nbformat": 4,
  "nbformat_minor": 5
}